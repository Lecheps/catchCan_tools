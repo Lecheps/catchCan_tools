{
 "cells": [
  {
   "cell_type": "markdown",
   "id": "bf22d4d1",
   "metadata": {},
   "source": [
    "# Getting data from aquamonitor"
   ]
  },
  {
   "cell_type": "code",
   "execution_count": 1,
   "id": "341db510",
   "metadata": {},
   "outputs": [],
   "source": [
    "import requests\n",
    "import getpass\n",
    "import json\n",
    "import xmltodict\n",
    "from fabric import Connection"
   ]
  },
  {
   "cell_type": "code",
   "execution_count": 2,
   "id": "6f7c21aa",
   "metadata": {},
   "outputs": [],
   "source": [
    "username = getpass.getpass('username: ')\n",
    "password = getpass.getpass('password: ')"
   ]
  },
  {
   "cell_type": "code",
   "execution_count": 3,
   "id": "a77777dd",
   "metadata": {},
   "outputs": [],
   "source": [
    "host = \"http://www.aquamonitor.no/\""
   ]
  },
  {
   "cell_type": "code",
   "execution_count": 4,
   "id": "b96bb7bd",
   "metadata": {},
   "outputs": [
    {
     "data": {
      "text/plain": [
       "200"
      ]
     },
     "metadata": {},
     "output_type": "display_data"
    },
    {
     "data": {
      "text/plain": [
       "{'Cookie': 'aqua_key=MVXN8p9YjoJrYlQKvIS45KOvjjBU1NWQT4XmEJB15nk=;'}"
      ]
     },
     "execution_count": 4,
     "metadata": {},
     "output_type": "execute_result"
    }
   ],
   "source": [
    "#Logging in\n",
    "login_url =  host + \"AquaServices\" + \"/WebServices/LoginService.asmx/AuthenticateUser\"\n",
    "\n",
    "r = requests.get(login_url,params=login_params)\n",
    "display(r.status_code)\n",
    "login_dict = xmltodict.parse(r.text)\n",
    "token = login_dict['UserCargo']['Token']\n",
    "key = login_dict['UserCargo']['Key']\n",
    "\n",
    "headers = {'Cookie' : 'aqua_key={};'.format(token)}\n",
    "headers"
   ]
  },
  {
   "cell_type": "code",
   "execution_count": 5,
   "id": "7aa2be62",
   "metadata": {},
   "outputs": [],
   "source": [
    "project_codes = {'Langtjern' : 4300, 'Birkenes' : 2898} #The project should include the stations we are interested in"
   ]
  },
  {
   "cell_type": "code",
   "execution_count": 6,
   "id": "ae638f6f",
   "metadata": {},
   "outputs": [
    {
     "data": {
      "text/plain": [
       "{'Bøye i Langtjern': 50472,\n",
       " 'Utløp av Langtjern': 51356,\n",
       " 'Utløp av Langtjern - jord': 51357,\n",
       " 'Utløp av Langtjern - luft': 51358,\n",
       " 'Værstasjon ved Langtjern': 62040,\n",
       " 'Innløpet LAE03 - Langtjern': 63099,\n",
       " 'Birkenes': 37927}"
      ]
     },
     "execution_count": 6,
     "metadata": {},
     "output_type": "execute_result"
    }
   ],
   "source": [
    "# Getting all data for available projects at Langtjern and Birkenes\n",
    "#Filtering stations in project by name\n",
    "station_codes = {}\n",
    "for i,j in project_codes.items():\n",
    "    projectsurl = 'AquaServices/api/projects/{projectId}/Stations'.format(projectId=j) #9906\n",
    "    r = requests.get(host + projectsurl,headers=headers)\n",
    "#     display(r.json())\n",
    "    station_codes.update({k['Name'] : k['Id'] for k in r.json() if i in k['Name']})\n",
    "\n",
    "station_codes"
   ]
  },
  {
   "cell_type": "code",
   "execution_count": 73,
   "id": "29a26c9b",
   "metadata": {},
   "outputs": [],
   "source": [
    "#Creating directory to store aquamonitor data\n",
    "from fabric import Connection\n",
    "with Connection('localhost') as c:\n",
    "    c.local('''rm -rf aquamonitor && mkdir aquamonitor''')"
   ]
  },
  {
   "cell_type": "code",
   "execution_count": 76,
   "id": "c58b0c81",
   "metadata": {},
   "outputs": [
    {
     "data": {
      "text/plain": [
       "{'Cookie': 'aqua_key=MVXN8p9YjoJrYlQKvIS45KOvjjBU1NWQT4XmEJB15nk=;',\n",
       " 'Content-Type': 'application/json'}"
      ]
     },
     "metadata": {},
     "output_type": "display_data"
    },
    {
     "data": {
      "text/plain": [
       "'Processing station Bøye i Langtjern'"
      ]
     },
     "metadata": {},
     "output_type": "display_data"
    },
    {
     "data": {
      "text/plain": [
       "'zpdsvel'"
      ]
     },
     "metadata": {},
     "output_type": "display_data"
    },
    {
     "data": {
      "text/plain": [
       "'Processing station Utløp av Langtjern'"
      ]
     },
     "metadata": {},
     "output_type": "display_data"
    },
    {
     "data": {
      "text/plain": [
       "'rgumhmb'"
      ]
     },
     "metadata": {},
     "output_type": "display_data"
    },
    {
     "data": {
      "text/plain": [
       "'Processing station Utløp av Langtjern - jord'"
      ]
     },
     "metadata": {},
     "output_type": "display_data"
    },
    {
     "data": {
      "text/plain": [
       "'nufrjun'"
      ]
     },
     "metadata": {},
     "output_type": "display_data"
    },
    {
     "data": {
      "text/plain": [
       "'Processing station Utløp av Langtjern - luft'"
      ]
     },
     "metadata": {},
     "output_type": "display_data"
    },
    {
     "data": {
      "text/plain": [
       "'limuzzt'"
      ]
     },
     "metadata": {},
     "output_type": "display_data"
    },
    {
     "data": {
      "text/plain": [
       "'Processing station Værstasjon ved Langtjern'"
      ]
     },
     "metadata": {},
     "output_type": "display_data"
    },
    {
     "data": {
      "text/plain": [
       "'stdmuuz'"
      ]
     },
     "metadata": {},
     "output_type": "display_data"
    },
    {
     "data": {
      "text/plain": [
       "'Processing station Innløpet LAE03 - Langtjern'"
      ]
     },
     "metadata": {},
     "output_type": "display_data"
    },
    {
     "data": {
      "text/plain": [
       "'nttpqve'"
      ]
     },
     "metadata": {},
     "output_type": "display_data"
    },
    {
     "data": {
      "text/plain": [
       "'Processing station Birkenes'"
      ]
     },
     "metadata": {},
     "output_type": "display_data"
    },
    {
     "data": {
      "text/plain": [
       "'bzylsud'"
      ]
     },
     "metadata": {},
     "output_type": "display_data"
    }
   ],
   "source": [
    "#Creating data file\n",
    "from datetime import date\n",
    "archiveurl = host + 'AquaServices/files/archive/{aid}'\n",
    "datafileurl = host + 'AquaServices/files/datafile'\n",
    "\n",
    "today = date.today().strftime('%d.%m.%Y')\n",
    "startDate = '01.01.1900' #So as to get the entire timeseries\n",
    "# endDate = today\n",
    "\n",
    "datawhere = '''sample_date>={startDate} and sample_date<={endDate}'''.format(startDate=startDate,\n",
    "                                                                             endDate=today)\n",
    "\n",
    "params = {\"Expires\": (date.today() + datetime.timedelta(days=1)).strftime('%Y.%m.%d'),\n",
    "       \"Title\": '',\n",
    "       \"Files\":[{\"Filename\": '',\n",
    "                \"ContentType\":\"text/csv\"}],\n",
    "       \"Definition\":{\"Format\":\"csv\",\n",
    "                     \"StationIds\": [ '' ],\n",
    "                     \"DataWhere\": datawhere\n",
    "                    }\n",
    "        }\n",
    "\n",
    "headers['Content-Type'] = 'application/json'\n",
    "display(headers)\n",
    "\n",
    "for i,j in station_codes.items():\n",
    "    params['Title'] = i.replace(' ','_')\n",
    "    filename = params['Title'] + '.csv'\n",
    "    params['Files'][0]['Filename'] = filename\n",
    "    params['Definition']['StationIds'] = [j]\n",
    "    display('Processing station {}'.format(i))\n",
    "    #Create datafile in server\n",
    "    r = requests.post(datafileurl,json=params,cookies=dict(aqua_key=token))\n",
    "    currentId = r.json()['Id']\n",
    "#     display(currentId)\n",
    "    #Generating archive\n",
    "    archived = False\n",
    "    while not archived:\n",
    "#         display(archiveurl.format(aid=currentId))\n",
    "        resp = requests.get(archiveurl.format(aid=currentId),cookies = dict(aqua_key=token))\n",
    "        archived = resp.json().get('Archived')\n",
    "    #Downloading the archive\n",
    "    fr = requests.get(archiveurl.format(aid=currentId) + '/' +filename ,cookies = dict(aqua_key=token))\n",
    "    with open('./aquamonitor/{}'.format(filename),'wb') as fd:\n",
    "        for chunk in fr.iter_content(chunk_size=256):\n",
    "            fd.write(chunk)\n",
    "        \n",
    "\n"
   ]
  },
  {
   "cell_type": "code",
   "execution_count": 77,
   "id": "691d4e41",
   "metadata": {},
   "outputs": [
    {
     "data": {
      "text/html": [
       "<div>\n",
       "<style scoped>\n",
       "    .dataframe tbody tr th:only-of-type {\n",
       "        vertical-align: middle;\n",
       "    }\n",
       "\n",
       "    .dataframe tbody tr th {\n",
       "        vertical-align: top;\n",
       "    }\n",
       "\n",
       "    .dataframe thead th {\n",
       "        text-align: right;\n",
       "    }\n",
       "</style>\n",
       "<table border=\"1\" class=\"dataframe\">\n",
       "  <thead>\n",
       "    <tr style=\"text-align: right;\">\n",
       "      <th></th>\n",
       "      <th>ProjectId</th>\n",
       "      <th>ProjectName</th>\n",
       "      <th>StationId</th>\n",
       "      <th>StationCode</th>\n",
       "      <th>StationName</th>\n",
       "      <th>SampleDate_dato</th>\n",
       "      <th>SampleDate_tid</th>\n",
       "      <th>Depth1</th>\n",
       "      <th>Depth2</th>\n",
       "      <th>Al/IL_µg/l</th>\n",
       "      <th>...</th>\n",
       "      <th>NH4-N_µg/l</th>\n",
       "      <th>NO3-N_µg/l</th>\n",
       "      <th>pH</th>\n",
       "      <th>PO4-P_µg/l</th>\n",
       "      <th>SO4_mg/L</th>\n",
       "      <th>TOC_mg/l</th>\n",
       "      <th>TOTN_µg/l</th>\n",
       "      <th>TOTN (est.)_µg/l</th>\n",
       "      <th>TOTN (old EF)_µg/l</th>\n",
       "      <th>TOTP_µg/l</th>\n",
       "    </tr>\n",
       "  </thead>\n",
       "  <tbody>\n",
       "    <tr>\n",
       "      <th>0</th>\n",
       "      <td>2898</td>\n",
       "      <td>FELTFO</td>\n",
       "      <td>37927</td>\n",
       "      <td>BIE01</td>\n",
       "      <td>Birkenes</td>\n",
       "      <td>07.05.2018</td>\n",
       "      <td>0:00:00</td>\n",
       "      <td>0.0</td>\n",
       "      <td>0.0</td>\n",
       "      <td>100.0</td>\n",
       "      <td>...</td>\n",
       "      <td>&lt; 2</td>\n",
       "      <td>250.0</td>\n",
       "      <td>4.71</td>\n",
       "      <td>&lt; 1</td>\n",
       "      <td>1.56</td>\n",
       "      <td>5.6</td>\n",
       "      <td>450.0</td>\n",
       "      <td>NaN</td>\n",
       "      <td>NaN</td>\n",
       "      <td>3.0</td>\n",
       "    </tr>\n",
       "    <tr>\n",
       "      <th>1</th>\n",
       "      <td>2898</td>\n",
       "      <td>FELTFO</td>\n",
       "      <td>37927</td>\n",
       "      <td>BIE01</td>\n",
       "      <td>Birkenes</td>\n",
       "      <td>14.05.2018</td>\n",
       "      <td>0:00:00</td>\n",
       "      <td>0.0</td>\n",
       "      <td>0.0</td>\n",
       "      <td>100.0</td>\n",
       "      <td>...</td>\n",
       "      <td>&lt; 2</td>\n",
       "      <td>110.0</td>\n",
       "      <td>5.11</td>\n",
       "      <td>&lt; 1</td>\n",
       "      <td>1.56</td>\n",
       "      <td>6.4</td>\n",
       "      <td>NaN</td>\n",
       "      <td>361.670</td>\n",
       "      <td>280.0</td>\n",
       "      <td>4.0</td>\n",
       "    </tr>\n",
       "    <tr>\n",
       "      <th>2</th>\n",
       "      <td>2898</td>\n",
       "      <td>FELTFO</td>\n",
       "      <td>37927</td>\n",
       "      <td>BIE01</td>\n",
       "      <td>Birkenes</td>\n",
       "      <td>21.05.2018</td>\n",
       "      <td>0:00:00</td>\n",
       "      <td>0.0</td>\n",
       "      <td>0.0</td>\n",
       "      <td>96.0</td>\n",
       "      <td>...</td>\n",
       "      <td>&lt; 2</td>\n",
       "      <td>100.0</td>\n",
       "      <td>4.94</td>\n",
       "      <td>&lt; 1</td>\n",
       "      <td>1.69</td>\n",
       "      <td>5.9</td>\n",
       "      <td>NaN</td>\n",
       "      <td>351.693</td>\n",
       "      <td>270.0</td>\n",
       "      <td>4.0</td>\n",
       "    </tr>\n",
       "    <tr>\n",
       "      <th>3</th>\n",
       "      <td>2898</td>\n",
       "      <td>FELTFO</td>\n",
       "      <td>37927</td>\n",
       "      <td>BIE01</td>\n",
       "      <td>Birkenes</td>\n",
       "      <td>28.05.2018</td>\n",
       "      <td>0:00:00</td>\n",
       "      <td>0.0</td>\n",
       "      <td>0.0</td>\n",
       "      <td>100.0</td>\n",
       "      <td>...</td>\n",
       "      <td>4.0</td>\n",
       "      <td>73.0</td>\n",
       "      <td>5.04</td>\n",
       "      <td>&lt; 1</td>\n",
       "      <td>1.63</td>\n",
       "      <td>6.7</td>\n",
       "      <td>NaN</td>\n",
       "      <td>349.093</td>\n",
       "      <td>260.0</td>\n",
       "      <td>5.0</td>\n",
       "    </tr>\n",
       "    <tr>\n",
       "      <th>4</th>\n",
       "      <td>2898</td>\n",
       "      <td>FELTFO</td>\n",
       "      <td>37927</td>\n",
       "      <td>BIE01</td>\n",
       "      <td>Birkenes</td>\n",
       "      <td>04.06.2018</td>\n",
       "      <td>0:00:00</td>\n",
       "      <td>0.0</td>\n",
       "      <td>0.0</td>\n",
       "      <td>140.0</td>\n",
       "      <td>...</td>\n",
       "      <td>7.0</td>\n",
       "      <td>33.0</td>\n",
       "      <td>5.03</td>\n",
       "      <td>&lt; 1</td>\n",
       "      <td>1.52</td>\n",
       "      <td>11.5</td>\n",
       "      <td>NaN</td>\n",
       "      <td>524.406</td>\n",
       "      <td>360.0</td>\n",
       "      <td>11.0</td>\n",
       "    </tr>\n",
       "    <tr>\n",
       "      <th>...</th>\n",
       "      <td>...</td>\n",
       "      <td>...</td>\n",
       "      <td>...</td>\n",
       "      <td>...</td>\n",
       "      <td>...</td>\n",
       "      <td>...</td>\n",
       "      <td>...</td>\n",
       "      <td>...</td>\n",
       "      <td>...</td>\n",
       "      <td>...</td>\n",
       "      <td>...</td>\n",
       "      <td>...</td>\n",
       "      <td>...</td>\n",
       "      <td>...</td>\n",
       "      <td>...</td>\n",
       "      <td>...</td>\n",
       "      <td>...</td>\n",
       "      <td>...</td>\n",
       "      <td>...</td>\n",
       "      <td>...</td>\n",
       "      <td>...</td>\n",
       "    </tr>\n",
       "    <tr>\n",
       "      <th>700</th>\n",
       "      <td>12470</td>\n",
       "      <td>Sur nedbør - Feltfo 2019</td>\n",
       "      <td>37927</td>\n",
       "      <td>BIE01</td>\n",
       "      <td>Birkenes</td>\n",
       "      <td>01.02.2021</td>\n",
       "      <td>0:00:00</td>\n",
       "      <td>0.0</td>\n",
       "      <td>0.0</td>\n",
       "      <td>52.0</td>\n",
       "      <td>...</td>\n",
       "      <td>36.0</td>\n",
       "      <td>120.0</td>\n",
       "      <td>5.09</td>\n",
       "      <td>&lt; 1</td>\n",
       "      <td>1.68</td>\n",
       "      <td>3.2</td>\n",
       "      <td>270.0</td>\n",
       "      <td>NaN</td>\n",
       "      <td>NaN</td>\n",
       "      <td>1.0</td>\n",
       "    </tr>\n",
       "    <tr>\n",
       "      <th>701</th>\n",
       "      <td>12470</td>\n",
       "      <td>Sur nedbør - Feltfo 2019</td>\n",
       "      <td>37927</td>\n",
       "      <td>BIE01</td>\n",
       "      <td>Birkenes</td>\n",
       "      <td>08.02.2021</td>\n",
       "      <td>0:00:00</td>\n",
       "      <td>0.0</td>\n",
       "      <td>0.0</td>\n",
       "      <td>43.0</td>\n",
       "      <td>...</td>\n",
       "      <td>48.0</td>\n",
       "      <td>150.0</td>\n",
       "      <td>5.19</td>\n",
       "      <td>&lt; 1</td>\n",
       "      <td>2.03</td>\n",
       "      <td>2.9</td>\n",
       "      <td>250.0</td>\n",
       "      <td>NaN</td>\n",
       "      <td>NaN</td>\n",
       "      <td>2.0</td>\n",
       "    </tr>\n",
       "    <tr>\n",
       "      <th>702</th>\n",
       "      <td>12470</td>\n",
       "      <td>Sur nedbør - Feltfo 2019</td>\n",
       "      <td>37927</td>\n",
       "      <td>BIE01</td>\n",
       "      <td>Birkenes</td>\n",
       "      <td>15.02.2021</td>\n",
       "      <td>0:00:00</td>\n",
       "      <td>0.0</td>\n",
       "      <td>0.0</td>\n",
       "      <td>57.0</td>\n",
       "      <td>...</td>\n",
       "      <td>62.0</td>\n",
       "      <td>140.0</td>\n",
       "      <td>5.66</td>\n",
       "      <td>&lt; 1</td>\n",
       "      <td>1.84</td>\n",
       "      <td>2.9</td>\n",
       "      <td>310.0</td>\n",
       "      <td>NaN</td>\n",
       "      <td>NaN</td>\n",
       "      <td>2.0</td>\n",
       "    </tr>\n",
       "    <tr>\n",
       "      <th>703</th>\n",
       "      <td>12470</td>\n",
       "      <td>Sur nedbør - Feltfo 2019</td>\n",
       "      <td>37927</td>\n",
       "      <td>BIE01</td>\n",
       "      <td>Birkenes</td>\n",
       "      <td>01.03.2021</td>\n",
       "      <td>0:00:00</td>\n",
       "      <td>0.0</td>\n",
       "      <td>0.0</td>\n",
       "      <td>65.0</td>\n",
       "      <td>...</td>\n",
       "      <td>9.0</td>\n",
       "      <td>150.0</td>\n",
       "      <td>4.83</td>\n",
       "      <td>&lt; 1</td>\n",
       "      <td>1.52</td>\n",
       "      <td>3.6</td>\n",
       "      <td>290.0</td>\n",
       "      <td>NaN</td>\n",
       "      <td>NaN</td>\n",
       "      <td>2.0</td>\n",
       "    </tr>\n",
       "    <tr>\n",
       "      <th>704</th>\n",
       "      <td>12470</td>\n",
       "      <td>Sur nedbør - Feltfo 2019</td>\n",
       "      <td>37927</td>\n",
       "      <td>BIE01</td>\n",
       "      <td>Birkenes</td>\n",
       "      <td>08.03.2021</td>\n",
       "      <td>0:00:00</td>\n",
       "      <td>0.0</td>\n",
       "      <td>0.0</td>\n",
       "      <td>60.0</td>\n",
       "      <td>...</td>\n",
       "      <td>13.0</td>\n",
       "      <td>160.0</td>\n",
       "      <td>5.23</td>\n",
       "      <td>&lt; 1</td>\n",
       "      <td>1.78</td>\n",
       "      <td>3.3</td>\n",
       "      <td>220.0</td>\n",
       "      <td>NaN</td>\n",
       "      <td>NaN</td>\n",
       "      <td>2.0</td>\n",
       "    </tr>\n",
       "  </tbody>\n",
       "</table>\n",
       "<p>705 rows × 30 columns</p>\n",
       "</div>"
      ],
      "text/plain": [
       "     ProjectId               ProjectName  StationId StationCode StationName  \\\n",
       "0         2898                    FELTFO      37927       BIE01    Birkenes   \n",
       "1         2898                    FELTFO      37927       BIE01    Birkenes   \n",
       "2         2898                    FELTFO      37927       BIE01    Birkenes   \n",
       "3         2898                    FELTFO      37927       BIE01    Birkenes   \n",
       "4         2898                    FELTFO      37927       BIE01    Birkenes   \n",
       "..         ...                       ...        ...         ...         ...   \n",
       "700      12470  Sur nedbør - Feltfo 2019      37927       BIE01    Birkenes   \n",
       "701      12470  Sur nedbør - Feltfo 2019      37927       BIE01    Birkenes   \n",
       "702      12470  Sur nedbør - Feltfo 2019      37927       BIE01    Birkenes   \n",
       "703      12470  Sur nedbør - Feltfo 2019      37927       BIE01    Birkenes   \n",
       "704      12470  Sur nedbør - Feltfo 2019      37927       BIE01    Birkenes   \n",
       "\n",
       "    SampleDate_dato SampleDate_tid  Depth1  Depth2  Al/IL_µg/l  ...  \\\n",
       "0        07.05.2018        0:00:00     0.0     0.0       100.0  ...   \n",
       "1        14.05.2018        0:00:00     0.0     0.0       100.0  ...   \n",
       "2        21.05.2018        0:00:00     0.0     0.0        96.0  ...   \n",
       "3        28.05.2018        0:00:00     0.0     0.0       100.0  ...   \n",
       "4        04.06.2018        0:00:00     0.0     0.0       140.0  ...   \n",
       "..              ...            ...     ...     ...         ...  ...   \n",
       "700      01.02.2021        0:00:00     0.0     0.0        52.0  ...   \n",
       "701      08.02.2021        0:00:00     0.0     0.0        43.0  ...   \n",
       "702      15.02.2021        0:00:00     0.0     0.0        57.0  ...   \n",
       "703      01.03.2021        0:00:00     0.0     0.0        65.0  ...   \n",
       "704      08.03.2021        0:00:00     0.0     0.0        60.0  ...   \n",
       "\n",
       "     NH4-N_µg/l  NO3-N_µg/l    pH  PO4-P_µg/l  SO4_mg/L  TOC_mg/l  TOTN_µg/l  \\\n",
       "0           < 2       250.0  4.71         < 1      1.56       5.6      450.0   \n",
       "1           < 2       110.0  5.11         < 1      1.56       6.4        NaN   \n",
       "2           < 2       100.0  4.94         < 1      1.69       5.9        NaN   \n",
       "3           4.0        73.0  5.04         < 1      1.63       6.7        NaN   \n",
       "4           7.0        33.0  5.03         < 1      1.52      11.5        NaN   \n",
       "..          ...         ...   ...         ...       ...       ...        ...   \n",
       "700        36.0       120.0  5.09         < 1      1.68       3.2      270.0   \n",
       "701        48.0       150.0  5.19         < 1      2.03       2.9      250.0   \n",
       "702        62.0       140.0  5.66         < 1      1.84       2.9      310.0   \n",
       "703         9.0       150.0  4.83         < 1      1.52       3.6      290.0   \n",
       "704        13.0       160.0  5.23         < 1      1.78       3.3      220.0   \n",
       "\n",
       "     TOTN (est.)_µg/l  TOTN (old EF)_µg/l  TOTP_µg/l  \n",
       "0                 NaN                 NaN        3.0  \n",
       "1             361.670               280.0        4.0  \n",
       "2             351.693               270.0        4.0  \n",
       "3             349.093               260.0        5.0  \n",
       "4             524.406               360.0       11.0  \n",
       "..                ...                 ...        ...  \n",
       "700               NaN                 NaN        1.0  \n",
       "701               NaN                 NaN        2.0  \n",
       "702               NaN                 NaN        2.0  \n",
       "703               NaN                 NaN        2.0  \n",
       "704               NaN                 NaN        2.0  \n",
       "\n",
       "[705 rows x 30 columns]"
      ]
     },
     "execution_count": 77,
     "metadata": {},
     "output_type": "execute_result"
    }
   ],
   "source": [
    "import pandas as pd\n",
    "df = pd.read_csv('./aquamonitor/Birkenes.csv',delimiter=';',encoding='utf-16')\n",
    "df"
   ]
  }
 ],
 "metadata": {
  "kernelspec": {
   "display_name": "Python 3",
   "language": "python",
   "name": "python3"
  },
  "language_info": {
   "codemirror_mode": {
    "name": "ipython",
    "version": 3
   },
   "file_extension": ".py",
   "mimetype": "text/x-python",
   "name": "python",
   "nbconvert_exporter": "python",
   "pygments_lexer": "ipython3",
   "version": "3.8.8"
  }
 },
 "nbformat": 4,
 "nbformat_minor": 5
}
