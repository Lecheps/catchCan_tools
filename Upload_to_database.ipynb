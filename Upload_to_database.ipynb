{
 "cells": [
  {
   "cell_type": "markdown",
   "id": "refined-contemporary",
   "metadata": {},
   "source": [
    "## Upload netcdf data to database"
   ]
  },
  {
   "cell_type": "code",
   "execution_count": 1,
   "id": "honey-summer",
   "metadata": {},
   "outputs": [
    {
     "name": "stdin",
     "output_type": "stream",
     "text": [
      "mobiserver password:  ·······\n",
      "vault password:  ···············\n"
     ]
    }
   ],
   "source": [
    "import requests\n",
    "import json\n",
    "import matplotlib.pyplot as plt\n",
    "import datetime\n",
    "import pandas as pd\n",
    "from datetime import datetime\n",
    "from datetime import timedelta\n",
    "from fabric import Connection\n",
    "import psycopg2\n",
    "import pandas.io.sql as sqlio\n",
    "import getpass\n",
    "from io import StringIO\n",
    "import paramiko\n",
    "import sys\n",
    "from time import sleep\n",
    "import xarray as xr\n",
    "from joblib import Parallel,delayed\n",
    "\n",
    "sys.path.insert(0, \"/home/jovyan/watexr/PROGNOS/\")\n",
    "from prognos_tools.gce_light import gce_api as gce\n",
    "\n",
    "key = getpass.getpass('mobiserver password: ')\n",
    "vaultKey = getpass.getpass('vault password: ')\n",
    "#Querying necessary tokens\n",
    "def query(query,fetch=True):\n",
    "    with psycopg2.connect(user='jose-luis', host='mobiserver.niva.no', port=5432, database='vault',password=key) as db:\n",
    "        with db.cursor() as cursor :\n",
    "            cursor.execute(query)\n",
    "            if fetch:\n",
    "                result = sqlio.read_sql_query(query, db)\n",
    "                return result\n",
    "\n",
    "\n",
    "cloudKey = json.loads(query('''select niva.getToken('gce_access','{}');'''.format(vaultKey)).iloc[0,0])\n",
    "sshKey = query('''select niva.getToken('geonorway_ssh_key','{}');'''.format(vaultKey)).iloc[0,0]\n",
    "not_really_a_file = StringIO(sshKey)\n",
    "geo_key = paramiko.RSAKey.from_private_key(not_really_a_file)\n",
    "\n",
    "del key,sshKey,vaultKey"
   ]
  },
  {
   "cell_type": "markdown",
   "id": "arranged-balance",
   "metadata": {},
   "source": [
    "## Starting instance with database"
   ]
  },
  {
   "cell_type": "code",
   "execution_count": 2,
   "id": "removable-particular",
   "metadata": {},
   "outputs": [
    {
     "data": {
      "text/plain": [
       "'RUNNING'"
      ]
     },
     "metadata": {},
     "output_type": "display_data"
    },
    {
     "data": {
      "text/plain": [
       "'35.228.213.48'"
      ]
     },
     "metadata": {},
     "output_type": "display_data"
    }
   ],
   "source": [
    "#Check status of instance\n",
    "\n",
    "#Properties of the instance containing the database\n",
    "geo_props = {'project'      : 'nivacatchment',\n",
    "             'zone'         : 'europe-north1-a',\n",
    "             'instanceName' : \"dtm10\",\n",
    "             'username'     : \"jose-luis\",\n",
    "             }\n",
    "\n",
    "#Setting up credential for google cloud\n",
    "cloud = gce(geo_props, cloudKey)\n",
    "\n",
    "\n",
    "#Getting instance info\n",
    "cloud.CommonCalls['custom'] = '''https://compute.googleapis.com/compute/v1/projects/{project}/zones/{zone}/instances/{instanceName}'''\n",
    "info = cloud.get('custom')\n",
    "display(info['status'])\n",
    "#If instance is stopped, start it\n",
    "if info['status'] != 'RUNNING':\n",
    "    cloud.CommonCalls['custom'] = '''https://compute.googleapis.com/compute/v1/projects/{project}/zones/{zone}/instances/{instanceName}/start'''\n",
    "    info = cloud.post('custom')\n",
    "    display(info['status'])\n",
    "    cloud.CommonCalls['custom'] = '''https://compute.googleapis.com/compute/v1/projects/{project}/zones/{zone}/instances/{instanceName}'''\n",
    "    info = cloud.get('custom')\n",
    "    while info['status'] != 'RUNNING':\n",
    "           sleep(2)\n",
    "           info = cloud.get('custom')\n",
    "        \n",
    "del cloudKey        \n",
    "   \n",
    "geo_ip = info['networkInterfaces'][0]['accessConfigs'][0]['natIP']    \n",
    "display(geo_ip)\n",
    "geo_config =  {'host' : geo_ip, 'user': 'jose-luis', 'connect_kwargs': {'pkey': geo_key } }\n",
    "\n",
    "#Function to query the database\n",
    "def query(query,fetch=True):\n",
    "    with psycopg2.connect(user='jose-luis', host=geo_ip, port=5432, database='geonorway') as db:\n",
    "        with db.cursor() as cursor :\n",
    "            cursor.execute(query)\n",
    "            if fetch:\n",
    "                result = sqlio.read_sql_query(query, db)\n",
    "                return result"
   ]
  },
  {
   "cell_type": "code",
   "execution_count": 3,
   "id": "organized-afghanistan",
   "metadata": {},
   "outputs": [
    {
     "data": {
      "text/plain": [
       "<matplotlib.image.AxesImage at 0x7f306df1d370>"
      ]
     },
     "execution_count": 3,
     "metadata": {},
     "output_type": "execute_result"
    },
    {
     "data": {
      "image/png": "[encoded data removed]",
      "text/plain": [
       "<Figure size 432x288 with 1 Axes>"
      ]
     },
     "metadata": {
      "needs_background": "light"
     },
     "output_type": "display_data"
    }
   ],
   "source": [
    "#Getting information for the netcdf data to be uploaded. It is assumed that all the netcdf files cover the same extent \n",
    "\n",
    "data = xr.load_dataset('../shared/era5-land/europe_01-01-1981.nc')\n",
    "pev=data['pev']\n",
    "time=data['time']\n",
    "longitude=data['longitude']\n",
    "latitude=data['latitude']\n",
    "plt.imshow(pev[0])\n"
   ]
  },
  {
   "cell_type": "code",
   "execution_count": 4,
   "id": "relative-parameter",
   "metadata": {},
   "outputs": [],
   "source": [
    "#Creating schema and tables to store the netcdf data\n",
    "schema = 'era5land'\n",
    "\n",
    "sql = '''drop schema if exists {schema} cascade;\n",
    "\n",
    "create schema {schema};\n",
    "\n",
    "create table {schema}.latitude(cid int unique primary key,latitude int unique);\n",
    "\n",
    "create table {schema}.longitude(rid int unique primary key,longitude int unique);\n",
    "\n",
    "create table {schema}.location(sid serial unique primary key,index int unique,\n",
    "row int references {schema}.longitude(rid), \n",
    "col int references {schema}.latitude(cid), \n",
    "geom geography(polygon,4326),\n",
    "point geometry(point,4326),\n",
    "unique(row,col));\n",
    "\n",
    "create table {schema}.variables(sid int references {schema}.location(index), fecha timestamptz, pet double precision, unique (sid,fecha));\n",
    "\n",
    "insert into {schema}.longitude(rid,longitude) values {long};\n",
    "insert into {schema}.latitude(cid,latitude) values {lat};\n",
    "\n",
    "--netcdf file should be row ordered\n",
    "--alter sequence serial restart with 0;\n",
    "insert into {schema}.location(index,row,col) values {rc};\n",
    "update {schema}.location as a\n",
    "set geom = st_makeEnvelope((cast(longitude as double precision)-5)/100,\n",
    "(cast(latitude as double precision)-5)/100,\n",
    "(cast(longitude as double precision)+5)/100,\n",
    "(cast(latitude as double precision)+5)/100,4326)\n",
    "from {schema}.longitude as b, {schema}.latitude as c\n",
    "where b.rid = a.row  and c.cid = a.col;\n",
    "\n",
    "update {schema}.location as a\n",
    "set point = st_setsrid(st_makePoint(cast(longitude as double precision)/100,\n",
    "cast(latitude as double precision)/100),4326)\n",
    "from {schema}.longitude as b, {schema}.latitude as c\n",
    "where b.rid = a.row  and c.cid = a.col;\n",
    "\n",
    "create index {schema}_location_point_idx on {schema}.location using gist(point);\n",
    "create index {schema}_location_geom_idx on {schema}.location using gist(geom);\n",
    "\n",
    "'''.format(schema=schema,\n",
    "long = '(' + '),('.join(['{},{}'.format(j,i) for i,j in zip([int(round(k*100)) for k in longitude.values],range(longitude.size))]) + ')',\n",
    "lat =  '(' + '),('.join(['{},{}'.format(j,i) for i,j in zip([int(round(k*100)) for k in latitude.values],range(latitude.size))]) + ')', \n",
    "rc = '(' + '),('.join(['{},{},{}'.format(c+r*longitude.size,r,c) for r in range(longitude.size) for c in range(latitude.size) ]) + ')'\n",
    ")\n",
    "\n",
    "query(sql, fetch=False)"
   ]
  },
  {
   "cell_type": "code",
   "execution_count": 8,
   "id": "arabic-substitute",
   "metadata": {},
   "outputs": [
    {
     "name": "stdout",
     "output_type": "stream",
     "text": [
      "CPU times: user 149 ms, sys: 125 ms, total: 274 ms\n",
      "Wall time: 44.2 s\n"
     ]
    },
    {
     "data": {
      "text/plain": [
       "[None,\n",
       " None,\n",
       " None,\n",
       " None,\n",
       " None,\n",
       " None,\n",
       " None,\n",
       " None,\n",
       " None,\n",
       " None,\n",
       " None,\n",
       " None,\n",
       " None,\n",
       " None,\n",
       " None,\n",
       " None,\n",
       " None,\n",
       " None,\n",
       " None,\n",
       " None,\n",
       " None,\n",
       " None,\n",
       " None]"
      ]
     },
     "execution_count": 8,
     "metadata": {},
     "output_type": "execute_result"
    }
   ],
   "source": [
    "%%time\n",
    "#Inserting netcdf data\n",
    "sql = '''insert into {schema}.variables (sid,fecha,pet) values {val} on conflict do nothing;\n",
    "'''\n",
    "shape = pev.shape\n",
    "\n",
    "def insertDate(cnt):\n",
    "    to_insert = '(' + \\\n",
    "        '),('.join([(\"{},'{}-00',{}\".format(col + row*shape[2],\n",
    "                                            time.values[cnt],\n",
    "                                            pev.values[cnt,row,col] if pev.values[cnt,row,col] == pev.values[cnt,row,col] else 'Null'\n",
    "                                            )\n",
    "                    ) for row in range(shape[1]) for col in range(shape[2])]  \\\n",
    "                  ) + \\\n",
    "        ')' #range(shape[0])\n",
    "    query(sql.format(schema=schema,val=to_insert),fetch=False)\n",
    "\n",
    "Parallel(n_jobs=8)(delayed(insertDate)(date) for date in range(shape[0]))\n",
    "\n",
    "# with open('sql.sql','w') as f:\n",
    "#     cnt = -1\n",
    "#     for i in time.values[:8]:\n",
    "#         cnt += 1\n",
    "#         to_insert = '(' + \\\n",
    "#         '),('.join([(\"{},'{}-00',{}\".format(col + row*shape[2],\n",
    "#                                             i,\n",
    "#                                             pev.values[cnt,row,col] if pev.values[cnt,row,col] == pev.values[cnt,row,col] else 'Null'\n",
    "#                                             )\n",
    "#                     ) for row in range(shape[1]) for col in range(shape[2])]  \\\n",
    "#                   ) + \\\n",
    "#         ')' #range(shape[0])\n",
    "#         f.write(sql.format(schema=schema,val=to_insert))\n",
    "#         f.write('\\n')\n",
    "\n",
    "# with Connection(**geo_config) as c:\n",
    "#     c.put('sql.sql')\n",
    "#     c.run('psql -d geonorway -f sql.sql')\n",
    "#     c.run('rm sql.sql')"
   ]
  },
  {
   "cell_type": "code",
   "execution_count": 38,
   "id": "acute-copying",
   "metadata": {},
   "outputs": [
    {
     "data": {
      "text/html": [
       "<div>\n",
       "<style scoped>\n",
       "    .dataframe tbody tr th:only-of-type {\n",
       "        vertical-align: middle;\n",
       "    }\n",
       "\n",
       "    .dataframe tbody tr th {\n",
       "        vertical-align: top;\n",
       "    }\n",
       "\n",
       "    .dataframe thead th {\n",
       "        text-align: right;\n",
       "    }\n",
       "</style>\n",
       "<table border=\"1\" class=\"dataframe\">\n",
       "  <thead>\n",
       "    <tr style=\"text-align: right;\">\n",
       "      <th></th>\n",
       "      <th>lat</th>\n",
       "      <th>long</th>\n",
       "    </tr>\n",
       "  </thead>\n",
       "  <tbody>\n",
       "    <tr>\n",
       "      <th>0</th>\n",
       "      <td>491</td>\n",
       "      <td>491</td>\n",
       "    </tr>\n",
       "  </tbody>\n",
       "</table>\n",
       "</div>"
      ],
      "text/plain": [
       "   lat  long\n",
       "0  491   491"
      ]
     },
     "metadata": {},
     "output_type": "display_data"
    },
    {
     "data": {
      "text/plain": [
       "<matplotlib.image.AxesImage at 0x7f305eb24520>"
      ]
     },
     "execution_count": 38,
     "metadata": {},
     "output_type": "execute_result"
    },
    {
     "data": {
      "image/png": "[encoded data removed]",
      "text/plain": [
       "<Figure size 432x288 with 1 Axes>"
      ]
     },
     "metadata": {
      "needs_background": "light"
     },
     "output_type": "display_data"
    }
   ],
   "source": [
    "#Checking things where properly stored\n",
    "#Getting size of raster\n",
    "a = query('''select (select count(*) from era5land.latitude) as lat, \n",
    "(select count(*) from era5land.longitude) as long''')\n",
    "display(a)\n",
    "#Getting raster values for a given timestamptz (sid is in row major order)\n",
    "b = query('''select * from era5land.variables where fecha='1981-01-01 22:00:00-01' order by sid;''')\n",
    "b = b['pet'].values.reshape(a.loc[0,'long'],a.loc[0,'lat'])\n",
    "plt.imshow(b)"
   ]
  },
  {
   "cell_type": "code",
   "execution_count": 13,
   "id": "aggressive-tunisia",
   "metadata": {},
   "outputs": [
    {
     "data": {
      "text/html": [
       "<div>\n",
       "<style scoped>\n",
       "    .dataframe tbody tr th:only-of-type {\n",
       "        vertical-align: middle;\n",
       "    }\n",
       "\n",
       "    .dataframe tbody tr th {\n",
       "        vertical-align: top;\n",
       "    }\n",
       "\n",
       "    .dataframe thead th {\n",
       "        text-align: right;\n",
       "    }\n",
       "</style>\n",
       "<table border=\"1\" class=\"dataframe\">\n",
       "  <thead>\n",
       "    <tr style=\"text-align: right;\">\n",
       "      <th></th>\n",
       "      <th>fecha</th>\n",
       "    </tr>\n",
       "  </thead>\n",
       "  <tbody>\n",
       "    <tr>\n",
       "      <th>0</th>\n",
       "      <td>1981-01-01 11:00:00+00:00</td>\n",
       "    </tr>\n",
       "    <tr>\n",
       "      <th>1</th>\n",
       "      <td>1981-01-01 02:00:00+00:00</td>\n",
       "    </tr>\n",
       "    <tr>\n",
       "      <th>2</th>\n",
       "      <td>1981-01-01 05:00:00+00:00</td>\n",
       "    </tr>\n",
       "    <tr>\n",
       "      <th>3</th>\n",
       "      <td>1981-01-01 08:00:00+00:00</td>\n",
       "    </tr>\n",
       "    <tr>\n",
       "      <th>4</th>\n",
       "      <td>1981-01-01 22:00:00+00:00</td>\n",
       "    </tr>\n",
       "    <tr>\n",
       "      <th>5</th>\n",
       "      <td>1981-01-01 20:00:00+00:00</td>\n",
       "    </tr>\n",
       "    <tr>\n",
       "      <th>6</th>\n",
       "      <td>1981-01-01 07:00:00+00:00</td>\n",
       "    </tr>\n",
       "    <tr>\n",
       "      <th>7</th>\n",
       "      <td>1981-01-01 23:00:00+00:00</td>\n",
       "    </tr>\n",
       "    <tr>\n",
       "      <th>8</th>\n",
       "      <td>1981-01-01 18:00:00+00:00</td>\n",
       "    </tr>\n",
       "    <tr>\n",
       "      <th>9</th>\n",
       "      <td>1981-01-01 17:00:00+00:00</td>\n",
       "    </tr>\n",
       "    <tr>\n",
       "      <th>10</th>\n",
       "      <td>1981-01-01 15:00:00+00:00</td>\n",
       "    </tr>\n",
       "    <tr>\n",
       "      <th>11</th>\n",
       "      <td>1981-01-01 12:00:00+00:00</td>\n",
       "    </tr>\n",
       "    <tr>\n",
       "      <th>12</th>\n",
       "      <td>1981-01-01 19:00:00+00:00</td>\n",
       "    </tr>\n",
       "    <tr>\n",
       "      <th>13</th>\n",
       "      <td>1981-01-01 04:00:00+00:00</td>\n",
       "    </tr>\n",
       "    <tr>\n",
       "      <th>14</th>\n",
       "      <td>1981-01-01 14:00:00+00:00</td>\n",
       "    </tr>\n",
       "    <tr>\n",
       "      <th>15</th>\n",
       "      <td>1981-01-01 06:00:00+00:00</td>\n",
       "    </tr>\n",
       "    <tr>\n",
       "      <th>16</th>\n",
       "      <td>1981-01-01 21:00:00+00:00</td>\n",
       "    </tr>\n",
       "    <tr>\n",
       "      <th>17</th>\n",
       "      <td>1981-01-01 16:00:00+00:00</td>\n",
       "    </tr>\n",
       "    <tr>\n",
       "      <th>18</th>\n",
       "      <td>1981-01-01 10:00:00+00:00</td>\n",
       "    </tr>\n",
       "    <tr>\n",
       "      <th>19</th>\n",
       "      <td>1981-01-01 13:00:00+00:00</td>\n",
       "    </tr>\n",
       "    <tr>\n",
       "      <th>20</th>\n",
       "      <td>1981-01-01 03:00:00+00:00</td>\n",
       "    </tr>\n",
       "    <tr>\n",
       "      <th>21</th>\n",
       "      <td>1981-01-01 01:00:00+00:00</td>\n",
       "    </tr>\n",
       "    <tr>\n",
       "      <th>22</th>\n",
       "      <td>1981-01-01 09:00:00+00:00</td>\n",
       "    </tr>\n",
       "  </tbody>\n",
       "</table>\n",
       "</div>"
      ],
      "text/plain": [
       "                       fecha\n",
       "0  1981-01-01 11:00:00+00:00\n",
       "1  1981-01-01 02:00:00+00:00\n",
       "2  1981-01-01 05:00:00+00:00\n",
       "3  1981-01-01 08:00:00+00:00\n",
       "4  1981-01-01 22:00:00+00:00\n",
       "5  1981-01-01 20:00:00+00:00\n",
       "6  1981-01-01 07:00:00+00:00\n",
       "7  1981-01-01 23:00:00+00:00\n",
       "8  1981-01-01 18:00:00+00:00\n",
       "9  1981-01-01 17:00:00+00:00\n",
       "10 1981-01-01 15:00:00+00:00\n",
       "11 1981-01-01 12:00:00+00:00\n",
       "12 1981-01-01 19:00:00+00:00\n",
       "13 1981-01-01 04:00:00+00:00\n",
       "14 1981-01-01 14:00:00+00:00\n",
       "15 1981-01-01 06:00:00+00:00\n",
       "16 1981-01-01 21:00:00+00:00\n",
       "17 1981-01-01 16:00:00+00:00\n",
       "18 1981-01-01 10:00:00+00:00\n",
       "19 1981-01-01 13:00:00+00:00\n",
       "20 1981-01-01 03:00:00+00:00\n",
       "21 1981-01-01 01:00:00+00:00\n",
       "22 1981-01-01 09:00:00+00:00"
      ]
     },
     "metadata": {},
     "output_type": "display_data"
    }
   ],
   "source": [
    "display(query('''select distinct fecha from era5land.variables;'''))"
   ]
  },
  {
   "cell_type": "code",
   "execution_count": 24,
   "id": "seventh-ocean",
   "metadata": {},
   "outputs": [
    {
     "data": {
      "text/html": [
       "<div>\n",
       "<style scoped>\n",
       "    .dataframe tbody tr th:only-of-type {\n",
       "        vertical-align: middle;\n",
       "    }\n",
       "\n",
       "    .dataframe tbody tr th {\n",
       "        vertical-align: top;\n",
       "    }\n",
       "\n",
       "    .dataframe thead th {\n",
       "        text-align: right;\n",
       "    }\n",
       "</style>\n",
       "<table border=\"1\" class=\"dataframe\">\n",
       "  <thead>\n",
       "    <tr style=\"text-align: right;\">\n",
       "      <th></th>\n",
       "      <th>rid</th>\n",
       "      <th>longitude</th>\n",
       "    </tr>\n",
       "  </thead>\n",
       "  <tbody>\n",
       "    <tr>\n",
       "      <th>0</th>\n",
       "      <td>0</td>\n",
       "      <td>-1400</td>\n",
       "    </tr>\n",
       "    <tr>\n",
       "      <th>1</th>\n",
       "      <td>1</td>\n",
       "      <td>-1390</td>\n",
       "    </tr>\n",
       "    <tr>\n",
       "      <th>2</th>\n",
       "      <td>2</td>\n",
       "      <td>-1380</td>\n",
       "    </tr>\n",
       "    <tr>\n",
       "      <th>3</th>\n",
       "      <td>3</td>\n",
       "      <td>-1370</td>\n",
       "    </tr>\n",
       "    <tr>\n",
       "      <th>4</th>\n",
       "      <td>4</td>\n",
       "      <td>-1360</td>\n",
       "    </tr>\n",
       "    <tr>\n",
       "      <th>...</th>\n",
       "      <td>...</td>\n",
       "      <td>...</td>\n",
       "    </tr>\n",
       "    <tr>\n",
       "      <th>486</th>\n",
       "      <td>486</td>\n",
       "      <td>3460</td>\n",
       "    </tr>\n",
       "    <tr>\n",
       "      <th>487</th>\n",
       "      <td>487</td>\n",
       "      <td>3470</td>\n",
       "    </tr>\n",
       "    <tr>\n",
       "      <th>488</th>\n",
       "      <td>488</td>\n",
       "      <td>3480</td>\n",
       "    </tr>\n",
       "    <tr>\n",
       "      <th>489</th>\n",
       "      <td>489</td>\n",
       "      <td>3490</td>\n",
       "    </tr>\n",
       "    <tr>\n",
       "      <th>490</th>\n",
       "      <td>490</td>\n",
       "      <td>3500</td>\n",
       "    </tr>\n",
       "  </tbody>\n",
       "</table>\n",
       "<p>491 rows × 2 columns</p>\n",
       "</div>"
      ],
      "text/plain": [
       "     rid  longitude\n",
       "0      0      -1400\n",
       "1      1      -1390\n",
       "2      2      -1380\n",
       "3      3      -1370\n",
       "4      4      -1360\n",
       "..   ...        ...\n",
       "486  486       3460\n",
       "487  487       3470\n",
       "488  488       3480\n",
       "489  489       3490\n",
       "490  490       3500\n",
       "\n",
       "[491 rows x 2 columns]"
      ]
     },
     "metadata": {},
     "output_type": "display_data"
    }
   ],
   "source": [
    "display(query('''select * from era5land.longitude;'''))"
   ]
  },
  {
   "cell_type": "code",
   "execution_count": null,
   "id": "parallel-float",
   "metadata": {},
   "outputs": [],
   "source": []
  }
 ],
 "metadata": {
  "kernelspec": {
   "display_name": "Python 3",
   "language": "python",
   "name": "python3"
  },
  "language_info": {
   "codemirror_mode": {
    "name": "ipython",
    "version": 3
   },
   "file_extension": ".py",
   "mimetype": "text/x-python",
   "name": "python",
   "nbconvert_exporter": "python",
   "pygments_lexer": "ipython3",
   "version": "3.8.6"
  }
 },
 "nbformat": 4,
 "nbformat_minor": 5
}
