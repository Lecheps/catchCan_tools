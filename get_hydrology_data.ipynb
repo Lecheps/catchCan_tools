{
 "cells": [
  {
   "cell_type": "code",
   "execution_count": 1,
   "metadata": {},
   "outputs": [
    {
     "name": "stdin",
     "output_type": "stream",
     "text": [
      "mobiserver password:  ·······\n",
      "vault password:  ···············\n"
     ]
    }
   ],
   "source": [
    "import requests\n",
    "import json\n",
    "import matplotlib.pyplot as plt\n",
    "import datetime\n",
    "import pandas as pd\n",
    "from datetime import datetime\n",
    "from datetime import timedelta\n",
    "from fabric import Connection\n",
    "import psycopg2\n",
    "import gmaps\n",
    "import pandas.io.sql as sqlio\n",
    "import getpass\n",
    "from io import StringIO\n",
    "import paramiko\n",
    "import sys\n",
    "from time import sleep\n",
    "from tqdm import tqdm\n",
    "\n",
    "sys.path.insert(0, \"/home/jovyan/watexr/PROGNOS/\")\n",
    "from prognos_tools.gce_light import gce_api as gce\n",
    "\n",
    "key = getpass.getpass('mobiserver password: ')\n",
    "cloudKey = getpass.getpass('vault password: ')\n",
    "#Querying necessary tokens\n",
    "def query(query,fetch=True):\n",
    "    with psycopg2.connect(user='jose-luis', host='mobiserver.niva.no', port=5432, database='vault',password=key) as db:\n",
    "        with db.cursor() as cursor :\n",
    "            if fetch:\n",
    "                return sqlio.read_sql_query(query, db)\n",
    "            else :\n",
    "                cursor.execute(query)\n",
    "            \n",
    "# def insertFile(alias,filename):\n",
    "#     with psycopg2.connect(user='jose-luis', host='mobiserver.niva.no', port=5432, database='vault',password=key) as db:\n",
    "#         with db.cursor() as cursor :\n",
    "#             cursor.execute('drop table if exists dummy;')\n",
    "#             cursor.execute('''create temp table dummy (sometext bytea);''')\n",
    "#             with open(filename,'rb') as f:\n",
    "# #                 cursor.copy_from(f,'dummy')\n",
    "#                 cursor.execute('''insert into dummy  select %s::bytea;''',(psycopg2.Binary(f.read()),) )\n",
    "#             cursor.execute('''select niva.insertToken('{}',(select * from dummy),'');'''.format(alias));\n",
    "\n",
    "gmapsKey = query('''select niva.getToken('gmaps','{}');'''.format(cloudKey)).iloc[0,0]\n",
    "sshKey = query('''select niva.getToken('geonorway_ssh_key','{}');'''.format(cloudKey)).iloc[0,0]\n",
    "nveKey = query('''select niva.getToken('nveKey','{}');'''.format(cloudKey)).iloc[0,0]\n",
    "cloudKey = json.loads(query('''select niva.getToken('gce_access','{}');'''.format(cloudKey)).iloc[0,0])\n",
    "gmaps.configure(gmapsKey)\n",
    "not_really_a_file = StringIO(sshKey)\n",
    "private_key = paramiko.RSAKey.from_private_key(not_really_a_file)\n",
    "del key,sshKey"
   ]
  },
  {
   "cell_type": "code",
   "execution_count": 2,
   "metadata": {},
   "outputs": [],
   "source": [
    "#Check status of instance\n",
    "properties = {'project'      : 'nivacatchment',\n",
    "             'zone'         : 'europe-north1-a',\n",
    "             'instanceType' : \"n1-standard-4\",\n",
    "             'instanceName' : \"dtm10\",\n",
    "             'username'     : \"jose-luis\",\n",
    "             }\n",
    "\n",
    "cloud = gce(properties, cloudKey)\n",
    "del cloudKey"
   ]
  },
  {
   "cell_type": "code",
   "execution_count": 3,
   "metadata": {},
   "outputs": [
    {
     "data": {
      "text/plain": [
       "'RUNNING'"
      ]
     },
     "metadata": {},
     "output_type": "display_data"
    },
    {
     "data": {
      "text/plain": [
       "'35.228.143.19'"
      ]
     },
     "metadata": {},
     "output_type": "display_data"
    }
   ],
   "source": [
    "#Getting instance info\n",
    "cloud.CommonCalls['custom'] = '''https://compute.googleapis.com/compute/v1/projects/{project}/zones/{zone}/instances/{instanceName}'''\n",
    "info = cloud.get('custom')\n",
    "display(info['status'])\n",
    "#If instance is stopped, start it\n",
    "if info['status'] != 'RUNNING':\n",
    "    cloud.CommonCalls['custom'] = '''https://compute.googleapis.com/compute/v1/projects/{project}/zones/{zone}/instances/{instanceName}/start'''\n",
    "    info = cloud.post('custom')\n",
    "    display(info['status'])\n",
    "    cloud.CommonCalls['custom'] = '''https://compute.googleapis.com/compute/v1/projects/{project}/zones/{zone}/instances/{instanceName}'''\n",
    "    info = cloud.get('custom')\n",
    "    while info['status'] != 'RUNNING':\n",
    "           sleep(2)\n",
    "           info = cloud.get('custom')\n",
    "          \n",
    "geonorway = info['networkInterfaces'][0]['accessConfigs'][0]['natIP']    \n",
    "    \n",
    "display(geonorway)\n",
    "config =  {'host' : geonorway, 'user': 'jose-luis', 'connect_kwargs': {'pkey': private_key } }\n",
    "\n",
    "def query(query,fetch=True):\n",
    "    with psycopg2.connect(user='jose-luis', host=geonorway, port=5432, database='geonorway') as db:\n",
    "        cursor = db.cursor()\n",
    "        if fetch:\n",
    "            return sqlio.read_sql_query(query, db)\n",
    "        else :\n",
    "            cursor.execute(query)\n",
    "        "
   ]
  },
  {
   "cell_type": "markdown",
   "metadata": {},
   "source": [
    "# Getting basin boundaries"
   ]
  },
  {
   "cell_type": "code",
   "execution_count": 4,
   "metadata": {},
   "outputs": [
    {
     "data": {
      "application/vnd.jupyter.widget-view+json": {
       "model_id": "0d4fd67621904a4c9393e5b57388391f",
       "version_major": 2,
       "version_minor": 0
      },
      "text/plain": [
       "Figure(layout=FigureLayout(height='420px'))"
      ]
     },
     "metadata": {},
     "output_type": "display_data"
    }
   ],
   "source": [
    "schema='catchcan'\n",
    "#Getting basins boundaries\n",
    "a = query('''SELECT json_build_object('type', 'FeatureCollection',\n",
    "                                      'features', json_agg(json_build_object(\n",
    "                                                                'type',       'Feature',\n",
    "                                                                'label',      b.stationname,\n",
    "                                                                'geometry',   ST_AsGeoJSON(ST_ForceRHR(St_Transform(a.geom,4326)))::json,\n",
    "                                                                'properties', jsonb_set(row_to_json(a)::jsonb,'{{a.geom}}','0',false)\n",
    "                                                                )\n",
    "                                                            )\n",
    "                                     )\n",
    "             FROM {0}.basinsdtm1 as a join {0}.outlet_1m as b on b.sid=a.sid;'''.format(schema))\n",
    "\n",
    "fig = gmaps.figure(map_type=\"TERRAIN\")\n",
    "fig.add_layer(gmaps.geojson_layer(a.iloc[0,0]))\n",
    "\n",
    "b = query('''SELECT a.stationname, st_x(st_transform(a.geom,4326)),\n",
    "    st_y(st_transform(a.geom,4326)), c.area/1e6 as area, a.sid\n",
    "    FROM {0}.outlet_1m AS a\n",
    "    JOIN {0}.basinsdtm1 as c\n",
    "    on a.sid=c.sid\n",
    "'''.format(schema))\n",
    "\n",
    "\n",
    "outlets = [{\"name\": i[0], \"area\": i[3], \"id\": i[4]} for j,i in b.iterrows()]\n",
    "locations = [(float(i[2]),float(i[1])) for j,i in b.iterrows()]\n",
    "info_box_template = \"\"\"\n",
    "<dl>\n",
    "<font color=\"black\">\n",
    "<dt>Name</dt><dd>{name}</dd>\n",
    "<dt>Id</dt><dd>{id}</sup></dd>\n",
    "<dt>Area</dt><dd>{area} km<sup>2</sup></dd>\n",
    "</font>\n",
    "</dl>\n",
    "\"\"\"                                                \n",
    "outlet_info = [info_box_template.format(**outlet) for outlet in outlets]                                                 \n",
    "marker_layer = gmaps.marker_layer(locations, info_box_content=outlet_info)\n",
    "fig.add_layer(marker_layer)\n",
    "\n",
    "fig"
   ]
  },
  {
   "cell_type": "markdown",
   "metadata": {},
   "source": [
    "## Finding out which cells in the era5 data intersect with the basins"
   ]
  },
  {
   "cell_type": "code",
   "execution_count": 5,
   "metadata": {},
   "outputs": [
    {
     "data": {
      "text/html": [
       "<div>\n",
       "<style scoped>\n",
       "    .dataframe tbody tr th:only-of-type {\n",
       "        vertical-align: middle;\n",
       "    }\n",
       "\n",
       "    .dataframe tbody tr th {\n",
       "        vertical-align: top;\n",
       "    }\n",
       "\n",
       "    .dataframe thead th {\n",
       "        text-align: right;\n",
       "    }\n",
       "</style>\n",
       "<table border=\"1\" class=\"dataframe\">\n",
       "  <thead>\n",
       "    <tr style=\"text-align: right;\">\n",
       "      <th></th>\n",
       "      <th>basinid</th>\n",
       "      <th>sid</th>\n",
       "      <th>idx</th>\n",
       "      <th>row</th>\n",
       "      <th>col</th>\n",
       "      <th>geom</th>\n",
       "      <th>point</th>\n",
       "      <th>weight</th>\n",
       "    </tr>\n",
       "  </thead>\n",
       "  <tbody>\n",
       "    <tr>\n",
       "      <th>0</th>\n",
       "      <td>2</td>\n",
       "      <td>18550</td>\n",
       "      <td>18549</td>\n",
       "      <td>99</td>\n",
       "      <td>90</td>\n",
       "      <td>0103000020E61000000100000005000000000000000040...</td>\n",
       "      <td>0101000020E6100000F6285C8FC2F5B83F5C8FC2F5285C...</td>\n",
       "      <td>0.068551</td>\n",
       "    </tr>\n",
       "    <tr>\n",
       "      <th>1</th>\n",
       "      <td>2</td>\n",
       "      <td>18755</td>\n",
       "      <td>18754</td>\n",
       "      <td>99</td>\n",
       "      <td>91</td>\n",
       "      <td>0103000020E61000000100000005000000000000000040...</td>\n",
       "      <td>0101000020E6100000F6285C8FC2F5B83F48E17A14AE47...</td>\n",
       "      <td>0.931449</td>\n",
       "    </tr>\n",
       "    <tr>\n",
       "      <th>2</th>\n",
       "      <td>1</td>\n",
       "      <td>20184</td>\n",
       "      <td>20183</td>\n",
       "      <td>93</td>\n",
       "      <td>98</td>\n",
       "      <td>0103000020E61000000100000005000000000000000040...</td>\n",
       "      <td>0101000020E61000001F85EB51B81EB53FB81E85EB51B8...</td>\n",
       "      <td>1.000000</td>\n",
       "    </tr>\n",
       "  </tbody>\n",
       "</table>\n",
       "</div>"
      ],
      "text/plain": [
       "   basinid    sid    idx  row  col  \\\n",
       "0        2  18550  18549   99   90   \n",
       "1        2  18755  18754   99   91   \n",
       "2        1  20184  20183   93   98   \n",
       "\n",
       "                                                geom  \\\n",
       "0  0103000020E61000000100000005000000000000000040...   \n",
       "1  0103000020E61000000100000005000000000000000040...   \n",
       "2  0103000020E61000000100000005000000000000000040...   \n",
       "\n",
       "                                               point    weight  \n",
       "0  0101000020E6100000F6285C8FC2F5B83F5C8FC2F5285C...  0.068551  \n",
       "1  0101000020E6100000F6285C8FC2F5B83F48E17A14AE47...  0.931449  \n",
       "2  0101000020E61000001F85EB51B81EB53FB81E85EB51B8...  1.000000  "
      ]
     },
     "execution_count": 5,
     "metadata": {},
     "output_type": "execute_result"
    }
   ],
   "source": [
    "sql = '''drop table if exists geographybasins;\n",
    "create temp table geographybasins as select sid, st_transform(geom,4326)::geography as geom from catchcan.basinsdtm1;\n",
    "create index temp_idx_geom on geographybasins using gist(geom);\n",
    "drop table if exists getera5data;\n",
    "create temp table getera5data as select b.sid as basinid,a.*, st_area(st_intersection(a.geom,b.geom))/st_area(b.geom) as weight from era5.location as a, geographybasins as b where st_intersects(a.geom,b.geom);\n",
    "select * from getera5data;'''.format(schema=schema)\n",
    "\n",
    "a = query(sql)\n",
    "a"
   ]
  },
  {
   "cell_type": "markdown",
   "metadata": {},
   "source": [
    "## Showing the available variables in the era5 dataset and the time interval for which they are available"
   ]
  },
  {
   "cell_type": "code",
   "execution_count": 37,
   "metadata": {},
   "outputs": [
    {
     "data": {
      "text/html": [
       "<div>\n",
       "<style scoped>\n",
       "    .dataframe tbody tr th:only-of-type {\n",
       "        vertical-align: middle;\n",
       "    }\n",
       "\n",
       "    .dataframe tbody tr th {\n",
       "        vertical-align: top;\n",
       "    }\n",
       "\n",
       "    .dataframe thead th {\n",
       "        text-align: right;\n",
       "    }\n",
       "</style>\n",
       "<table border=\"1\" class=\"dataframe\">\n",
       "  <thead>\n",
       "    <tr style=\"text-align: right;\">\n",
       "      <th></th>\n",
       "      <th>aid</th>\n",
       "      <th>name</th>\n",
       "      <th>unit</th>\n",
       "      <th>longname</th>\n",
       "    </tr>\n",
       "  </thead>\n",
       "  <tbody>\n",
       "    <tr>\n",
       "      <th>0</th>\n",
       "      <td>1</td>\n",
       "      <td>u10</td>\n",
       "      <td>m s**-1</td>\n",
       "      <td>10 metre U wind component</td>\n",
       "    </tr>\n",
       "    <tr>\n",
       "      <th>1</th>\n",
       "      <td>2</td>\n",
       "      <td>v10</td>\n",
       "      <td>m s**-1</td>\n",
       "      <td>10 metre V wind component</td>\n",
       "    </tr>\n",
       "    <tr>\n",
       "      <th>2</th>\n",
       "      <td>3</td>\n",
       "      <td>d2m</td>\n",
       "      <td>K</td>\n",
       "      <td>2 metre dewpoint temperature</td>\n",
       "    </tr>\n",
       "    <tr>\n",
       "      <th>3</th>\n",
       "      <td>4</td>\n",
       "      <td>t2m</td>\n",
       "      <td>K</td>\n",
       "      <td>2 metre temperature</td>\n",
       "    </tr>\n",
       "    <tr>\n",
       "      <th>4</th>\n",
       "      <td>5</td>\n",
       "      <td>cdir</td>\n",
       "      <td>J m**-2</td>\n",
       "      <td>Clear-sky direct solar radiation at surface</td>\n",
       "    </tr>\n",
       "    <tr>\n",
       "      <th>5</th>\n",
       "      <td>6</td>\n",
       "      <td>msl</td>\n",
       "      <td>Pa</td>\n",
       "      <td>Mean sea level pressure</td>\n",
       "    </tr>\n",
       "    <tr>\n",
       "      <th>6</th>\n",
       "      <td>7</td>\n",
       "      <td>msdwlwrfcs</td>\n",
       "      <td>W m**-2</td>\n",
       "      <td>Mean surface downward long-wave radiation flux...</td>\n",
       "    </tr>\n",
       "    <tr>\n",
       "      <th>7</th>\n",
       "      <td>8</td>\n",
       "      <td>msdwswrfcs</td>\n",
       "      <td>W m**-2</td>\n",
       "      <td>Mean surface downward short-wave radiation flu...</td>\n",
       "    </tr>\n",
       "    <tr>\n",
       "      <th>8</th>\n",
       "      <td>9</td>\n",
       "      <td>pev</td>\n",
       "      <td>m</td>\n",
       "      <td>Potential evaporation</td>\n",
       "    </tr>\n",
       "    <tr>\n",
       "      <th>9</th>\n",
       "      <td>10</td>\n",
       "      <td>tcc</td>\n",
       "      <td>(0 - 1)</td>\n",
       "      <td>Total cloud cover</td>\n",
       "    </tr>\n",
       "  </tbody>\n",
       "</table>\n",
       "</div>"
      ],
      "text/plain": [
       "   aid        name     unit                                           longname\n",
       "0    1         u10  m s**-1                          10 metre U wind component\n",
       "1    2         v10  m s**-1                          10 metre V wind component\n",
       "2    3         d2m        K                       2 metre dewpoint temperature\n",
       "3    4         t2m        K                                2 metre temperature\n",
       "4    5        cdir  J m**-2        Clear-sky direct solar radiation at surface\n",
       "5    6         msl       Pa                            Mean sea level pressure\n",
       "6    7  msdwlwrfcs  W m**-2  Mean surface downward long-wave radiation flux...\n",
       "7    8  msdwswrfcs  W m**-2  Mean surface downward short-wave radiation flu...\n",
       "8    9         pev        m                              Potential evaporation\n",
       "9   10         tcc  (0 - 1)                                  Total cloud cover"
      ]
     },
     "metadata": {},
     "output_type": "display_data"
    },
    {
     "data": {
      "text/html": [
       "<div>\n",
       "<style scoped>\n",
       "    .dataframe tbody tr th:only-of-type {\n",
       "        vertical-align: middle;\n",
       "    }\n",
       "\n",
       "    .dataframe tbody tr th {\n",
       "        vertical-align: top;\n",
       "    }\n",
       "\n",
       "    .dataframe thead th {\n",
       "        text-align: right;\n",
       "    }\n",
       "</style>\n",
       "<table border=\"1\" class=\"dataframe\">\n",
       "  <thead>\n",
       "    <tr style=\"text-align: right;\">\n",
       "      <th></th>\n",
       "      <th>fecha</th>\n",
       "    </tr>\n",
       "    <tr>\n",
       "      <th>tid</th>\n",
       "      <th></th>\n",
       "    </tr>\n",
       "  </thead>\n",
       "  <tbody>\n",
       "    <tr>\n",
       "      <th>352609</th>\n",
       "      <td>1979-01-01 00:00:00+00:00</td>\n",
       "    </tr>\n",
       "    <tr>\n",
       "      <th>352610</th>\n",
       "      <td>1979-01-01 01:00:00+00:00</td>\n",
       "    </tr>\n",
       "    <tr>\n",
       "      <th>352611</th>\n",
       "      <td>1979-01-01 02:00:00+00:00</td>\n",
       "    </tr>\n",
       "    <tr>\n",
       "      <th>352612</th>\n",
       "      <td>1979-01-01 03:00:00+00:00</td>\n",
       "    </tr>\n",
       "    <tr>\n",
       "      <th>352613</th>\n",
       "      <td>1979-01-01 04:00:00+00:00</td>\n",
       "    </tr>\n",
       "    <tr>\n",
       "      <th>...</th>\n",
       "      <td>...</td>\n",
       "    </tr>\n",
       "    <tr>\n",
       "      <th>19964</th>\n",
       "      <td>2021-03-24 19:00:00+00:00</td>\n",
       "    </tr>\n",
       "    <tr>\n",
       "      <th>19965</th>\n",
       "      <td>2021-03-24 20:00:00+00:00</td>\n",
       "    </tr>\n",
       "    <tr>\n",
       "      <th>19966</th>\n",
       "      <td>2021-03-24 21:00:00+00:00</td>\n",
       "    </tr>\n",
       "    <tr>\n",
       "      <th>19967</th>\n",
       "      <td>2021-03-24 22:00:00+00:00</td>\n",
       "    </tr>\n",
       "    <tr>\n",
       "      <th>19968</th>\n",
       "      <td>2021-03-24 23:00:00+00:00</td>\n",
       "    </tr>\n",
       "  </tbody>\n",
       "</table>\n",
       "<p>370176 rows × 1 columns</p>\n",
       "</div>"
      ],
      "text/plain": [
       "                           fecha\n",
       "tid                             \n",
       "352609 1979-01-01 00:00:00+00:00\n",
       "352610 1979-01-01 01:00:00+00:00\n",
       "352611 1979-01-01 02:00:00+00:00\n",
       "352612 1979-01-01 03:00:00+00:00\n",
       "352613 1979-01-01 04:00:00+00:00\n",
       "...                          ...\n",
       "19964  2021-03-24 19:00:00+00:00\n",
       "19965  2021-03-24 20:00:00+00:00\n",
       "19966  2021-03-24 21:00:00+00:00\n",
       "19967  2021-03-24 22:00:00+00:00\n",
       "19968  2021-03-24 23:00:00+00:00\n",
       "\n",
       "[370176 rows x 1 columns]"
      ]
     },
     "metadata": {},
     "output_type": "display_data"
    }
   ],
   "source": [
    "#Getting the variables from the era5 dataset\n",
    "#Showing available datasets\n",
    "attributes = query('''select * from era5.attributes;''')\n",
    "fechas = query('''select * from era5.time order by fecha;''')\n",
    "fechas.set_index('tid',inplace=True)\n",
    "display(attributes,fechas)"
   ]
  },
  {
   "cell_type": "markdown",
   "metadata": {},
   "source": [
    "## Reading from the database containing the ERA5 dataset\n",
    "This database contains a schema called era5 which contains the following tables:\n",
    "1. era5.variables -> each line indexes to a timestamp, a variable , an encoding and contains a bytea field with the variable values. This query extracts and decodes from the bytea for certain indexes. It transforms bytea to int2 and this required a hack to be able to do it inline.\n",
    "1. era5.encoding -> the encoding for each variable at each timestep. Relates to era5.variables on eid\n",
    "1. era5.variables -> lists all the variables available in the dataset. Relates to era5.variables on aid\n",
    "1. era5.time -> lists all the timestamps for which there are data. Relates to era5.variables on tid\n",
    "\n",
    "This query consumes a significant amount of resources. If it takes more than a few minutes to get data for all timesteps for a single variable at a single coordinate, it is probably stuck and you're gonna die waiting for it to complete. In that case either increase temp_buffers and work_mem or try chunking the query. If it is the first time you query a particular variable, it might take around an hour.\n",
    "\n",
    "Fist we give an example of how to download t2m for all timesteps at all stations. "
   ]
  },
  {
   "cell_type": "code",
   "execution_count": 40,
   "metadata": {},
   "outputs": [
    {
     "name": "stdout",
     "output_type": "stream",
     "text": [
      "CPU times: user 3.33 s, sys: 168 ms, total: 3.5 s\n",
      "Wall time: 29.2 s\n"
     ]
    }
   ],
   "source": [
    "%%time\n",
    "#Finding the intersection between the basins and the era5 dataset\n",
    "sql = '''\n",
    "--This query is pretty heavy so we increase the available memory\n",
    "--If it is still slow, try increasing this. Otherwise chunk your queries\n",
    "SET temp_buffers='4000MB';\n",
    "SET work_mem='4000MB';\n",
    "\n",
    "--Transforming the basins to the same coordinate system as the era5 data\n",
    "drop table if exists geographybasins;\n",
    "create temp table geographybasins as select sid, st_transform(geom,4326)::geography as geom from {schema}.basinsdtm1;\n",
    "create index temp_idx_geom on geographybasins using gist(geom);\n",
    "\n",
    "drop table if exists getera5data;\n",
    "create temp table getera5data as\n",
    "with dummy as (\n",
    "--Finding intersection between era5 data and the basins\n",
    "select b.sid as basinid,a.idx, st_area(st_intersection(a.geom,b.geom))/st_area(b.geom)::double precision as weight \n",
    "from era5.location as a, \n",
    "geographybasins as b \n",
    "where \n",
    "st_intersects(a.geom,b.geom)\n",
    ")\n",
    "select b.fecha,a.basinid, a.weight,\n",
    "    case \n",
    "\t\twhen \n",
    "\t\t--horrible hack to cast a bytea column containing int2 values to int2 -> this casts the binary representation of int2 to int2\n",
    "\t\t\t(((get_byte(substring(c.val from a.idx*2 + 2 for 1),0)::bit(8) ||  get_byte(substring(c.val from a.idx*2 for 1),0)::bit(8))::bit(32)::int4)>>16)::int2 = d.novalue\n",
    "\t\tthen null::double precision\n",
    "\t\telse\n",
    "\t\t-- horrible hack it depends on the endianness of the system. Might fail horribly\n",
    "\t\t\t((((get_byte(substring(c.val from a.idx*2 + 2  for 1),0)::bit(8) ||  get_byte(substring(c.val from a.idx*2  for 1),0)::bit(8))::bit(32)::int4)>>16)::double precision \n",
    "            * d.scalefactor + d.addoffset) * a.weight  \n",
    "\tend as val\n",
    "from dummy as a, \n",
    "era5.time as b \n",
    "join era5.variables as c on c.tid=b.tid and c.aid={aid}\n",
    "join era5.encoding as d\n",
    "on d.eid=c.eid\n",
    "order by b.fecha,a.basinid;\n",
    "\n",
    "reset temp_buffers;\n",
    "reset work_mem;\n",
    "\n",
    "select fecha, basinid, sum(val) as val from getera5data group by fecha,basinid order by fecha,basinid;\n",
    "--select * from getera5data;\n",
    "\n",
    "'''\n",
    "\n",
    "a = query(sql.format(schema=schema,aid=4))\n"
   ]
  },
  {
   "cell_type": "code",
   "execution_count": 34,
   "metadata": {},
   "outputs": [
    {
     "data": {
      "application/vnd.jupyter.widget-view+json": {
       "model_id": "6f27ce5a8c2747ebbe871810c437e800",
       "version_major": 2,
       "version_minor": 0
      },
      "text/plain": [
       "Canvas(toolbar=Toolbar(toolitems=[('Home', 'Reset original view', 'home', 'home'), ('Back', 'Back to previous …"
      ]
     },
     "metadata": {},
     "output_type": "display_data"
    },
    {
     "data": {
      "text/plain": [
       "array([<AxesSubplot:xlabel='fecha'>, <AxesSubplot:xlabel='fecha'>],\n",
       "      dtype=object)"
      ]
     },
     "execution_count": 34,
     "metadata": {},
     "output_type": "execute_result"
    }
   ],
   "source": [
    "a.set_index(['fecha','basinid']).unstack(level=1).plot(subplots=True,figsize=(15,10))"
   ]
  },
  {
   "cell_type": "markdown",
   "metadata": {},
   "source": [
    "## Querying all the variables to run the hydrological module in mobius\n",
    "We need an estimate of the potential evapotranspiration. We extract it either from the era5 data or compute it using other variables contained in it. "
   ]
  },
  {
   "cell_type": "code",
   "execution_count": 41,
   "metadata": {},
   "outputs": [],
   "source": [
    "%time\n",
    "#Extracting potential evapotranspiration\n",
    "aid = 9\n",
    "pev_df = query(sql.format(schema=schema,aid=aid))"
   ]
  },
  {
   "cell_type": "code",
   "execution_count": 43,
   "metadata": {},
   "outputs": [
    {
     "data": {
      "application/vnd.jupyter.widget-view+json": {
       "model_id": "85df1bdef1d84fa5856aba77249df9ca",
       "version_major": 2,
       "version_minor": 0
      },
      "text/plain": [
       "Canvas(toolbar=Toolbar(toolitems=[('Home', 'Reset original view', 'home', 'home'), ('Back', 'Back to previous …"
      ]
     },
     "metadata": {},
     "output_type": "display_data"
    },
    {
     "data": {
      "text/plain": [
       "array([<AxesSubplot:xlabel='fecha'>, <AxesSubplot:xlabel='fecha'>],\n",
       "      dtype=object)"
      ]
     },
     "execution_count": 43,
     "metadata": {},
     "output_type": "execute_result"
    }
   ],
   "source": [
    "pev_df.set_index(['fecha','basinid']).unstack(level=1).plot(subplots=True,figsize=(15,10))"
   ]
  },
  {
   "cell_type": "code",
   "execution_count": 98,
   "metadata": {},
   "outputs": [
    {
     "data": {
      "text/plain": [
       "<AxesSubplot:xlabel='fecha,fecha'>"
      ]
     },
     "execution_count": 98,
     "metadata": {},
     "output_type": "execute_result"
    },
    {
     "data": {
      "image/png": "[encoded data removed]",
      "text/plain": [
       "<Figure size 1440x360 with 1 Axes>"
      ]
     },
     "metadata": {
      "needs_background": "light"
     },
     "output_type": "display_data"
    }
   ],
   "source": [
    "%matplotlib inline\n",
    "\n",
    "bla = pev_df.set_index('fecha')\n",
    "bla = bla[bla['basinid'] == 1]\n",
    "bla = bla['val'].groupby(by=[bla.index.year, bla.index.month] ).apply(lambda x : sum([0 if i>0 else -i * 1000 for i in x]) )\n",
    "bla.plot(figsize=(20,5))"
   ]
  },
  {
   "cell_type": "code",
   "execution_count": 94,
   "metadata": {},
   "outputs": [
    {
     "data": {
      "text/plain": [
       "fecha  fecha\n",
       "1      1979    -0.010136\n",
       "       1980    -0.006289\n",
       "       1981    -0.007291\n",
       "       1982    -0.006143\n",
       "       1983    -0.005607\n",
       "                  ...   \n",
       "12     2016    -0.000860\n",
       "       2017    -0.001053\n",
       "       2018    -0.001875\n",
       "       2019     0.000969\n",
       "       2020     0.000219\n",
       "Name: val, Length: 507, dtype: float64"
      ]
     },
     "execution_count": 94,
     "metadata": {},
     "output_type": "execute_result"
    }
   ],
   "source": [
    "bla"
   ]
  },
  {
   "cell_type": "code",
   "execution_count": 96,
   "metadata": {},
   "outputs": [
    {
     "data": {
      "text/plain": [
       "6"
      ]
     },
     "execution_count": 96,
     "metadata": {},
     "output_type": "execute_result"
    }
   ],
   "source": [
    "sum([1,2,3])"
   ]
  },
  {
   "cell_type": "code",
   "execution_count": null,
   "metadata": {},
   "outputs": [],
   "source": []
  }
 ],
 "metadata": {
  "kernelspec": {
   "display_name": "Python 3",
   "language": "python",
   "name": "python3"
  },
  "language_info": {
   "codemirror_mode": {
    "name": "ipython",
    "version": 3
   },
   "file_extension": ".py",
   "mimetype": "text/x-python",
   "name": "python",
   "nbconvert_exporter": "python",
   "pygments_lexer": "ipython3",
   "version": "3.8.8"
  }
 },
 "nbformat": 4,
 "nbformat_minor": 4
}
