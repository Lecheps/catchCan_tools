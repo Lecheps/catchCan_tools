{
 "cells": [
  {
   "cell_type": "markdown",
   "id": "confidential-decision",
   "metadata": {},
   "source": [
    "# Getting basins for all NVE discharge-measuring stations\n",
    "This notebook assumes that NVE info has been downloaded using the get_nve_data.ipynb notebook in this folder\n",
    "\n",
    "## Loading required packages and getting credentials to connect to the database"
   ]
  },
  {
   "cell_type": "code",
   "execution_count": 1,
   "id": "angry-potter",
   "metadata": {},
   "outputs": [
    {
     "name": "stdin",
     "output_type": "stream",
     "text": [
      "mobiserver password:  ·······\n",
      "vault password:  ···············\n"
     ]
    }
   ],
   "source": [
    "import requests\n",
    "import json\n",
    "import matplotlib.pyplot as plt\n",
    "import datetime\n",
    "import pandas as pd\n",
    "from datetime import datetime\n",
    "from datetime import timedelta\n",
    "from fabric import Connection\n",
    "import psycopg2\n",
    "import gmaps\n",
    "import pandas.io.sql as sqlio\n",
    "import getpass\n",
    "from io import StringIO\n",
    "import paramiko\n",
    "import sys\n",
    "from time import sleep\n",
    "import gdal\n",
    "import numpy as np\n",
    "\n",
    "sys.path.insert(0, \"/home/jovyan/watexr/PROGNOS/\")\n",
    "from prognos_tools.gce_light import gce_api as gce\n",
    "\n",
    "key = getpass.getpass('mobiserver password: ')\n",
    "cloudKey = getpass.getpass('vault password: ')\n",
    "#Querying necessary tokens\n",
    "def query(query,fetch=True):\n",
    "    with psycopg2.connect(user='jose-luis', host='mobiserver.niva.no', port=5432, database='vault',password=key) as db:\n",
    "        with db.cursor() as cursor :\n",
    "            cursor.execute(query)\n",
    "            if fetch:\n",
    "                result = sqlio.read_sql_query(query, db)\n",
    "                return result\n",
    "            \n",
    "gmapsKey = query('''select niva.getToken('gmaps','{}');'''.format(cloudKey)).iloc[0,0]\n",
    "sshKey = query('''select niva.getToken('geonorway_ssh_key','{}');'''.format(cloudKey)).iloc[0,0]\n",
    "cloudKey = json.loads(query('''select niva.getToken('gce_access','{}');'''.format(cloudKey)).iloc[0,0])\n",
    "gmaps.configure(gmapsKey)\n",
    "not_really_a_file = StringIO(sshKey)\n",
    "private_key = paramiko.RSAKey.from_private_key(not_really_a_file)\n",
    "del key,sshKey"
   ]
  },
  {
   "cell_type": "markdown",
   "id": "competitive-daughter",
   "metadata": {},
   "source": [
    "## Starting the instance containing the database using the google compute engine api"
   ]
  },
  {
   "cell_type": "code",
   "execution_count": 2,
   "id": "responsible-major",
   "metadata": {},
   "outputs": [
    {
     "data": {
      "text/plain": [
       "'RUNNING'"
      ]
     },
     "metadata": {},
     "output_type": "display_data"
    },
    {
     "data": {
      "text/plain": [
       "'IP of the instance containing the database 35.228.213.48:'"
      ]
     },
     "metadata": {},
     "output_type": "display_data"
    }
   ],
   "source": [
    "#Check status of instance\n",
    "properties = {'project'      : 'nivacatchment',\n",
    "             'zone'         : 'europe-north1-a',\n",
    "             'instanceType' : \"n1-standard-4\",\n",
    "             'instanceName' : \"dtm10\",\n",
    "             'username'     : \"jose-luis\",\n",
    "             }\n",
    "\n",
    "cloud = gce(properties, cloudKey)\n",
    "del cloudKey\n",
    "\n",
    "#Getting instance info\n",
    "cloud.CommonCalls['custom'] = '''https://compute.googleapis.com/compute/v1/projects/{project}/zones/{zone}/instances/{instanceName}'''\n",
    "info = cloud.get('custom')\n",
    "display(info['status'])\n",
    "#If instance is stopped, start it\n",
    "if info['status'] != 'RUNNING':\n",
    "    cloud.CommonCalls['custom'] = '''https://compute.googleapis.com/compute/v1/projects/{project}/zones/{zone}/instances/{instanceName}/start'''\n",
    "    info = cloud.post('custom')\n",
    "    display(info['status'])\n",
    "    cloud.CommonCalls['custom'] = '''https://compute.googleapis.com/compute/v1/projects/{project}/zones/{zone}/instances/{instanceName}'''\n",
    "    info = cloud.get('custom')\n",
    "    while info['status'] != 'RUNNING':\n",
    "           sleep(2)\n",
    "           info = cloud.get('custom')\n",
    "          \n",
    "geonorway = info['networkInterfaces'][0]['accessConfigs'][0]['natIP']    \n",
    "    \n",
    "display(\"IP of the instance containing the database {}:\".format(geonorway))\n",
    "\n",
    "#The config below can be used to connect to the instance using fabric's Connection\n",
    "config =  {'host' : geonorway, 'user': 'jose-luis', 'connect_kwargs': {'pkey': private_key } }"
   ]
  },
  {
   "cell_type": "markdown",
   "id": "proper-charger",
   "metadata": {},
   "source": [
    "## Getting the coordinates of NVE's discharge-measuring stations and the basin they belong to"
   ]
  },
  {
   "cell_type": "code",
   "execution_count": 3,
   "id": "advance-hours",
   "metadata": {},
   "outputs": [
    {
     "data": {
      "text/html": [
       "<div>\n",
       "<style scoped>\n",
       "    .dataframe tbody tr th:only-of-type {\n",
       "        vertical-align: middle;\n",
       "    }\n",
       "\n",
       "    .dataframe tbody tr th {\n",
       "        vertical-align: top;\n",
       "    }\n",
       "\n",
       "    .dataframe thead th {\n",
       "        text-align: right;\n",
       "    }\n",
       "</style>\n",
       "<table border=\"1\" class=\"dataframe\">\n",
       "  <thead>\n",
       "    <tr style=\"text-align: right;\">\n",
       "      <th></th>\n",
       "      <th>stationid</th>\n",
       "      <th>gid</th>\n",
       "      <th>vassomr</th>\n",
       "      <th>area</th>\n",
       "    </tr>\n",
       "  </thead>\n",
       "  <tbody>\n",
       "    <tr>\n",
       "      <th>0</th>\n",
       "      <td>1.198.0</td>\n",
       "      <td>1</td>\n",
       "      <td>Haldenvassdraget/Iddefjorden</td>\n",
       "      <td>2507.380211</td>\n",
       "    </tr>\n",
       "    <tr>\n",
       "      <th>1</th>\n",
       "      <td>1.200.0</td>\n",
       "      <td>1</td>\n",
       "      <td>Haldenvassdraget/Iddefjorden</td>\n",
       "      <td>2507.380211</td>\n",
       "    </tr>\n",
       "    <tr>\n",
       "      <th>2</th>\n",
       "      <td>1.48.0</td>\n",
       "      <td>1</td>\n",
       "      <td>Haldenvassdraget/Iddefjorden</td>\n",
       "      <td>2507.380211</td>\n",
       "    </tr>\n",
       "    <tr>\n",
       "      <th>3</th>\n",
       "      <td>1.49.0</td>\n",
       "      <td>1</td>\n",
       "      <td>Haldenvassdraget/Iddefjorden</td>\n",
       "      <td>2507.380211</td>\n",
       "    </tr>\n",
       "    <tr>\n",
       "      <th>4</th>\n",
       "      <td>1.50.0</td>\n",
       "      <td>1</td>\n",
       "      <td>Haldenvassdraget/Iddefjorden</td>\n",
       "      <td>2507.380211</td>\n",
       "    </tr>\n",
       "    <tr>\n",
       "      <th>...</th>\n",
       "      <td>...</td>\n",
       "      <td>...</td>\n",
       "      <td>...</td>\n",
       "      <td>...</td>\n",
       "    </tr>\n",
       "    <tr>\n",
       "      <th>597</th>\n",
       "      <td>97.5.0</td>\n",
       "      <td>97</td>\n",
       "      <td>Storfjorden sør, Hjørundfjorden og Sykkylvsfjo...</td>\n",
       "      <td>868.995031</td>\n",
       "    </tr>\n",
       "    <tr>\n",
       "      <th>598</th>\n",
       "      <td>98.4.0</td>\n",
       "      <td>98</td>\n",
       "      <td>Storfjorden sør, Sunnylvsfjorden og Geirangerf...</td>\n",
       "      <td>1003.641202</td>\n",
       "    </tr>\n",
       "    <tr>\n",
       "      <th>599</th>\n",
       "      <td>99.1.0</td>\n",
       "      <td>99</td>\n",
       "      <td>Tafjordvassdraget/Tafjorden og Norddalsfjorden...</td>\n",
       "      <td>643.801323</td>\n",
       "    </tr>\n",
       "    <tr>\n",
       "      <th>600</th>\n",
       "      <td>99.17.0</td>\n",
       "      <td>99</td>\n",
       "      <td>Tafjordvassdraget/Tafjorden og Norddalsfjorden...</td>\n",
       "      <td>643.801323</td>\n",
       "    </tr>\n",
       "    <tr>\n",
       "      <th>601</th>\n",
       "      <td>99.2.0</td>\n",
       "      <td>99</td>\n",
       "      <td>Tafjordvassdraget/Tafjorden og Norddalsfjorden...</td>\n",
       "      <td>643.801323</td>\n",
       "    </tr>\n",
       "  </tbody>\n",
       "</table>\n",
       "<p>602 rows × 4 columns</p>\n",
       "</div>"
      ],
      "text/plain": [
       "    stationid  gid                                            vassomr  \\\n",
       "0     1.198.0    1                       Haldenvassdraget/Iddefjorden   \n",
       "1     1.200.0    1                       Haldenvassdraget/Iddefjorden   \n",
       "2      1.48.0    1                       Haldenvassdraget/Iddefjorden   \n",
       "3      1.49.0    1                       Haldenvassdraget/Iddefjorden   \n",
       "4      1.50.0    1                       Haldenvassdraget/Iddefjorden   \n",
       "..        ...  ...                                                ...   \n",
       "597    97.5.0   97  Storfjorden sør, Hjørundfjorden og Sykkylvsfjo...   \n",
       "598    98.4.0   98  Storfjorden sør, Sunnylvsfjorden og Geirangerf...   \n",
       "599    99.1.0   99  Tafjordvassdraget/Tafjorden og Norddalsfjorden...   \n",
       "600   99.17.0   99  Tafjordvassdraget/Tafjorden og Norddalsfjorden...   \n",
       "601    99.2.0   99  Tafjordvassdraget/Tafjorden og Norddalsfjorden...   \n",
       "\n",
       "            area  \n",
       "0    2507.380211  \n",
       "1    2507.380211  \n",
       "2    2507.380211  \n",
       "3    2507.380211  \n",
       "4    2507.380211  \n",
       "..           ...  \n",
       "597   868.995031  \n",
       "598  1003.641202  \n",
       "599   643.801323  \n",
       "600   643.801323  \n",
       "601   643.801323  \n",
       "\n",
       "[602 rows x 4 columns]"
      ]
     },
     "metadata": {},
     "output_type": "display_data"
    }
   ],
   "source": [
    "#Helper function to query the database and return a pandas dataframe if required.\n",
    "def query(query,fetch=True):\n",
    "    with psycopg2.connect(user='jose-luis', host=geonorway, port=5432, database='geonorway') as db:\n",
    "        cursor = db.cursor()\n",
    "        cursor.execute(query)\n",
    "        if fetch:\n",
    "            result = sqlio.read_sql_query(query, db)\n",
    "            return result\n",
    "        \n",
    "#Schema where the nve data resides\n",
    "schema = 'nveq'\n",
    "\n",
    "#Querying the coordinates of the stations and the basin they are in:\n",
    "sql = '''with bla as\n",
    "(select stationid,stationname,st_transform(geom,3045) as geom from {}.stations)\n",
    "select b.stationid,a.gid,a.vassomr,st_area(a.geom)/1e6 as area\n",
    "from nedborfelt.vassdragsomr as a, bla as b \n",
    "where st_intersects(a.geom,b.geom);'''.format(schema)\n",
    "\n",
    "a = query(sql)\n",
    "display(a)"
   ]
  },
  {
   "cell_type": "code",
   "execution_count": 4,
   "id": "perceived-personality",
   "metadata": {},
   "outputs": [
    {
     "data": {
      "text/html": [
       "<div>\n",
       "<style scoped>\n",
       "    .dataframe tbody tr th:only-of-type {\n",
       "        vertical-align: middle;\n",
       "    }\n",
       "\n",
       "    .dataframe tbody tr th {\n",
       "        vertical-align: top;\n",
       "    }\n",
       "\n",
       "    .dataframe thead th {\n",
       "        text-align: right;\n",
       "    }\n",
       "</style>\n",
       "<table border=\"1\" class=\"dataframe\">\n",
       "  <thead>\n",
       "    <tr style=\"text-align: right;\">\n",
       "      <th></th>\n",
       "      <th>stationid</th>\n",
       "      <th>stationname</th>\n",
       "    </tr>\n",
       "  </thead>\n",
       "  <tbody>\n",
       "    <tr>\n",
       "      <th>0</th>\n",
       "      <td>19.244.0</td>\n",
       "      <td>Nye Jørundland</td>\n",
       "    </tr>\n",
       "  </tbody>\n",
       "</table>\n",
       "</div>"
      ],
      "text/plain": [
       "  stationid     stationname\n",
       "0  19.244.0  Nye Jørundland"
      ]
     },
     "metadata": {},
     "output_type": "display_data"
    }
   ],
   "source": [
    "# Checking if all stations fall inside a basin. The query should be empty if all stations fall inside a basin\n",
    "sql = '''with bla as\n",
    "(select stationid,stationname,st_transform(geom,3045) as geom from {}.stations)\n",
    "select b.stationid,b.stationname from bla as b \n",
    "where b.stationid not in (select b.stationid from bla as b, nedborfelt.vassdragsomr as a where st_intersects(a.geom,b.geom));'''.format(schema)\n",
    "\n",
    "display(query(sql))"
   ]
  },
  {
   "cell_type": "code",
   "execution_count": 5,
   "id": "cognitive-chile",
   "metadata": {},
   "outputs": [
    {
     "data": {
      "text/html": [
       "<div>\n",
       "<style scoped>\n",
       "    .dataframe tbody tr th:only-of-type {\n",
       "        vertical-align: middle;\n",
       "    }\n",
       "\n",
       "    .dataframe tbody tr th {\n",
       "        vertical-align: top;\n",
       "    }\n",
       "\n",
       "    .dataframe thead th {\n",
       "        text-align: right;\n",
       "    }\n",
       "</style>\n",
       "<table border=\"1\" class=\"dataframe\">\n",
       "  <thead>\n",
       "    <tr style=\"text-align: right;\">\n",
       "      <th></th>\n",
       "      <th>sid</th>\n",
       "      <th>stationname</th>\n",
       "      <th>stationid</th>\n",
       "      <th>latitude</th>\n",
       "      <th>longitude</th>\n",
       "      <th>geom</th>\n",
       "    </tr>\n",
       "  </thead>\n",
       "  <tbody>\n",
       "    <tr>\n",
       "      <th>0</th>\n",
       "      <td>241</td>\n",
       "      <td>Nye Jørundland</td>\n",
       "      <td>19.244.0</td>\n",
       "      <td>1.11498</td>\n",
       "      <td>5.61744</td>\n",
       "      <td>0101000020E61000000EF8FC3042781640F41ABB44F5D6...</td>\n",
       "    </tr>\n",
       "  </tbody>\n",
       "</table>\n",
       "</div>"
      ],
      "text/plain": [
       "   sid     stationname stationid  latitude  longitude  \\\n",
       "0  241  Nye Jørundland  19.244.0   1.11498    5.61744   \n",
       "\n",
       "                                                geom  \n",
       "0  0101000020E61000000EF8FC3042781640F41ABB44F5D6...  "
      ]
     },
     "metadata": {},
     "output_type": "display_data"
    },
    {
     "data": {
      "text/html": [
       "<div>\n",
       "<style scoped>\n",
       "    .dataframe tbody tr th:only-of-type {\n",
       "        vertical-align: middle;\n",
       "    }\n",
       "\n",
       "    .dataframe tbody tr th {\n",
       "        vertical-align: top;\n",
       "    }\n",
       "\n",
       "    .dataframe thead th {\n",
       "        text-align: right;\n",
       "    }\n",
       "</style>\n",
       "<table border=\"1\" class=\"dataframe\">\n",
       "  <thead>\n",
       "    <tr style=\"text-align: right;\">\n",
       "      <th></th>\n",
       "      <th>sid</th>\n",
       "      <th>name</th>\n",
       "      <th>parameter</th>\n",
       "      <th>longitude</th>\n",
       "      <th>latitude</th>\n",
       "      <th>utme</th>\n",
       "      <th>utmn</th>\n",
       "    </tr>\n",
       "  </thead>\n",
       "  <tbody>\n",
       "    <tr>\n",
       "      <th>0</th>\n",
       "      <td>19.244.0</td>\n",
       "      <td>Nye Jørundland</td>\n",
       "      <td>Vannstand</td>\n",
       "      <td>5.61744</td>\n",
       "      <td>1.11498</td>\n",
       "      <td>-548573</td>\n",
       "      <td>124922</td>\n",
       "    </tr>\n",
       "    <tr>\n",
       "      <th>1</th>\n",
       "      <td>19.244.0</td>\n",
       "      <td>Nye Jørundland</td>\n",
       "      <td>Vannføring</td>\n",
       "      <td>5.61744</td>\n",
       "      <td>1.11498</td>\n",
       "      <td>-548573</td>\n",
       "      <td>124922</td>\n",
       "    </tr>\n",
       "  </tbody>\n",
       "</table>\n",
       "</div>"
      ],
      "text/plain": [
       "        sid            name   parameter  longitude  latitude    utme    utmn\n",
       "0  19.244.0  Nye Jørundland   Vannstand    5.61744   1.11498 -548573  124922\n",
       "1  19.244.0  Nye Jørundland  Vannføring    5.61744   1.11498 -548573  124922"
      ]
     },
     "metadata": {},
     "output_type": "display_data"
    }
   ],
   "source": [
    "#There is a problem with Nye Jørundland, it appears that the latitude is wrong. This will need fixing\n",
    "display(query('''select * from nveq.stations where stationid='19.244.0'  '''))\n",
    "\n",
    "#This query gets the coordinates directly from the metadata that was obtained from HydAPI\n",
    "a = query('''with bla as\n",
    "(\n",
    "select json_array_elements(metadata->'data') as singleelement from nveq.metadata\n",
    ")\n",
    "select singleelement->'stationId' as sid, singleelement->'stationName' as name ,singleelement->'parameterName' as parameter,\n",
    "singleelement->'longitude' as longitude,singleelement->'latitude' as latitude,\n",
    "singleelement->'utmEast_Z33' as utme,singleelement->'utmNorth_Z33' as utmn\n",
    "from  bla as a \n",
    "where (a.singleelement->>'stationId') = '19.244.0'\n",
    "''')\n",
    "display(a)"
   ]
  },
  {
   "cell_type": "code",
   "execution_count": 6,
   "id": "corrected-sleep",
   "metadata": {},
   "outputs": [
    {
     "data": {
      "text/plain": [
       "(1.1149882510510696, 5.617439450536286)"
      ]
     },
     "metadata": {},
     "output_type": "display_data"
    }
   ],
   "source": [
    "if not a.empty:\n",
    "    from pyproj import Transformer\n",
    "    transformer = Transformer.from_crs(\"epsg:25833\", \"epsg:4326\")\n",
    "    new_coord = transformer.transform(a.loc[0,'utme'],a.loc[0,'utmn'])\n",
    "    display(new_coord)"
   ]
  },
  {
   "cell_type": "markdown",
   "id": "oriental-tuesday",
   "metadata": {},
   "source": [
    "## Creating table with outlet coordinates\n",
    "A common problem with coordinates is that they do fall on an actual \"river\". In order for the basin delineation algorithm to work, the given coordinates should fall inside a cell considered a river in the flow accumulation raster. \n",
    "In order to guarantee this we will nudge, if necessary, the given coordinates so they fall in a cell considered to be a river. The process is not fool proof and the results should be quality controlled. "
   ]
  },
  {
   "cell_type": "code",
   "execution_count": 7,
   "id": "loose-warren",
   "metadata": {},
   "outputs": [
    {
     "data": {
      "text/html": [
       "<div>\n",
       "<style scoped>\n",
       "    .dataframe tbody tr th:only-of-type {\n",
       "        vertical-align: middle;\n",
       "    }\n",
       "\n",
       "    .dataframe tbody tr th {\n",
       "        vertical-align: top;\n",
       "    }\n",
       "\n",
       "    .dataframe thead th {\n",
       "        text-align: right;\n",
       "    }\n",
       "</style>\n",
       "<table border=\"1\" class=\"dataframe\">\n",
       "  <thead>\n",
       "    <tr style=\"text-align: right;\">\n",
       "      <th></th>\n",
       "      <th>sid</th>\n",
       "      <th>stationname</th>\n",
       "      <th>stationid</th>\n",
       "      <th>latitude</th>\n",
       "      <th>longitude</th>\n",
       "      <th>geom</th>\n",
       "    </tr>\n",
       "  </thead>\n",
       "  <tbody>\n",
       "    <tr>\n",
       "      <th>0</th>\n",
       "      <td>393</td>\n",
       "      <td>Nordmannset</td>\n",
       "      <td>230.1.0</td>\n",
       "      <td>7.911030e+06</td>\n",
       "      <td>9.544695e+05</td>\n",
       "      <td>0101000020E96400003A0C890ACB202D4155F451879D2D...</td>\n",
       "    </tr>\n",
       "    <tr>\n",
       "      <th>1</th>\n",
       "      <td>398</td>\n",
       "      <td>Båtsfjord</td>\n",
       "      <td>237.1.0</td>\n",
       "      <td>7.894752e+06</td>\n",
       "      <td>1.041687e+06</td>\n",
       "      <td>0101000020E9640000136099262DCA2F4185C57EF4B71D...</td>\n",
       "    </tr>\n",
       "    <tr>\n",
       "      <th>2</th>\n",
       "      <td>397</td>\n",
       "      <td>Kongsfjordelv</td>\n",
       "      <td>236.8.0</td>\n",
       "      <td>7.893933e+06</td>\n",
       "      <td>1.018511e+06</td>\n",
       "      <td>0101000020E9640000DC02FFC01E152F4146493833EB1C...</td>\n",
       "    </tr>\n",
       "    <tr>\n",
       "      <th>3</th>\n",
       "      <td>388</td>\n",
       "      <td>Ørretvatn</td>\n",
       "      <td>222.2.0</td>\n",
       "      <td>7.883016e+06</td>\n",
       "      <td>8.849578e+05</td>\n",
       "      <td>0101000020E9640000778DED92BB012B41BC14E6FA4112...</td>\n",
       "    </tr>\n",
       "    <tr>\n",
       "      <th>4</th>\n",
       "      <td>380</td>\n",
       "      <td>Kvalsund</td>\n",
       "      <td>213.4.0</td>\n",
       "      <td>7.844730e+06</td>\n",
       "      <td>8.327179e+05</td>\n",
       "      <td>0101000020E9640000FA9F22C09B6929411E6CAD76DEEC...</td>\n",
       "    </tr>\n",
       "    <tr>\n",
       "      <th>...</th>\n",
       "      <td>...</td>\n",
       "      <td>...</td>\n",
       "      <td>...</td>\n",
       "      <td>...</td>\n",
       "      <td>...</td>\n",
       "      <td>...</td>\n",
       "    </tr>\n",
       "    <tr>\n",
       "      <th>593</th>\n",
       "      <td>399</td>\n",
       "      <td>Møska (Skolandsvatnet)</td>\n",
       "      <td>24.8.0</td>\n",
       "      <td>6.474075e+06</td>\n",
       "      <td>3.380677e+04</td>\n",
       "      <td>0101000020E9640000B01E2C88D881E040200F90B256B2...</td>\n",
       "    </tr>\n",
       "    <tr>\n",
       "      <th>594</th>\n",
       "      <td>392</td>\n",
       "      <td>Gaupefossen</td>\n",
       "      <td>23.8.0</td>\n",
       "      <td>6.470237e+06</td>\n",
       "      <td>5.120889e+04</td>\n",
       "      <td>0101000020E964000070FB797C1C01E940B36B944797AE...</td>\n",
       "    </tr>\n",
       "    <tr>\n",
       "      <th>595</th>\n",
       "      <td>385</td>\n",
       "      <td>Kjølemo</td>\n",
       "      <td>22.4.0</td>\n",
       "      <td>6.466492e+06</td>\n",
       "      <td>6.037900e+04</td>\n",
       "      <td>0101000020E9640000F09C281F607BED40774AC20FEFAA...</td>\n",
       "    </tr>\n",
       "    <tr>\n",
       "      <th>596</th>\n",
       "      <td>366</td>\n",
       "      <td>Sømskleiva</td>\n",
       "      <td>21.49.0</td>\n",
       "      <td>6.466472e+06</td>\n",
       "      <td>9.147462e+04</td>\n",
       "      <td>0101000020E96400006C08BDFA2955F640FC1B77FDE9AA...</td>\n",
       "    </tr>\n",
       "    <tr>\n",
       "      <th>597</th>\n",
       "      <td>384</td>\n",
       "      <td>Søgne</td>\n",
       "      <td>22.22.0</td>\n",
       "      <td>6.461281e+06</td>\n",
       "      <td>7.805130e+04</td>\n",
       "      <td>0101000020E9640000A00F26CA340EF340DB2AFA34D8A5...</td>\n",
       "    </tr>\n",
       "  </tbody>\n",
       "</table>\n",
       "<p>598 rows × 6 columns</p>\n",
       "</div>"
      ],
      "text/plain": [
       "     sid             stationname stationid      latitude     longitude  \\\n",
       "0    393             Nordmannset   230.1.0  7.911030e+06  9.544695e+05   \n",
       "1    398               Båtsfjord   237.1.0  7.894752e+06  1.041687e+06   \n",
       "2    397           Kongsfjordelv   236.8.0  7.893933e+06  1.018511e+06   \n",
       "3    388               Ørretvatn   222.2.0  7.883016e+06  8.849578e+05   \n",
       "4    380                Kvalsund   213.4.0  7.844730e+06  8.327179e+05   \n",
       "..   ...                     ...       ...           ...           ...   \n",
       "593  399  Møska (Skolandsvatnet)    24.8.0  6.474075e+06  3.380677e+04   \n",
       "594  392             Gaupefossen    23.8.0  6.470237e+06  5.120889e+04   \n",
       "595  385                 Kjølemo    22.4.0  6.466492e+06  6.037900e+04   \n",
       "596  366              Sømskleiva   21.49.0  6.466472e+06  9.147462e+04   \n",
       "597  384                   Søgne   22.22.0  6.461281e+06  7.805130e+04   \n",
       "\n",
       "                                                  geom  \n",
       "0    0101000020E96400003A0C890ACB202D4155F451879D2D...  \n",
       "1    0101000020E9640000136099262DCA2F4185C57EF4B71D...  \n",
       "2    0101000020E9640000DC02FFC01E152F4146493833EB1C...  \n",
       "3    0101000020E9640000778DED92BB012B41BC14E6FA4112...  \n",
       "4    0101000020E9640000FA9F22C09B6929411E6CAD76DEEC...  \n",
       "..                                                 ...  \n",
       "593  0101000020E9640000B01E2C88D881E040200F90B256B2...  \n",
       "594  0101000020E964000070FB797C1C01E940B36B944797AE...  \n",
       "595  0101000020E9640000F09C281F607BED40774AC20FEFAA...  \n",
       "596  0101000020E96400006C08BDFA2955F640FC1B77FDE9AA...  \n",
       "597  0101000020E9640000A00F26CA340EF340DB2AFA34D8A5...  \n",
       "\n",
       "[598 rows x 6 columns]"
      ]
     },
     "metadata": {},
     "output_type": "display_data"
    }
   ],
   "source": [
    "#We will not include the Nye Jørundland stations until we get the right coordinates for it\n",
    "#Please note that in the outlet table we will setup the srid of the outlet to 3035 since\n",
    "#that is the epsg of the rasters we use to compute the basins\n",
    "sql = '''drop table if exists {schema}.outlet cascade;\n",
    "create table {schema}.outlet as select sid, stationname, stationid, latitude, longitude, st_transform(geom,25833) as geom from {schema}.stations as a\n",
    "where a.stationid != '19.244.0';\n",
    "update {schema}.outlet\n",
    "set latitude=st_y(geom),\n",
    "longitude=st_x(geom);\n",
    "\n",
    "create index {schema}_outlet_idx on {schema}.outlet using gist(geom);\n",
    "\n",
    "delete from {schema}.outlet where latitude > 8e6;\n",
    "\n",
    "alter table {schema}.outlet add primary key (sid);\n",
    "\n",
    "alter table {schema}.outlet add constraint fk_basin\n",
    "foreign key(sid) \n",
    "references {schema}.stations(sid);\n",
    "\n",
    "'''.format(schema=schema)\n",
    "query(sql,fetch=False)\n",
    "display(query('''select * from {schema}.outlet order by latitude desc;'''.format(schema=schema)))"
   ]
  },
  {
   "cell_type": "markdown",
   "id": "threaded-toolbox",
   "metadata": {},
   "source": [
    "The NVE river dataset was burned into the elevation raster when doing the hydrological processing. \n",
    "Therefore, a good first approximation for the outlet position is the nearest point falling in a river."
   ]
  },
  {
   "cell_type": "code",
   "execution_count": 8,
   "id": "everyday-issue",
   "metadata": {},
   "outputs": [
    {
     "name": "stdout",
     "output_type": "stream",
     "text": [
      "CPU times: user 5.32 ms, sys: 1.38 ms, total: 6.7 ms\n",
      "Wall time: 10.1 s\n"
     ]
    }
   ],
   "source": [
    "%%time\n",
    "#Moving outlet to the closest river, within a 500m radius\n",
    "sql = '''update {schema}.outlet as a \n",
    "set geom = \n",
    "case \n",
    "when st_intersects(st_buffer(a.geom,500),b.geom) then\n",
    "(\n",
    "select st_closestpoint(st_union(b.geom),a.geom) from elv.elvenett25833 as b \n",
    "where st_intersects(st_buffer(a.geom,500),b.geom)\n",
    ")\n",
    "else a.geom\n",
    "end\n",
    "from elv.elvenett25833 as b where st_intersects(st_buffer(a.geom,500),b.geom);\n",
    ";\n",
    "update {schema}.outlet\n",
    "set latitude=st_y(geom),\n",
    "longitude=st_x(geom);\n",
    "\n",
    "'''.format(schema=schema)\n",
    "query(sql,fetch=False)\n",
    "\n"
   ]
  },
  {
   "cell_type": "code",
   "execution_count": 9,
   "id": "contrary-welcome",
   "metadata": {},
   "outputs": [
    {
     "data": {
      "text/html": [
       "<div>\n",
       "<style scoped>\n",
       "    .dataframe tbody tr th:only-of-type {\n",
       "        vertical-align: middle;\n",
       "    }\n",
       "\n",
       "    .dataframe tbody tr th {\n",
       "        vertical-align: top;\n",
       "    }\n",
       "\n",
       "    .dataframe thead th {\n",
       "        text-align: right;\n",
       "    }\n",
       "</style>\n",
       "<table border=\"1\" class=\"dataframe\">\n",
       "  <thead>\n",
       "    <tr style=\"text-align: right;\">\n",
       "      <th></th>\n",
       "      <th>gid</th>\n",
       "      <th>sids</th>\n",
       "    </tr>\n",
       "  </thead>\n",
       "  <tbody>\n",
       "    <tr>\n",
       "      <th>0</th>\n",
       "      <td>1</td>\n",
       "      <td>[5, 4, 3, 2, 1]</td>\n",
       "    </tr>\n",
       "    <tr>\n",
       "      <th>1</th>\n",
       "      <td>2</td>\n",
       "      <td>[336, 338, 339, 340, 313, 312, 311, 310, 309, ...</td>\n",
       "    </tr>\n",
       "    <tr>\n",
       "      <th>2</th>\n",
       "      <td>3</td>\n",
       "      <td>[434, 433]</td>\n",
       "    </tr>\n",
       "    <tr>\n",
       "      <th>3</th>\n",
       "      <td>5</td>\n",
       "      <td>[480, 483, 481, 482]</td>\n",
       "    </tr>\n",
       "    <tr>\n",
       "      <th>4</th>\n",
       "      <td>6</td>\n",
       "      <td>[500, 501, 499, 498, 497, 496, 495, 494, 493, ...</td>\n",
       "    </tr>\n",
       "    <tr>\n",
       "      <th>...</th>\n",
       "      <td>...</td>\n",
       "      <td>...</td>\n",
       "    </tr>\n",
       "    <tr>\n",
       "      <th>160</th>\n",
       "      <td>250</td>\n",
       "      <td>[436]</td>\n",
       "    </tr>\n",
       "    <tr>\n",
       "      <th>161</th>\n",
       "      <td>254</td>\n",
       "      <td>[438, 437]</td>\n",
       "    </tr>\n",
       "    <tr>\n",
       "      <th>162</th>\n",
       "      <td>255</td>\n",
       "      <td>[439]</td>\n",
       "    </tr>\n",
       "    <tr>\n",
       "      <th>163</th>\n",
       "      <td>258</td>\n",
       "      <td>[440, 443, 444, 441]</td>\n",
       "    </tr>\n",
       "    <tr>\n",
       "      <th>164</th>\n",
       "      <td>260</td>\n",
       "      <td>[446, 445]</td>\n",
       "    </tr>\n",
       "  </tbody>\n",
       "</table>\n",
       "<p>165 rows × 2 columns</p>\n",
       "</div>"
      ],
      "text/plain": [
       "     gid                                               sids\n",
       "0      1                                    [5, 4, 3, 2, 1]\n",
       "1      2  [336, 338, 339, 340, 313, 312, 311, 310, 309, ...\n",
       "2      3                                         [434, 433]\n",
       "3      5                               [480, 483, 481, 482]\n",
       "4      6  [500, 501, 499, 498, 497, 496, 495, 494, 493, ...\n",
       "..   ...                                                ...\n",
       "160  250                                              [436]\n",
       "161  254                                         [438, 437]\n",
       "162  255                                              [439]\n",
       "163  258                               [440, 443, 444, 441]\n",
       "164  260                                         [446, 445]\n",
       "\n",
       "[165 rows x 2 columns]"
      ]
     },
     "metadata": {},
     "output_type": "display_data"
    }
   ],
   "source": [
    "#Loading the flow accumulation raster locally. We will do the computation one basin at a time. We exclude the stations in Svalbard\n",
    "#for which we have no elevation data\n",
    "sql = '''with bla as\n",
    "(select sid,stationid,stationname,st_transform(geom,3045) as geom from {schema}.stations)\n",
    "select distinct a.gid, array_agg(sid) as sids\n",
    "from nedborfelt.vassdragsomr as a, bla as b \n",
    "where st_intersects(a.geom,b.geom)\n",
    "and st_y(b.geom) < 8e6\n",
    "group by a.gid;'''.format(schema = schema)\n",
    "\n",
    "a = query(sql)\n",
    "display(a)"
   ]
  },
  {
   "cell_type": "code",
   "execution_count": 10,
   "id": "skilled-thermal",
   "metadata": {},
   "outputs": [
    {
     "name": "stderr",
     "output_type": "stream",
     "text": [
      "165it [07:52,  2.86s/it]\n"
     ]
    }
   ],
   "source": [
    "#Processing all stations within one basin\n",
    "import numpy as np\n",
    "from tqdm import tqdm\n",
    "\n",
    "#Creating temporary directory to download data and place intermediary files\n",
    "with Connection('localhost') as c:\n",
    "    c.local('rm -rf geodata && mkdir geodata')\n",
    "\n",
    "#A river defined as a pixel with more than 1km2  upstream areas (10k cells)\n",
    "def find_nearest_river(pixel):\n",
    "    #Returns index to numpy array\n",
    "    distances = (nonzero[:,0] - pixel[0]) ** 2 + (nonzero[:,1] - pixel[1]) ** 2\n",
    "    nearest_index = np.argmin(distances)\n",
    "#     display(nearest_index)\n",
    "    return nonzero[nearest_index]\n",
    "\n",
    "def coordsFromPixel(i,j):\n",
    "    #i, j are pixel coordinated in the numpy array\n",
    "    long = xoffset + (j+0.5) * px_w  #adding half a pixel width so the coordinates are centered\n",
    "    lat = yoffset + (i+0.5) * px_h  \n",
    "    return long,lat\n",
    "\n",
    "def pixelFromCoord(long,lat):\n",
    "    #Returns index to numpy array\n",
    "    i = (long - xoffset) / px_w\n",
    "    j = (lat - yoffset) / px_h\n",
    "#     display([sid,long,lat,i,j])\n",
    "    return (int(j),int(i))\n",
    "\n",
    "sql = '''select sid, longitude, latitude from {schema}.outlet where sid in ({idList}); '''\n",
    "\n",
    "updateSql = '''update {schema}.outlet\n",
    "set longitude = {long},\n",
    "latitude = {lat}\n",
    "where sid = {sid};\n",
    "\n",
    "update {schema}.outlet\n",
    "set geom = st_setsrid(st_makepoint(longitude,latitude),25833)\n",
    "where sid={sid};\n",
    "'''\n",
    "\n",
    "for i,j in tqdm(a.iterrows()):\n",
    "    gid = j['gid']\n",
    "    sids = j['sids']\n",
    "#     display(gid,sids)    \n",
    "    coords = query(sql.format(schema=schema,idList=str(sids)[1:-1]))\n",
    "    coords.set_index('sid',inplace=True)\n",
    "#     display(coords)\n",
    "    with Connection(**config) as c:\n",
    "        c.get('/home/jose-luis/flatLake/basin_{}_flow_acc.tif'.format(gid),'./geodata/')\n",
    "        dataset = gdal.Open('geodata/basin_{}_flow_acc.tif'.format(gid),gdal.GA_ReadOnly)\n",
    "        xoffset, px_w, rot1, yoffset, rot2, px_h = dataset.GetGeoTransform()\n",
    "#         display([xoffset, px_w, rot1, yoffset, rot2, px_h])\n",
    "        #IMPORTANT: the index order is inverted when loading into a numpy array. \n",
    "        #This is the reason of the index gymnastics in the following code\n",
    "        river = np.array(dataset.GetRasterBand(1).ReadAsArray())\n",
    "        nonzero = np.argwhere(river > 10000)\n",
    "#         display(len(nonzero))\n",
    "        for sid in sids:\n",
    "            long = coords.loc[sid,'longitude']\n",
    "            lat = coords.loc[sid,'latitude']\n",
    "            currentPixel = pixelFromCoord(long,lat)\n",
    "#             display(\"Current flow_acc: {}\".format(river[currentPixel[1],currentPixel[0]]))\n",
    "            riverPixel = find_nearest_river(currentPixel)\n",
    "#             display(\"Updated flow_acc: {}\".format(river[riverPixel[0],riverPixel[1]]))\n",
    "#             display([long,lat,currentPixel,riverPixel])\n",
    "            new_x,new_y = coordsFromPixel(riverPixel[0],riverPixel[1])\n",
    "#             display([sid,long,lat,new_x,new_y])\n",
    "            query(updateSql.format(schema=schema,sid=sid,long=new_x,lat=new_y),fetch=False)\n",
    "    with Connection('localhost') as c:\n",
    "        c.local('rm geodata/basin_{}_flow_acc.tif'.format(gid))\n",
    "    \n",
    "#             display([long,lat,new_x,new_y])\n",
    "            \n",
    "        0"
   ]
  },
  {
   "cell_type": "markdown",
   "id": "whole-identity",
   "metadata": {},
   "source": [
    "## Computing the basins from the modified coordinates"
   ]
  },
  {
   "cell_type": "code",
   "execution_count": 17,
   "id": "golden-landing",
   "metadata": {},
   "outputs": [
    {
     "data": {
      "text/html": [
       "<div>\n",
       "<style scoped>\n",
       "    .dataframe tbody tr th:only-of-type {\n",
       "        vertical-align: middle;\n",
       "    }\n",
       "\n",
       "    .dataframe tbody tr th {\n",
       "        vertical-align: top;\n",
       "    }\n",
       "\n",
       "    .dataframe thead th {\n",
       "        text-align: right;\n",
       "    }\n",
       "</style>\n",
       "<table border=\"1\" class=\"dataframe\">\n",
       "  <thead>\n",
       "    <tr style=\"text-align: right;\">\n",
       "      <th></th>\n",
       "      <th>sid</th>\n",
       "      <th>stationid</th>\n",
       "      <th>gid</th>\n",
       "      <th>vassomr</th>\n",
       "      <th>area</th>\n",
       "    </tr>\n",
       "  </thead>\n",
       "  <tbody>\n",
       "    <tr>\n",
       "      <th>0</th>\n",
       "      <td>1</td>\n",
       "      <td>1.198.0</td>\n",
       "      <td>1</td>\n",
       "      <td>Haldenvassdraget/Iddefjorden</td>\n",
       "      <td>2507.380211</td>\n",
       "    </tr>\n",
       "    <tr>\n",
       "      <th>1</th>\n",
       "      <td>2</td>\n",
       "      <td>1.200.0</td>\n",
       "      <td>1</td>\n",
       "      <td>Haldenvassdraget/Iddefjorden</td>\n",
       "      <td>2507.380211</td>\n",
       "    </tr>\n",
       "    <tr>\n",
       "      <th>2</th>\n",
       "      <td>3</td>\n",
       "      <td>1.48.0</td>\n",
       "      <td>1</td>\n",
       "      <td>Haldenvassdraget/Iddefjorden</td>\n",
       "      <td>2507.380211</td>\n",
       "    </tr>\n",
       "    <tr>\n",
       "      <th>3</th>\n",
       "      <td>4</td>\n",
       "      <td>1.49.0</td>\n",
       "      <td>1</td>\n",
       "      <td>Haldenvassdraget/Iddefjorden</td>\n",
       "      <td>2507.380211</td>\n",
       "    </tr>\n",
       "    <tr>\n",
       "      <th>4</th>\n",
       "      <td>5</td>\n",
       "      <td>1.50.0</td>\n",
       "      <td>1</td>\n",
       "      <td>Haldenvassdraget/Iddefjorden</td>\n",
       "      <td>2507.380211</td>\n",
       "    </tr>\n",
       "    <tr>\n",
       "      <th>...</th>\n",
       "      <td>...</td>\n",
       "      <td>...</td>\n",
       "      <td>...</td>\n",
       "      <td>...</td>\n",
       "      <td>...</td>\n",
       "    </tr>\n",
       "    <tr>\n",
       "      <th>597</th>\n",
       "      <td>599</td>\n",
       "      <td>97.5.0</td>\n",
       "      <td>97</td>\n",
       "      <td>Storfjorden sør, Hjørundfjorden og Sykkylvsfjo...</td>\n",
       "      <td>868.995031</td>\n",
       "    </tr>\n",
       "    <tr>\n",
       "      <th>598</th>\n",
       "      <td>600</td>\n",
       "      <td>98.4.0</td>\n",
       "      <td>98</td>\n",
       "      <td>Storfjorden sør, Sunnylvsfjorden og Geirangerf...</td>\n",
       "      <td>1003.641202</td>\n",
       "    </tr>\n",
       "    <tr>\n",
       "      <th>599</th>\n",
       "      <td>601</td>\n",
       "      <td>99.1.0</td>\n",
       "      <td>99</td>\n",
       "      <td>Tafjordvassdraget/Tafjorden og Norddalsfjorden...</td>\n",
       "      <td>643.801323</td>\n",
       "    </tr>\n",
       "    <tr>\n",
       "      <th>600</th>\n",
       "      <td>602</td>\n",
       "      <td>99.17.0</td>\n",
       "      <td>99</td>\n",
       "      <td>Tafjordvassdraget/Tafjorden og Norddalsfjorden...</td>\n",
       "      <td>643.801323</td>\n",
       "    </tr>\n",
       "    <tr>\n",
       "      <th>601</th>\n",
       "      <td>603</td>\n",
       "      <td>99.2.0</td>\n",
       "      <td>99</td>\n",
       "      <td>Tafjordvassdraget/Tafjorden og Norddalsfjorden...</td>\n",
       "      <td>643.801323</td>\n",
       "    </tr>\n",
       "  </tbody>\n",
       "</table>\n",
       "<p>602 rows × 5 columns</p>\n",
       "</div>"
      ],
      "text/plain": [
       "     sid stationid  gid                                            vassomr  \\\n",
       "0      1   1.198.0    1                       Haldenvassdraget/Iddefjorden   \n",
       "1      2   1.200.0    1                       Haldenvassdraget/Iddefjorden   \n",
       "2      3    1.48.0    1                       Haldenvassdraget/Iddefjorden   \n",
       "3      4    1.49.0    1                       Haldenvassdraget/Iddefjorden   \n",
       "4      5    1.50.0    1                       Haldenvassdraget/Iddefjorden   \n",
       "..   ...       ...  ...                                                ...   \n",
       "597  599    97.5.0   97  Storfjorden sør, Hjørundfjorden og Sykkylvsfjo...   \n",
       "598  600    98.4.0   98  Storfjorden sør, Sunnylvsfjorden og Geirangerf...   \n",
       "599  601    99.1.0   99  Tafjordvassdraget/Tafjorden og Norddalsfjorden...   \n",
       "600  602   99.17.0   99  Tafjordvassdraget/Tafjorden og Norddalsfjorden...   \n",
       "601  603    99.2.0   99  Tafjordvassdraget/Tafjorden og Norddalsfjorden...   \n",
       "\n",
       "            area  \n",
       "0    2507.380211  \n",
       "1    2507.380211  \n",
       "2    2507.380211  \n",
       "3    2507.380211  \n",
       "4    2507.380211  \n",
       "..           ...  \n",
       "597   868.995031  \n",
       "598  1003.641202  \n",
       "599   643.801323  \n",
       "600   643.801323  \n",
       "601   643.801323  \n",
       "\n",
       "[602 rows x 5 columns]"
      ]
     },
     "metadata": {},
     "output_type": "display_data"
    },
    {
     "data": {
      "text/plain": [
       "[1, '1.198.0']"
      ]
     },
     "metadata": {},
     "output_type": "display_data"
    },
    {
     "data": {
      "text/plain": [
       "[2, '1.200.0']"
      ]
     },
     "metadata": {},
     "output_type": "display_data"
    },
    {
     "data": {
      "text/plain": [
       "[3, '1.48.0']"
      ]
     },
     "metadata": {},
     "output_type": "display_data"
    },
    {
     "data": {
      "text/plain": [
       "[4, '1.49.0']"
      ]
     },
     "metadata": {},
     "output_type": "display_data"
    },
    {
     "data": {
      "text/plain": [
       "[5, '1.50.0']"
      ]
     },
     "metadata": {},
     "output_type": "display_data"
    },
    {
     "data": {
      "text/plain": [
       "[6, '100.1.0']"
      ]
     },
     "metadata": {},
     "output_type": "display_data"
    },
    {
     "data": {
      "text/plain": [
       "[7, '101.1.0']"
      ]
     },
     "metadata": {},
     "output_type": "display_data"
    },
    {
     "data": {
      "text/plain": [
       "[8, '102.1.0']"
      ]
     },
     "metadata": {},
     "output_type": "display_data"
    },
    {
     "data": {
      "text/plain": [
       "[9, '103.1.0']"
      ]
     },
     "metadata": {},
     "output_type": "display_data"
    },
    {
     "data": {
      "text/plain": [
       "[10, '103.10.0']"
      ]
     },
     "metadata": {},
     "output_type": "display_data"
    },
    {
     "data": {
      "text/plain": [
       "[11, '103.19.0']"
      ]
     },
     "metadata": {},
     "output_type": "display_data"
    },
    {
     "data": {
      "text/plain": [
       "[12, '103.20.0']"
      ]
     },
     "metadata": {},
     "output_type": "display_data"
    },
    {
     "data": {
      "text/plain": [
       "[13, '103.3.0']"
      ]
     },
     "metadata": {},
     "output_type": "display_data"
    },
    {
     "data": {
      "text/plain": [
       "[14, '103.40.0']"
      ]
     },
     "metadata": {},
     "output_type": "display_data"
    },
    {
     "data": {
      "text/plain": [
       "[15, '104.19.0']"
      ]
     },
     "metadata": {},
     "output_type": "display_data"
    },
    {
     "data": {
      "text/plain": [
       "[16, '104.22.0']"
      ]
     },
     "metadata": {},
     "output_type": "display_data"
    },
    {
     "data": {
      "text/plain": [
       "[17, '104.23.0']"
      ]
     },
     "metadata": {},
     "output_type": "display_data"
    },
    {
     "data": {
      "text/plain": [
       "[18, '104.3.0']"
      ]
     },
     "metadata": {},
     "output_type": "display_data"
    },
    {
     "data": {
      "text/plain": [
       "[19, '105.1.0']"
      ]
     },
     "metadata": {},
     "output_type": "display_data"
    },
    {
     "data": {
      "text/plain": [
       "[20, '107.3.0']"
      ]
     },
     "metadata": {},
     "output_type": "display_data"
    },
    {
     "data": {
      "text/plain": [
       "[21, '109.20.0']"
      ]
     },
     "metadata": {},
     "output_type": "display_data"
    },
    {
     "data": {
      "text/plain": [
       "[22, '109.21.0']"
      ]
     },
     "metadata": {},
     "output_type": "display_data"
    },
    {
     "data": {
      "text/plain": [
       "[23, '109.42.0']"
      ]
     },
     "metadata": {},
     "output_type": "display_data"
    },
    {
     "data": {
      "text/plain": [
       "[24, '109.9.0']"
      ]
     },
     "metadata": {},
     "output_type": "display_data"
    },
    {
     "data": {
      "text/plain": [
       "[25, '11.4.0']"
      ]
     },
     "metadata": {},
     "output_type": "display_data"
    },
    {
     "data": {
      "text/plain": [
       "[26, '110.1.0']"
      ]
     },
     "metadata": {},
     "output_type": "display_data"
    },
    {
     "data": {
      "text/plain": [
       "[27, '110.2.0']"
      ]
     },
     "metadata": {},
     "output_type": "display_data"
    },
    {
     "data": {
      "text/plain": [
       "[28, '111.10.0']"
      ]
     },
     "metadata": {},
     "output_type": "display_data"
    },
    {
     "data": {
      "text/plain": [
       "[29, '111.5.0']"
      ]
     },
     "metadata": {},
     "output_type": "display_data"
    },
    {
     "data": {
      "text/plain": [
       "[30, '111.9.0']"
      ]
     },
     "metadata": {},
     "output_type": "display_data"
    },
    {
     "data": {
      "text/plain": [
       "[31, '112.13.0']"
      ]
     },
     "metadata": {},
     "output_type": "display_data"
    },
    {
     "data": {
      "text/plain": [
       "[32, '112.14.0']"
      ]
     },
     "metadata": {},
     "output_type": "display_data"
    },
    {
     "data": {
      "text/plain": [
       "[33, '112.27.0']"
      ]
     },
     "metadata": {},
     "output_type": "display_data"
    },
    {
     "data": {
      "text/plain": [
       "[34, '112.8.0']"
      ]
     },
     "metadata": {},
     "output_type": "display_data"
    },
    {
     "data": {
      "text/plain": [
       "[35, '114.1.0']"
      ]
     },
     "metadata": {},
     "output_type": "display_data"
    },
    {
     "data": {
      "text/plain": [
       "[36, '117.4.0']"
      ]
     },
     "metadata": {},
     "output_type": "display_data"
    },
    {
     "data": {
      "text/plain": [
       "[37, '119.4.0']"
      ]
     },
     "metadata": {},
     "output_type": "display_data"
    },
    {
     "data": {
      "text/plain": [
       "[38, '12.111.0']"
      ]
     },
     "metadata": {},
     "output_type": "display_data"
    },
    {
     "data": {
      "text/plain": [
       "[39, '12.113.0']"
      ]
     },
     "metadata": {},
     "output_type": "display_data"
    },
    {
     "data": {
      "text/plain": [
       "[40, '12.114.0']"
      ]
     },
     "metadata": {},
     "output_type": "display_data"
    },
    {
     "data": {
      "text/plain": [
       "[41, '12.117.0']"
      ]
     },
     "metadata": {},
     "output_type": "display_data"
    },
    {
     "data": {
      "text/plain": [
       "[42, '12.13.0']"
      ]
     },
     "metadata": {},
     "output_type": "display_data"
    },
    {
     "data": {
      "text/plain": [
       "[43, '12.130.0']"
      ]
     },
     "metadata": {},
     "output_type": "display_data"
    },
    {
     "data": {
      "text/plain": [
       "[44, '12.136.0']"
      ]
     },
     "metadata": {},
     "output_type": "display_data"
    },
    {
     "data": {
      "text/plain": [
       "[45, '12.150.0']"
      ]
     },
     "metadata": {},
     "output_type": "display_data"
    },
    {
     "data": {
      "text/plain": [
       "[46, '12.167.0']"
      ]
     },
     "metadata": {},
     "output_type": "display_data"
    },
    {
     "data": {
      "text/plain": [
       "[47, '12.171.0']"
      ]
     },
     "metadata": {},
     "output_type": "display_data"
    },
    {
     "data": {
      "text/plain": [
       "[48, '12.178.0']"
      ]
     },
     "metadata": {},
     "output_type": "display_data"
    },
    {
     "data": {
      "text/plain": [
       "[49, '12.188.0']"
      ]
     },
     "metadata": {},
     "output_type": "display_data"
    },
    {
     "data": {
      "text/plain": [
       "[50, '12.192.0']"
      ]
     },
     "metadata": {},
     "output_type": "display_data"
    },
    {
     "data": {
      "text/plain": [
       "[51, '12.193.0']"
      ]
     },
     "metadata": {},
     "output_type": "display_data"
    },
    {
     "data": {
      "text/plain": [
       "[52, '12.194.0']"
      ]
     },
     "metadata": {},
     "output_type": "display_data"
    },
    {
     "data": {
      "text/plain": [
       "[53, '12.197.0']"
      ]
     },
     "metadata": {},
     "output_type": "display_data"
    },
    {
     "data": {
      "text/plain": [
       "[54, '12.200.0']"
      ]
     },
     "metadata": {},
     "output_type": "display_data"
    },
    {
     "data": {
      "text/plain": [
       "[55, '12.207.0']"
      ]
     },
     "metadata": {},
     "output_type": "display_data"
    },
    {
     "data": {
      "text/plain": [
       "[56, '12.208.0']"
      ]
     },
     "metadata": {},
     "output_type": "display_data"
    },
    {
     "data": {
      "text/plain": [
       "[57, '12.209.0']"
      ]
     },
     "metadata": {},
     "output_type": "display_data"
    },
    {
     "data": {
      "text/plain": [
       "[58, '12.212.0']"
      ]
     },
     "metadata": {},
     "output_type": "display_data"
    },
    {
     "data": {
      "text/plain": [
       "[59, '12.215.0']"
      ]
     },
     "metadata": {},
     "output_type": "display_data"
    },
    {
     "data": {
      "text/plain": [
       "[60, '12.220.0']"
      ]
     },
     "metadata": {},
     "output_type": "display_data"
    },
    {
     "data": {
      "text/plain": [
       "[61, '12.228.0']"
      ]
     },
     "metadata": {},
     "output_type": "display_data"
    },
    {
     "data": {
      "text/plain": [
       "[62, '12.285.0']"
      ]
     },
     "metadata": {},
     "output_type": "display_data"
    },
    {
     "data": {
      "text/plain": [
       "[63, '12.286.0']"
      ]
     },
     "metadata": {},
     "output_type": "display_data"
    },
    {
     "data": {
      "text/plain": [
       "[64, '12.289.0']"
      ]
     },
     "metadata": {},
     "output_type": "display_data"
    },
    {
     "data": {
      "text/plain": [
       "[65, '12.290.0']"
      ]
     },
     "metadata": {},
     "output_type": "display_data"
    },
    {
     "data": {
      "text/plain": [
       "[66, '12.534.0']"
      ]
     },
     "metadata": {},
     "output_type": "display_data"
    },
    {
     "data": {
      "text/plain": [
       "[67, '12.603.0']"
      ]
     },
     "metadata": {},
     "output_type": "display_data"
    },
    {
     "data": {
      "text/plain": [
       "[68, '12.65.0']"
      ]
     },
     "metadata": {},
     "output_type": "display_data"
    },
    {
     "data": {
      "text/plain": [
       "[69, '12.69.0']"
      ]
     },
     "metadata": {},
     "output_type": "display_data"
    },
    {
     "data": {
      "text/plain": [
       "[70, '12.70.0']"
      ]
     },
     "metadata": {},
     "output_type": "display_data"
    },
    {
     "data": {
      "text/plain": [
       "[71, '12.75.0']"
      ]
     },
     "metadata": {},
     "output_type": "display_data"
    },
    {
     "data": {
      "text/plain": [
       "[72, '12.76.0']"
      ]
     },
     "metadata": {},
     "output_type": "display_data"
    },
    {
     "data": {
      "text/plain": [
       "[73, '12.77.0']"
      ]
     },
     "metadata": {},
     "output_type": "display_data"
    },
    {
     "data": {
      "text/plain": [
       "[74, '12.8.0']"
      ]
     },
     "metadata": {},
     "output_type": "display_data"
    },
    {
     "data": {
      "text/plain": [
       "[75, '12.88.0']"
      ]
     },
     "metadata": {},
     "output_type": "display_data"
    },
    {
     "data": {
      "text/plain": [
       "[76, '12.91.0']"
      ]
     },
     "metadata": {},
     "output_type": "display_data"
    },
    {
     "data": {
      "text/plain": [
       "[77, '12.99.0']"
      ]
     },
     "metadata": {},
     "output_type": "display_data"
    },
    {
     "data": {
      "text/plain": [
       "[78, '121.10.0']"
      ]
     },
     "metadata": {},
     "output_type": "display_data"
    },
    {
     "data": {
      "text/plain": [
       "[79, '121.20.0']"
      ]
     },
     "metadata": {},
     "output_type": "display_data"
    },
    {
     "data": {
      "text/plain": [
       "[80, '121.22.0']"
      ]
     },
     "metadata": {},
     "output_type": "display_data"
    },
    {
     "data": {
      "text/plain": [
       "[81, '121.23.0']"
      ]
     },
     "metadata": {},
     "output_type": "display_data"
    },
    {
     "data": {
      "text/plain": [
       "[82, '121.25.0']"
      ]
     },
     "metadata": {},
     "output_type": "display_data"
    },
    {
     "data": {
      "text/plain": [
       "[83, '121.29.0']"
      ]
     },
     "metadata": {},
     "output_type": "display_data"
    },
    {
     "data": {
      "text/plain": [
       "[84, '121.39.0']"
      ]
     },
     "metadata": {},
     "output_type": "display_data"
    },
    {
     "data": {
      "text/plain": [
       "[85, '121.4.0']"
      ]
     },
     "metadata": {},
     "output_type": "display_data"
    },
    {
     "data": {
      "text/plain": [
       "[86, '122.11.0']"
      ]
     },
     "metadata": {},
     "output_type": "display_data"
    },
    {
     "data": {
      "text/plain": [
       "[87, '122.14.0']"
      ]
     },
     "metadata": {},
     "output_type": "display_data"
    },
    {
     "data": {
      "text/plain": [
       "[88, '122.16.0']"
      ]
     },
     "metadata": {},
     "output_type": "display_data"
    },
    {
     "data": {
      "text/plain": [
       "[89, '122.17.0']"
      ]
     },
     "metadata": {},
     "output_type": "display_data"
    },
    {
     "data": {
      "text/plain": [
       "[90, '122.19.0']"
      ]
     },
     "metadata": {},
     "output_type": "display_data"
    },
    {
     "data": {
      "text/plain": [
       "[91, '122.9.0']"
      ]
     },
     "metadata": {},
     "output_type": "display_data"
    },
    {
     "data": {
      "text/plain": [
       "[92, '123.113.0']"
      ]
     },
     "metadata": {},
     "output_type": "display_data"
    },
    {
     "data": {
      "text/plain": [
       "[93, '123.20.0']"
      ]
     },
     "metadata": {},
     "output_type": "display_data"
    },
    {
     "data": {
      "text/plain": [
       "[94, '123.28.0']"
      ]
     },
     "metadata": {},
     "output_type": "display_data"
    },
    {
     "data": {
      "text/plain": [
       "[95, '123.29.0']"
      ]
     },
     "metadata": {},
     "output_type": "display_data"
    },
    {
     "data": {
      "text/plain": [
       "[96, '123.30.0']"
      ]
     },
     "metadata": {},
     "output_type": "display_data"
    },
    {
     "data": {
      "text/plain": [
       "[97, '123.31.0']"
      ]
     },
     "metadata": {},
     "output_type": "display_data"
    },
    {
     "data": {
      "text/plain": [
       "[98, '123.38.0']"
      ]
     },
     "metadata": {},
     "output_type": "display_data"
    },
    {
     "data": {
      "text/plain": [
       "[99, '123.73.0']"
      ]
     },
     "metadata": {},
     "output_type": "display_data"
    },
    {
     "data": {
      "text/plain": [
       "[100, '123.95.0']"
      ]
     },
     "metadata": {},
     "output_type": "display_data"
    },
    {
     "data": {
      "text/plain": [
       "[101, '124.12.0']"
      ]
     },
     "metadata": {},
     "output_type": "display_data"
    },
    {
     "data": {
      "text/plain": [
       "[102, '124.13.0']"
      ]
     },
     "metadata": {},
     "output_type": "display_data"
    },
    {
     "data": {
      "text/plain": [
       "[103, '124.15.0']"
      ]
     },
     "metadata": {},
     "output_type": "display_data"
    },
    {
     "data": {
      "text/plain": [
       "[104, '124.16.0']"
      ]
     },
     "metadata": {},
     "output_type": "display_data"
    },
    {
     "data": {
      "text/plain": [
       "[105, '124.2.0']"
      ]
     },
     "metadata": {},
     "output_type": "display_data"
    },
    {
     "data": {
      "text/plain": [
       "[106, '125.4.0']"
      ]
     },
     "metadata": {},
     "output_type": "display_data"
    },
    {
     "data": {
      "text/plain": [
       "[107, '126.2.0']"
      ]
     },
     "metadata": {},
     "output_type": "display_data"
    },
    {
     "data": {
      "text/plain": [
       "[108, '126.3.0']"
      ]
     },
     "metadata": {},
     "output_type": "display_data"
    },
    {
     "data": {
      "text/plain": [
       "[109, '127.11.0']"
      ]
     },
     "metadata": {},
     "output_type": "display_data"
    },
    {
     "data": {
      "text/plain": [
       "[110, '127.13.0']"
      ]
     },
     "metadata": {},
     "output_type": "display_data"
    },
    {
     "data": {
      "text/plain": [
       "[111, '127.6.0']"
      ]
     },
     "metadata": {},
     "output_type": "display_data"
    },
    {
     "data": {
      "text/plain": [
       "[112, '128.5.0']"
      ]
     },
     "metadata": {},
     "output_type": "display_data"
    },
    {
     "data": {
      "text/plain": [
       "[113, '128.8.0']"
      ]
     },
     "metadata": {},
     "output_type": "display_data"
    },
    {
     "data": {
      "text/plain": [
       "[114, '128.9.0']"
      ]
     },
     "metadata": {},
     "output_type": "display_data"
    },
    {
     "data": {
      "text/plain": [
       "[115, '129.2.0']"
      ]
     },
     "metadata": {},
     "output_type": "display_data"
    },
    {
     "data": {
      "text/plain": [
       "[116, '131.1.0']"
      ]
     },
     "metadata": {},
     "output_type": "display_data"
    },
    {
     "data": {
      "text/plain": [
       "[117, '131.2.0']"
      ]
     },
     "metadata": {},
     "output_type": "display_data"
    },
    {
     "data": {
      "text/plain": [
       "[118, '133.7.0']"
      ]
     },
     "metadata": {},
     "output_type": "display_data"
    },
    {
     "data": {
      "text/plain": [
       "[119, '134.3.0']"
      ]
     },
     "metadata": {},
     "output_type": "display_data"
    },
    {
     "data": {
      "text/plain": [
       "[120, '138.1.0']"
      ]
     },
     "metadata": {},
     "output_type": "display_data"
    },
    {
     "data": {
      "text/plain": [
       "[121, '138.16.0']"
      ]
     },
     "metadata": {},
     "output_type": "display_data"
    },
    {
     "data": {
      "text/plain": [
       "[122, '139.13.0']"
      ]
     },
     "metadata": {},
     "output_type": "display_data"
    },
    {
     "data": {
      "text/plain": [
       "[123, '139.15.0']"
      ]
     },
     "metadata": {},
     "output_type": "display_data"
    },
    {
     "data": {
      "text/plain": [
       "[124, '139.17.0']"
      ]
     },
     "metadata": {},
     "output_type": "display_data"
    },
    {
     "data": {
      "text/plain": [
       "[125, '139.20.0']"
      ]
     },
     "metadata": {},
     "output_type": "display_data"
    },
    {
     "data": {
      "text/plain": [
       "[126, '139.25.0']"
      ]
     },
     "metadata": {},
     "output_type": "display_data"
    },
    {
     "data": {
      "text/plain": [
       "[127, '139.26.0']"
      ]
     },
     "metadata": {},
     "output_type": "display_data"
    },
    {
     "data": {
      "text/plain": [
       "[128, '139.32.0']"
      ]
     },
     "metadata": {},
     "output_type": "display_data"
    },
    {
     "data": {
      "text/plain": [
       "[129, '139.34.0']"
      ]
     },
     "metadata": {},
     "output_type": "display_data"
    },
    {
     "data": {
      "text/plain": [
       "[130, '139.35.0']"
      ]
     },
     "metadata": {},
     "output_type": "display_data"
    },
    {
     "data": {
      "text/plain": [
       "[131, '139.5.0']"
      ]
     },
     "metadata": {},
     "output_type": "display_data"
    },
    {
     "data": {
      "text/plain": [
       "[132, '139.8.0']"
      ]
     },
     "metadata": {},
     "output_type": "display_data"
    },
    {
     "data": {
      "text/plain": [
       "[133, '140.2.0']"
      ]
     },
     "metadata": {},
     "output_type": "display_data"
    },
    {
     "data": {
      "text/plain": [
       "[134, '142.1.0']"
      ]
     },
     "metadata": {},
     "output_type": "display_data"
    },
    {
     "data": {
      "text/plain": [
       "[135, '144.1.0']"
      ]
     },
     "metadata": {},
     "output_type": "display_data"
    },
    {
     "data": {
      "text/plain": [
       "[136, '148.2.0']"
      ]
     },
     "metadata": {},
     "output_type": "display_data"
    },
    {
     "data": {
      "text/plain": [
       "[137, '149.1.0']"
      ]
     },
     "metadata": {},
     "output_type": "display_data"
    },
    {
     "data": {
      "text/plain": [
       "[138, '15.11.0']"
      ]
     },
     "metadata": {},
     "output_type": "display_data"
    },
    {
     "data": {
      "text/plain": [
       "[139, '15.171.0']"
      ]
     },
     "metadata": {},
     "output_type": "display_data"
    },
    {
     "data": {
      "text/plain": [
       "[140, '15.174.0']"
      ]
     },
     "metadata": {},
     "output_type": "display_data"
    },
    {
     "data": {
      "text/plain": [
       "[141, '15.19.0']"
      ]
     },
     "metadata": {},
     "output_type": "display_data"
    },
    {
     "data": {
      "text/plain": [
       "[142, '15.21.0']"
      ]
     },
     "metadata": {},
     "output_type": "display_data"
    },
    {
     "data": {
      "text/plain": [
       "[143, '15.23.0']"
      ]
     },
     "metadata": {},
     "output_type": "display_data"
    },
    {
     "data": {
      "text/plain": [
       "[144, '15.3.0']"
      ]
     },
     "metadata": {},
     "output_type": "display_data"
    },
    {
     "data": {
      "text/plain": [
       "[145, '15.49.0']"
      ]
     },
     "metadata": {},
     "output_type": "display_data"
    },
    {
     "data": {
      "text/plain": [
       "[146, '15.53.0']"
      ]
     },
     "metadata": {},
     "output_type": "display_data"
    },
    {
     "data": {
      "text/plain": [
       "[147, '15.61.0']"
      ]
     },
     "metadata": {},
     "output_type": "display_data"
    },
    {
     "data": {
      "text/plain": [
       "[148, '15.79.0']"
      ]
     },
     "metadata": {},
     "output_type": "display_data"
    },
    {
     "data": {
      "text/plain": [
       "[149, '15.8.0']"
      ]
     },
     "metadata": {},
     "output_type": "display_data"
    },
    {
     "data": {
      "text/plain": [
       "[150, '150.1.0']"
      ]
     },
     "metadata": {},
     "output_type": "display_data"
    },
    {
     "data": {
      "text/plain": [
       "[151, '151.11.0']"
      ]
     },
     "metadata": {},
     "output_type": "display_data"
    },
    {
     "data": {
      "text/plain": [
       "[152, '151.15.0']"
      ]
     },
     "metadata": {},
     "output_type": "display_data"
    },
    {
     "data": {
      "text/plain": [
       "[153, '151.21.0']"
      ]
     },
     "metadata": {},
     "output_type": "display_data"
    },
    {
     "data": {
      "text/plain": [
       "[154, '151.28.0']"
      ]
     },
     "metadata": {},
     "output_type": "display_data"
    },
    {
     "data": {
      "text/plain": [
       "[155, '151.3.0']"
      ]
     },
     "metadata": {},
     "output_type": "display_data"
    },
    {
     "data": {
      "text/plain": [
       "[156, '151.65.0']"
      ]
     },
     "metadata": {},
     "output_type": "display_data"
    },
    {
     "data": {
      "text/plain": [
       "[157, '152.4.0']"
      ]
     },
     "metadata": {},
     "output_type": "display_data"
    },
    {
     "data": {
      "text/plain": [
       "[158, '153.1.0']"
      ]
     },
     "metadata": {},
     "output_type": "display_data"
    },
    {
     "data": {
      "text/plain": [
       "[159, '155.12.0']"
      ]
     },
     "metadata": {},
     "output_type": "display_data"
    },
    {
     "data": {
      "text/plain": [
       "[160, '155.27.0']"
      ]
     },
     "metadata": {},
     "output_type": "display_data"
    },
    {
     "data": {
      "text/plain": [
       "[161, '156.10.0']"
      ]
     },
     "metadata": {},
     "output_type": "display_data"
    },
    {
     "data": {
      "text/plain": [
       "[162, '156.15.0']"
      ]
     },
     "metadata": {},
     "output_type": "display_data"
    },
    {
     "data": {
      "text/plain": [
       "[163, '156.19.0']"
      ]
     },
     "metadata": {},
     "output_type": "display_data"
    },
    {
     "data": {
      "text/plain": [
       "[164, '156.27.0']"
      ]
     },
     "metadata": {},
     "output_type": "display_data"
    },
    {
     "data": {
      "text/plain": [
       "[165, '156.49.0']"
      ]
     },
     "metadata": {},
     "output_type": "display_data"
    },
    {
     "data": {
      "text/plain": [
       "[166, '156.8.0']"
      ]
     },
     "metadata": {},
     "output_type": "display_data"
    },
    {
     "data": {
      "text/plain": [
       "[167, '157.3.0']"
      ]
     },
     "metadata": {},
     "output_type": "display_data"
    },
    {
     "data": {
      "text/plain": [
       "[168, '157.4.0']"
      ]
     },
     "metadata": {},
     "output_type": "display_data"
    },
    {
     "data": {
      "text/plain": [
       "[169, '159.13.0']"
      ]
     },
     "metadata": {},
     "output_type": "display_data"
    },
    {
     "data": {
      "text/plain": [
       "[170, '159.30.0']"
      ]
     },
     "metadata": {},
     "output_type": "display_data"
    },
    {
     "data": {
      "text/plain": [
       "[171, '159.37.0']"
      ]
     },
     "metadata": {},
     "output_type": "display_data"
    },
    {
     "data": {
      "text/plain": [
       "[172, '159.5.0']"
      ]
     },
     "metadata": {},
     "output_type": "display_data"
    },
    {
     "data": {
      "text/plain": [
       "[173, '16.10.0']"
      ]
     },
     "metadata": {},
     "output_type": "display_data"
    },
    {
     "data": {
      "text/plain": [
       "[174, '16.117.0']"
      ]
     },
     "metadata": {},
     "output_type": "display_data"
    },
    {
     "data": {
      "text/plain": [
       "[175, '16.122.0']"
      ]
     },
     "metadata": {},
     "output_type": "display_data"
    },
    {
     "data": {
      "text/plain": [
       "[176, '16.127.0']"
      ]
     },
     "metadata": {},
     "output_type": "display_data"
    },
    {
     "data": {
      "text/plain": [
       "[177, '16.128.0']"
      ]
     },
     "metadata": {},
     "output_type": "display_data"
    },
    {
     "data": {
      "text/plain": [
       "[178, '16.132.0']"
      ]
     },
     "metadata": {},
     "output_type": "display_data"
    },
    {
     "data": {
      "text/plain": [
       "[179, '16.133.0']"
      ]
     },
     "metadata": {},
     "output_type": "display_data"
    },
    {
     "data": {
      "text/plain": [
       "[180, '16.140.0']"
      ]
     },
     "metadata": {},
     "output_type": "display_data"
    },
    {
     "data": {
      "text/plain": [
       "[181, '16.142.0']"
      ]
     },
     "metadata": {},
     "output_type": "display_data"
    },
    {
     "data": {
      "text/plain": [
       "[182, '16.154.0']"
      ]
     },
     "metadata": {},
     "output_type": "display_data"
    },
    {
     "data": {
      "text/plain": [
       "[183, '16.155.0']"
      ]
     },
     "metadata": {},
     "output_type": "display_data"
    },
    {
     "data": {
      "text/plain": [
       "[184, '16.187.0']"
      ]
     },
     "metadata": {},
     "output_type": "display_data"
    },
    {
     "data": {
      "text/plain": [
       "[185, '16.189.0']"
      ]
     },
     "metadata": {},
     "output_type": "display_data"
    },
    {
     "data": {
      "text/plain": [
       "[186, '16.193.0']"
      ]
     },
     "metadata": {},
     "output_type": "display_data"
    },
    {
     "data": {
      "text/plain": [
       "[187, '16.194.0']"
      ]
     },
     "metadata": {},
     "output_type": "display_data"
    },
    {
     "data": {
      "text/plain": [
       "[188, '16.195.0']"
      ]
     },
     "metadata": {},
     "output_type": "display_data"
    },
    {
     "data": {
      "text/plain": [
       "[189, '16.23.0']"
      ]
     },
     "metadata": {},
     "output_type": "display_data"
    },
    {
     "data": {
      "text/plain": [
       "[190, '16.497.0']"
      ]
     },
     "metadata": {},
     "output_type": "display_data"
    },
    {
     "data": {
      "text/plain": [
       "[191, '16.51.0']"
      ]
     },
     "metadata": {},
     "output_type": "display_data"
    },
    {
     "data": {
      "text/plain": [
       "[192, '16.66.0']"
      ]
     },
     "metadata": {},
     "output_type": "display_data"
    },
    {
     "data": {
      "text/plain": [
       "[193, '16.72.0']"
      ]
     },
     "metadata": {},
     "output_type": "display_data"
    },
    {
     "data": {
      "text/plain": [
       "[194, '16.75.0']"
      ]
     },
     "metadata": {},
     "output_type": "display_data"
    },
    {
     "data": {
      "text/plain": [
       "[195, '160.14.0']"
      ]
     },
     "metadata": {},
     "output_type": "display_data"
    },
    {
     "data": {
      "text/plain": [
       "[196, '160.7.0']"
      ]
     },
     "metadata": {},
     "output_type": "display_data"
    },
    {
     "data": {
      "text/plain": [
       "[197, '161.11.0']"
      ]
     },
     "metadata": {},
     "output_type": "display_data"
    },
    {
     "data": {
      "text/plain": [
       "[198, '161.18.0']"
      ]
     },
     "metadata": {},
     "output_type": "display_data"
    },
    {
     "data": {
      "text/plain": [
       "[199, '161.45.0']"
      ]
     },
     "metadata": {},
     "output_type": "display_data"
    },
    {
     "data": {
      "text/plain": [
       "[200, '161.7.0']"
      ]
     },
     "metadata": {},
     "output_type": "display_data"
    },
    {
     "data": {
      "text/plain": [
       "[201, '162.3.0']"
      ]
     },
     "metadata": {},
     "output_type": "display_data"
    },
    {
     "data": {
      "text/plain": [
       "[202, '162.8.0']"
      ]
     },
     "metadata": {},
     "output_type": "display_data"
    },
    {
     "data": {
      "text/plain": [
       "[203, '163.5.0']"
      ]
     },
     "metadata": {},
     "output_type": "display_data"
    },
    {
     "data": {
      "text/plain": [
       "[204, '163.6.0']"
      ]
     },
     "metadata": {},
     "output_type": "display_data"
    },
    {
     "data": {
      "text/plain": [
       "[205, '163.7.0']"
      ]
     },
     "metadata": {},
     "output_type": "display_data"
    },
    {
     "data": {
      "text/plain": [
       "[206, '164.28.0']"
      ]
     },
     "metadata": {},
     "output_type": "display_data"
    },
    {
     "data": {
      "text/plain": [
       "[207, '165.11.0']"
      ]
     },
     "metadata": {},
     "output_type": "display_data"
    },
    {
     "data": {
      "text/plain": [
       "[208, '165.13.0']"
      ]
     },
     "metadata": {},
     "output_type": "display_data"
    },
    {
     "data": {
      "text/plain": [
       "[209, '166.1.0']"
      ]
     },
     "metadata": {},
     "output_type": "display_data"
    },
    {
     "data": {
      "text/plain": [
       "[210, '166.13.0']"
      ]
     },
     "metadata": {},
     "output_type": "display_data"
    },
    {
     "data": {
      "text/plain": [
       "[211, '168.1.0']"
      ]
     },
     "metadata": {},
     "output_type": "display_data"
    },
    {
     "data": {
      "text/plain": [
       "[212, '168.2.0']"
      ]
     },
     "metadata": {},
     "output_type": "display_data"
    },
    {
     "data": {
      "text/plain": [
       "[213, '168.3.0']"
      ]
     },
     "metadata": {},
     "output_type": "display_data"
    },
    {
     "data": {
      "text/plain": [
       "[214, '17.10.0']"
      ]
     },
     "metadata": {},
     "output_type": "display_data"
    },
    {
     "data": {
      "text/plain": [
       "[215, '170.1.0']"
      ]
     },
     "metadata": {},
     "output_type": "display_data"
    },
    {
     "data": {
      "text/plain": [
       "[216, '170.5.0']"
      ]
     },
     "metadata": {},
     "output_type": "display_data"
    },
    {
     "data": {
      "text/plain": [
       "[217, '171.7.0']"
      ]
     },
     "metadata": {},
     "output_type": "display_data"
    },
    {
     "data": {
      "text/plain": [
       "[218, '172.7.0']"
      ]
     },
     "metadata": {},
     "output_type": "display_data"
    },
    {
     "data": {
      "text/plain": [
       "[219, '172.8.0']"
      ]
     },
     "metadata": {},
     "output_type": "display_data"
    },
    {
     "data": {
      "text/plain": [
       "[220, '174.11.0']"
      ]
     },
     "metadata": {},
     "output_type": "display_data"
    },
    {
     "data": {
      "text/plain": [
       "[221, '174.3.0']"
      ]
     },
     "metadata": {},
     "output_type": "display_data"
    },
    {
     "data": {
      "text/plain": [
       "[222, '174.44.0']"
      ]
     },
     "metadata": {},
     "output_type": "display_data"
    },
    {
     "data": {
      "text/plain": [
       "[223, '177.3.0']"
      ]
     },
     "metadata": {},
     "output_type": "display_data"
    },
    {
     "data": {
      "text/plain": [
       "[224, '177.4.0']"
      ]
     },
     "metadata": {},
     "output_type": "display_data"
    },
    {
     "data": {
      "text/plain": [
       "[225, '178.1.0']"
      ]
     },
     "metadata": {},
     "output_type": "display_data"
    },
    {
     "data": {
      "text/plain": [
       "[226, '179.6.0']"
      ]
     },
     "metadata": {},
     "output_type": "display_data"
    },
    {
     "data": {
      "text/plain": [
       "[227, '18.10.0']"
      ]
     },
     "metadata": {},
     "output_type": "display_data"
    },
    {
     "data": {
      "text/plain": [
       "[228, '18.11.0']"
      ]
     },
     "metadata": {},
     "output_type": "display_data"
    },
    {
     "data": {
      "text/plain": [
       "[229, '18.4.0']"
      ]
     },
     "metadata": {},
     "output_type": "display_data"
    },
    {
     "data": {
      "text/plain": [
       "[230, '180.1.0']"
      ]
     },
     "metadata": {},
     "output_type": "display_data"
    },
    {
     "data": {
      "text/plain": [
       "[231, '185.1.0']"
      ]
     },
     "metadata": {},
     "output_type": "display_data"
    },
    {
     "data": {
      "text/plain": [
       "[232, '186.2.0']"
      ]
     },
     "metadata": {},
     "output_type": "display_data"
    },
    {
     "data": {
      "text/plain": [
       "[233, '189.3.0']"
      ]
     },
     "metadata": {},
     "output_type": "display_data"
    },
    {
     "data": {
      "text/plain": [
       "[234, '189.4.0']"
      ]
     },
     "metadata": {},
     "output_type": "display_data"
    },
    {
     "data": {
      "text/plain": [
       "[235, '19.104.0']"
      ]
     },
     "metadata": {},
     "output_type": "display_data"
    },
    {
     "data": {
      "text/plain": [
       "[236, '19.107.0']"
      ]
     },
     "metadata": {},
     "output_type": "display_data"
    },
    {
     "data": {
      "text/plain": [
       "[237, '19.108.0']"
      ]
     },
     "metadata": {},
     "output_type": "display_data"
    },
    {
     "data": {
      "text/plain": [
       "[238, '19.109.0']"
      ]
     },
     "metadata": {},
     "output_type": "display_data"
    },
    {
     "data": {
      "text/plain": [
       "[239, '19.127.0']"
      ]
     },
     "metadata": {},
     "output_type": "display_data"
    },
    {
     "data": {
      "text/plain": [
       "[240, '19.128.0']"
      ]
     },
     "metadata": {},
     "output_type": "display_data"
    },
    {
     "data": {
      "text/plain": [
       "[242, '19.54.0']"
      ]
     },
     "metadata": {},
     "output_type": "display_data"
    },
    {
     "data": {
      "text/plain": [
       "[243, '19.72.0']"
      ]
     },
     "metadata": {},
     "output_type": "display_data"
    },
    {
     "data": {
      "text/plain": [
       "[244, '19.73.0']"
      ]
     },
     "metadata": {},
     "output_type": "display_data"
    },
    {
     "data": {
      "text/plain": [
       "[245, '19.78.0']"
      ]
     },
     "metadata": {},
     "output_type": "display_data"
    },
    {
     "data": {
      "text/plain": [
       "[246, '19.79.0']"
      ]
     },
     "metadata": {},
     "output_type": "display_data"
    },
    {
     "data": {
      "text/plain": [
       "[247, '19.8.0']"
      ]
     },
     "metadata": {},
     "output_type": "display_data"
    },
    {
     "data": {
      "text/plain": [
       "[248, '19.80.0']"
      ]
     },
     "metadata": {},
     "output_type": "display_data"
    },
    {
     "data": {
      "text/plain": [
       "[249, '19.82.0']"
      ]
     },
     "metadata": {},
     "output_type": "display_data"
    },
    {
     "data": {
      "text/plain": [
       "[250, '19.96.0']"
      ]
     },
     "metadata": {},
     "output_type": "display_data"
    },
    {
     "data": {
      "text/plain": [
       "[251, '191.2.0']"
      ]
     },
     "metadata": {},
     "output_type": "display_data"
    },
    {
     "data": {
      "text/plain": [
       "[252, '194.4.0']"
      ]
     },
     "metadata": {},
     "output_type": "display_data"
    },
    {
     "data": {
      "text/plain": [
       "[253, '196.11.0']"
      ]
     },
     "metadata": {},
     "output_type": "display_data"
    },
    {
     "data": {
      "text/plain": [
       "[254, '196.12.0']"
      ]
     },
     "metadata": {},
     "output_type": "display_data"
    },
    {
     "data": {
      "text/plain": [
       "[255, '196.21.0']"
      ]
     },
     "metadata": {},
     "output_type": "display_data"
    },
    {
     "data": {
      "text/plain": [
       "[256, '196.26.0']"
      ]
     },
     "metadata": {},
     "output_type": "display_data"
    },
    {
     "data": {
      "text/plain": [
       "[257, '196.35.0']"
      ]
     },
     "metadata": {},
     "output_type": "display_data"
    },
    {
     "data": {
      "text/plain": [
       "[258, '196.36.0']"
      ]
     },
     "metadata": {},
     "output_type": "display_data"
    },
    {
     "data": {
      "text/plain": [
       "[259, '196.7.0']"
      ]
     },
     "metadata": {},
     "output_type": "display_data"
    },
    {
     "data": {
      "text/plain": [
       "[260, '196.98.0']"
      ]
     },
     "metadata": {},
     "output_type": "display_data"
    },
    {
     "data": {
      "text/plain": [
       "[261, '197.10.0']"
      ]
     },
     "metadata": {},
     "output_type": "display_data"
    },
    {
     "data": {
      "text/plain": [
       "[262, '198.72.0']"
      ]
     },
     "metadata": {},
     "output_type": "display_data"
    },
    {
     "data": {
      "text/plain": [
       "[263, '199.97.0']"
      ]
     },
     "metadata": {},
     "output_type": "display_data"
    },
    {
     "data": {
      "text/plain": [
       "[264, '2.1036.0']"
      ]
     },
     "metadata": {},
     "output_type": "display_data"
    },
    {
     "data": {
      "text/plain": [
       "[265, '2.1088.0']"
      ]
     },
     "metadata": {},
     "output_type": "display_data"
    },
    {
     "data": {
      "text/plain": [
       "[266, '2.111.0']"
      ]
     },
     "metadata": {},
     "output_type": "display_data"
    },
    {
     "data": {
      "text/plain": [
       "[267, '2.1119.0']"
      ]
     },
     "metadata": {},
     "output_type": "display_data"
    },
    {
     "data": {
      "text/plain": [
       "[268, '2.112.0']"
      ]
     },
     "metadata": {},
     "output_type": "display_data"
    },
    {
     "data": {
      "text/plain": [
       "[269, '2.1151.0']"
      ]
     },
     "metadata": {},
     "output_type": "display_data"
    },
    {
     "data": {
      "text/plain": [
       "[270, '2.1185.0']"
      ]
     },
     "metadata": {},
     "output_type": "display_data"
    },
    {
     "data": {
      "text/plain": [
       "[271, '2.1191.0']"
      ]
     },
     "metadata": {},
     "output_type": "display_data"
    },
    {
     "data": {
      "text/plain": [
       "[272, '2.1195.0']"
      ]
     },
     "metadata": {},
     "output_type": "display_data"
    },
    {
     "data": {
      "text/plain": [
       "[273, '2.129.0']"
      ]
     },
     "metadata": {},
     "output_type": "display_data"
    },
    {
     "data": {
      "text/plain": [
       "[274, '2.13.0']"
      ]
     },
     "metadata": {},
     "output_type": "display_data"
    },
    {
     "data": {
      "text/plain": [
       "[275, '2.132.0']"
      ]
     },
     "metadata": {},
     "output_type": "display_data"
    },
    {
     "data": {
      "text/plain": [
       "[276, '2.140.0']"
      ]
     },
     "metadata": {},
     "output_type": "display_data"
    },
    {
     "data": {
      "text/plain": [
       "[277, '2.142.0']"
      ]
     },
     "metadata": {},
     "output_type": "display_data"
    },
    {
     "data": {
      "text/plain": [
       "[278, '2.145.0']"
      ]
     },
     "metadata": {},
     "output_type": "display_data"
    },
    {
     "data": {
      "text/plain": [
       "[279, '2.167.0']"
      ]
     },
     "metadata": {},
     "output_type": "display_data"
    },
    {
     "data": {
      "text/plain": [
       "[280, '2.172.0']"
      ]
     },
     "metadata": {},
     "output_type": "display_data"
    },
    {
     "data": {
      "text/plain": [
       "[281, '2.224.0']"
      ]
     },
     "metadata": {},
     "output_type": "display_data"
    },
    {
     "data": {
      "text/plain": [
       "[282, '2.227.0']"
      ]
     },
     "metadata": {},
     "output_type": "display_data"
    },
    {
     "data": {
      "text/plain": [
       "[283, '2.235.0']"
      ]
     },
     "metadata": {},
     "output_type": "display_data"
    },
    {
     "data": {
      "text/plain": [
       "[284, '2.25.0']"
      ]
     },
     "metadata": {},
     "output_type": "display_data"
    },
    {
     "data": {
      "text/plain": [
       "[285, '2.265.0']"
      ]
     },
     "metadata": {},
     "output_type": "display_data"
    },
    {
     "data": {
      "text/plain": [
       "[286, '2.267.0']"
      ]
     },
     "metadata": {},
     "output_type": "display_data"
    },
    {
     "data": {
      "text/plain": [
       "[287, '2.268.0']"
      ]
     },
     "metadata": {},
     "output_type": "display_data"
    },
    {
     "data": {
      "text/plain": [
       "[288, '2.269.0']"
      ]
     },
     "metadata": {},
     "output_type": "display_data"
    },
    {
     "data": {
      "text/plain": [
       "[289, '2.275.0']"
      ]
     },
     "metadata": {},
     "output_type": "display_data"
    },
    {
     "data": {
      "text/plain": [
       "[290, '2.279.0']"
      ]
     },
     "metadata": {},
     "output_type": "display_data"
    },
    {
     "data": {
      "text/plain": [
       "[291, '2.28.0']"
      ]
     },
     "metadata": {},
     "output_type": "display_data"
    },
    {
     "data": {
      "text/plain": [
       "[292, '2.280.0']"
      ]
     },
     "metadata": {},
     "output_type": "display_data"
    },
    {
     "data": {
      "text/plain": [
       "[293, '2.283.0']"
      ]
     },
     "metadata": {},
     "output_type": "display_data"
    },
    {
     "data": {
      "text/plain": [
       "[294, '2.284.0']"
      ]
     },
     "metadata": {},
     "output_type": "display_data"
    },
    {
     "data": {
      "text/plain": [
       "[295, '2.290.0']"
      ]
     },
     "metadata": {},
     "output_type": "display_data"
    },
    {
     "data": {
      "text/plain": [
       "[296, '2.291.0']"
      ]
     },
     "metadata": {},
     "output_type": "display_data"
    },
    {
     "data": {
      "text/plain": [
       "[297, '2.303.0']"
      ]
     },
     "metadata": {},
     "output_type": "display_data"
    },
    {
     "data": {
      "text/plain": [
       "[298, '2.32.0']"
      ]
     },
     "metadata": {},
     "output_type": "display_data"
    },
    {
     "data": {
      "text/plain": [
       "[299, '2.323.0']"
      ]
     },
     "metadata": {},
     "output_type": "display_data"
    },
    {
     "data": {
      "text/plain": [
       "[300, '2.344.0']"
      ]
     },
     "metadata": {},
     "output_type": "display_data"
    },
    {
     "data": {
      "text/plain": [
       "[301, '2.346.0']"
      ]
     },
     "metadata": {},
     "output_type": "display_data"
    },
    {
     "data": {
      "text/plain": [
       "[302, '2.347.0']"
      ]
     },
     "metadata": {},
     "output_type": "display_data"
    },
    {
     "data": {
      "text/plain": [
       "[303, '2.36.0']"
      ]
     },
     "metadata": {},
     "output_type": "display_data"
    },
    {
     "data": {
      "text/plain": [
       "[304, '2.377.0']"
      ]
     },
     "metadata": {},
     "output_type": "display_data"
    },
    {
     "data": {
      "text/plain": [
       "[305, '2.379.0']"
      ]
     },
     "metadata": {},
     "output_type": "display_data"
    },
    {
     "data": {
      "text/plain": [
       "[306, '2.393.0']"
      ]
     },
     "metadata": {},
     "output_type": "display_data"
    },
    {
     "data": {
      "text/plain": [
       "[307, '2.396.0']"
      ]
     },
     "metadata": {},
     "output_type": "display_data"
    },
    {
     "data": {
      "text/plain": [
       "[308, '2.412.0']"
      ]
     },
     "metadata": {},
     "output_type": "display_data"
    },
    {
     "data": {
      "text/plain": [
       "[309, '2.415.0']"
      ]
     },
     "metadata": {},
     "output_type": "display_data"
    },
    {
     "data": {
      "text/plain": [
       "[310, '2.416.0']"
      ]
     },
     "metadata": {},
     "output_type": "display_data"
    },
    {
     "data": {
      "text/plain": [
       "[311, '2.43.0']"
      ]
     },
     "metadata": {},
     "output_type": "display_data"
    },
    {
     "data": {
      "text/plain": [
       "[312, '2.434.0']"
      ]
     },
     "metadata": {},
     "output_type": "display_data"
    },
    {
     "data": {
      "text/plain": [
       "[313, '2.439.0']"
      ]
     },
     "metadata": {},
     "output_type": "display_data"
    },
    {
     "data": {
      "text/plain": [
       "[314, '2.441.0']"
      ]
     },
     "metadata": {},
     "output_type": "display_data"
    },
    {
     "data": {
      "text/plain": [
       "[315, '2.442.0']"
      ]
     },
     "metadata": {},
     "output_type": "display_data"
    },
    {
     "data": {
      "text/plain": [
       "[316, '2.443.0']"
      ]
     },
     "metadata": {},
     "output_type": "display_data"
    },
    {
     "data": {
      "text/plain": [
       "[317, '2.444.0']"
      ]
     },
     "metadata": {},
     "output_type": "display_data"
    },
    {
     "data": {
      "text/plain": [
       "[318, '2.451.0']"
      ]
     },
     "metadata": {},
     "output_type": "display_data"
    },
    {
     "data": {
      "text/plain": [
       "[319, '2.460.0']"
      ]
     },
     "metadata": {},
     "output_type": "display_data"
    },
    {
     "data": {
      "text/plain": [
       "[320, '2.461.0']"
      ]
     },
     "metadata": {},
     "output_type": "display_data"
    },
    {
     "data": {
      "text/plain": [
       "[321, '2.463.0']"
      ]
     },
     "metadata": {},
     "output_type": "display_data"
    },
    {
     "data": {
      "text/plain": [
       "[322, '2.464.0']"
      ]
     },
     "metadata": {},
     "output_type": "display_data"
    },
    {
     "data": {
      "text/plain": [
       "[323, '2.479.0']"
      ]
     },
     "metadata": {},
     "output_type": "display_data"
    },
    {
     "data": {
      "text/plain": [
       "[324, '2.481.0']"
      ]
     },
     "metadata": {},
     "output_type": "display_data"
    },
    {
     "data": {
      "text/plain": [
       "[325, '2.578.0']"
      ]
     },
     "metadata": {},
     "output_type": "display_data"
    },
    {
     "data": {
      "text/plain": [
       "[326, '2.592.0']"
      ]
     },
     "metadata": {},
     "output_type": "display_data"
    },
    {
     "data": {
      "text/plain": [
       "[327, '2.595.0']"
      ]
     },
     "metadata": {},
     "output_type": "display_data"
    },
    {
     "data": {
      "text/plain": [
       "[328, '2.601.0']"
      ]
     },
     "metadata": {},
     "output_type": "display_data"
    },
    {
     "data": {
      "text/plain": [
       "[329, '2.603.0']"
      ]
     },
     "metadata": {},
     "output_type": "display_data"
    },
    {
     "data": {
      "text/plain": [
       "[330, '2.604.0']"
      ]
     },
     "metadata": {},
     "output_type": "display_data"
    },
    {
     "data": {
      "text/plain": [
       "[331, '2.605.0']"
      ]
     },
     "metadata": {},
     "output_type": "display_data"
    },
    {
     "data": {
      "text/plain": [
       "[332, '2.607.0']"
      ]
     },
     "metadata": {},
     "output_type": "display_data"
    },
    {
     "data": {
      "text/plain": [
       "[333, '2.61.0']"
      ]
     },
     "metadata": {},
     "output_type": "display_data"
    },
    {
     "data": {
      "text/plain": [
       "[334, '2.611.0']"
      ]
     },
     "metadata": {},
     "output_type": "display_data"
    },
    {
     "data": {
      "text/plain": [
       "[335, '2.613.0']"
      ]
     },
     "metadata": {},
     "output_type": "display_data"
    },
    {
     "data": {
      "text/plain": [
       "[336, '2.614.0']"
      ]
     },
     "metadata": {},
     "output_type": "display_data"
    },
    {
     "data": {
      "text/plain": [
       "[337, '2.616.0']"
      ]
     },
     "metadata": {},
     "output_type": "display_data"
    },
    {
     "data": {
      "text/plain": [
       "[338, '2.633.0']"
      ]
     },
     "metadata": {},
     "output_type": "display_data"
    },
    {
     "data": {
      "text/plain": [
       "[339, '2.634.0']"
      ]
     },
     "metadata": {},
     "output_type": "display_data"
    },
    {
     "data": {
      "text/plain": [
       "[340, '2.79.0']"
      ]
     },
     "metadata": {},
     "output_type": "display_data"
    },
    {
     "data": {
      "text/plain": [
       "[341, '20.11.0']"
      ]
     },
     "metadata": {},
     "output_type": "display_data"
    },
    {
     "data": {
      "text/plain": [
       "[342, '20.2.0']"
      ]
     },
     "metadata": {},
     "output_type": "display_data"
    },
    {
     "data": {
      "text/plain": [
       "[343, '20.3.0']"
      ]
     },
     "metadata": {},
     "output_type": "display_data"
    },
    {
     "data": {
      "text/plain": [
       "[344, '200.4.0']"
      ]
     },
     "metadata": {},
     "output_type": "display_data"
    },
    {
     "data": {
      "text/plain": [
       "[345, '203.2.0']"
      ]
     },
     "metadata": {},
     "output_type": "display_data"
    },
    {
     "data": {
      "text/plain": [
       "[346, '203.7.0']"
      ]
     },
     "metadata": {},
     "output_type": "display_data"
    },
    {
     "data": {
      "text/plain": [
       "[347, '203.8.0']"
      ]
     },
     "metadata": {},
     "output_type": "display_data"
    },
    {
     "data": {
      "text/plain": [
       "[348, '204.15.0']"
      ]
     },
     "metadata": {},
     "output_type": "display_data"
    },
    {
     "data": {
      "text/plain": [
       "[349, '204.16.0']"
      ]
     },
     "metadata": {},
     "output_type": "display_data"
    },
    {
     "data": {
      "text/plain": [
       "[350, '204.82.0']"
      ]
     },
     "metadata": {},
     "output_type": "display_data"
    },
    {
     "data": {
      "text/plain": [
       "[351, '205.3.0']"
      ]
     },
     "metadata": {},
     "output_type": "display_data"
    },
    {
     "data": {
      "text/plain": [
       "[352, '205.6.0']"
      ]
     },
     "metadata": {},
     "output_type": "display_data"
    },
    {
     "data": {
      "text/plain": [
       "[353, '205.8.0']"
      ]
     },
     "metadata": {},
     "output_type": "display_data"
    },
    {
     "data": {
      "text/plain": [
       "[354, '206.2.0']"
      ]
     },
     "metadata": {},
     "output_type": "display_data"
    },
    {
     "data": {
      "text/plain": [
       "[355, '206.3.0']"
      ]
     },
     "metadata": {},
     "output_type": "display_data"
    },
    {
     "data": {
      "text/plain": [
       "[356, '206.31.0']"
      ]
     },
     "metadata": {},
     "output_type": "display_data"
    },
    {
     "data": {
      "text/plain": [
       "[357, '208.2.0']"
      ]
     },
     "metadata": {},
     "output_type": "display_data"
    },
    {
     "data": {
      "text/plain": [
       "[358, '208.3.0']"
      ]
     },
     "metadata": {},
     "output_type": "display_data"
    },
    {
     "data": {
      "text/plain": [
       "[359, '209.3.0']"
      ]
     },
     "metadata": {},
     "output_type": "display_data"
    },
    {
     "data": {
      "text/plain": [
       "[360, '209.4.0']"
      ]
     },
     "metadata": {},
     "output_type": "display_data"
    },
    {
     "data": {
      "text/plain": [
       "[361, '21.11.0']"
      ]
     },
     "metadata": {},
     "output_type": "display_data"
    },
    {
     "data": {
      "text/plain": [
       "[362, '21.15.0']"
      ]
     },
     "metadata": {},
     "output_type": "display_data"
    },
    {
     "data": {
      "text/plain": [
       "[363, '21.22.0']"
      ]
     },
     "metadata": {},
     "output_type": "display_data"
    },
    {
     "data": {
      "text/plain": [
       "[364, '21.34.0']"
      ]
     },
     "metadata": {},
     "output_type": "display_data"
    },
    {
     "data": {
      "text/plain": [
       "[365, '21.47.0']"
      ]
     },
     "metadata": {},
     "output_type": "display_data"
    },
    {
     "data": {
      "text/plain": [
       "[366, '21.49.0']"
      ]
     },
     "metadata": {},
     "output_type": "display_data"
    },
    {
     "data": {
      "text/plain": [
       "[367, '21.52.0']"
      ]
     },
     "metadata": {},
     "output_type": "display_data"
    },
    {
     "data": {
      "text/plain": [
       "[368, '21.53.0']"
      ]
     },
     "metadata": {},
     "output_type": "display_data"
    },
    {
     "data": {
      "text/plain": [
       "[369, '21.54.0']"
      ]
     },
     "metadata": {},
     "output_type": "display_data"
    },
    {
     "data": {
      "text/plain": [
       "[370, '21.55.0']"
      ]
     },
     "metadata": {},
     "output_type": "display_data"
    },
    {
     "data": {
      "text/plain": [
       "[371, '21.69.0']"
      ]
     },
     "metadata": {},
     "output_type": "display_data"
    },
    {
     "data": {
      "text/plain": [
       "[372, '212.10.0']"
      ]
     },
     "metadata": {},
     "output_type": "display_data"
    },
    {
     "data": {
      "text/plain": [
       "[373, '212.11.0']"
      ]
     },
     "metadata": {},
     "output_type": "display_data"
    },
    {
     "data": {
      "text/plain": [
       "[374, '212.26.0']"
      ]
     },
     "metadata": {},
     "output_type": "display_data"
    },
    {
     "data": {
      "text/plain": [
       "[375, '212.27.0']"
      ]
     },
     "metadata": {},
     "output_type": "display_data"
    },
    {
     "data": {
      "text/plain": [
       "[376, '212.44.0']"
      ]
     },
     "metadata": {},
     "output_type": "display_data"
    },
    {
     "data": {
      "text/plain": [
       "[377, '212.48.0']"
      ]
     },
     "metadata": {},
     "output_type": "display_data"
    },
    {
     "data": {
      "text/plain": [
       "[378, '212.49.0']"
      ]
     },
     "metadata": {},
     "output_type": "display_data"
    },
    {
     "data": {
      "text/plain": [
       "[379, '213.2.0']"
      ]
     },
     "metadata": {},
     "output_type": "display_data"
    },
    {
     "data": {
      "text/plain": [
       "[380, '213.4.0']"
      ]
     },
     "metadata": {},
     "output_type": "display_data"
    },
    {
     "data": {
      "text/plain": [
       "[381, '22.16.0']"
      ]
     },
     "metadata": {},
     "output_type": "display_data"
    },
    {
     "data": {
      "text/plain": [
       "[382, '22.2.0']"
      ]
     },
     "metadata": {},
     "output_type": "display_data"
    },
    {
     "data": {
      "text/plain": [
       "[383, '22.20.0']"
      ]
     },
     "metadata": {},
     "output_type": "display_data"
    },
    {
     "data": {
      "text/plain": [
       "[384, '22.22.0']"
      ]
     },
     "metadata": {},
     "output_type": "display_data"
    },
    {
     "data": {
      "text/plain": [
       "[385, '22.4.0']"
      ]
     },
     "metadata": {},
     "output_type": "display_data"
    },
    {
     "data": {
      "text/plain": [
       "[386, '22.7.0']"
      ]
     },
     "metadata": {},
     "output_type": "display_data"
    },
    {
     "data": {
      "text/plain": [
       "[387, '22.9.0']"
      ]
     },
     "metadata": {},
     "output_type": "display_data"
    },
    {
     "data": {
      "text/plain": [
       "[388, '222.2.0']"
      ]
     },
     "metadata": {},
     "output_type": "display_data"
    },
    {
     "data": {
      "text/plain": [
       "[389, '223.2.0']"
      ]
     },
     "metadata": {},
     "output_type": "display_data"
    },
    {
     "data": {
      "text/plain": [
       "[390, '224.1.0']"
      ]
     },
     "metadata": {},
     "output_type": "display_data"
    },
    {
     "data": {
      "text/plain": [
       "[391, '23.4.0']"
      ]
     },
     "metadata": {},
     "output_type": "display_data"
    },
    {
     "data": {
      "text/plain": [
       "[392, '23.8.0']"
      ]
     },
     "metadata": {},
     "output_type": "display_data"
    },
    {
     "data": {
      "text/plain": [
       "[393, '230.1.0']"
      ]
     },
     "metadata": {},
     "output_type": "display_data"
    },
    {
     "data": {
      "text/plain": [
       "[394, '234.13.0']"
      ]
     },
     "metadata": {},
     "output_type": "display_data"
    },
    {
     "data": {
      "text/plain": [
       "[395, '234.14.0']"
      ]
     },
     "metadata": {},
     "output_type": "display_data"
    },
    {
     "data": {
      "text/plain": [
       "[396, '234.18.0']"
      ]
     },
     "metadata": {},
     "output_type": "display_data"
    },
    {
     "data": {
      "text/plain": [
       "[397, '236.8.0']"
      ]
     },
     "metadata": {},
     "output_type": "display_data"
    },
    {
     "data": {
      "text/plain": [
       "[398, '237.1.0']"
      ]
     },
     "metadata": {},
     "output_type": "display_data"
    },
    {
     "data": {
      "text/plain": [
       "[399, '24.8.0']"
      ]
     },
     "metadata": {},
     "output_type": "display_data"
    },
    {
     "data": {
      "text/plain": [
       "[400, '24.9.0']"
      ]
     },
     "metadata": {},
     "output_type": "display_data"
    },
    {
     "data": {
      "text/plain": [
       "[401, '242.1.0']"
      ]
     },
     "metadata": {},
     "output_type": "display_data"
    },
    {
     "data": {
      "text/plain": [
       "[402, '244.2.0']"
      ]
     },
     "metadata": {},
     "output_type": "display_data"
    },
    {
     "data": {
      "text/plain": [
       "[403, '244.5.0']"
      ]
     },
     "metadata": {},
     "output_type": "display_data"
    },
    {
     "data": {
      "text/plain": [
       "[404, '246.12.0']"
      ]
     },
     "metadata": {},
     "output_type": "display_data"
    },
    {
     "data": {
      "text/plain": [
       "[405, '246.9.0']"
      ]
     },
     "metadata": {},
     "output_type": "display_data"
    },
    {
     "data": {
      "text/plain": [
       "[406, '247.3.0']"
      ]
     },
     "metadata": {},
     "output_type": "display_data"
    },
    {
     "data": {
      "text/plain": [
       "[407, '25.24.0']"
      ]
     },
     "metadata": {},
     "output_type": "display_data"
    },
    {
     "data": {
      "text/plain": [
       "[408, '25.26.0']"
      ]
     },
     "metadata": {},
     "output_type": "display_data"
    },
    {
     "data": {
      "text/plain": [
       "[409, '25.30.0']"
      ]
     },
     "metadata": {},
     "output_type": "display_data"
    },
    {
     "data": {
      "text/plain": [
       "[410, '25.32.0']"
      ]
     },
     "metadata": {},
     "output_type": "display_data"
    },
    {
     "data": {
      "text/plain": [
       "[411, '25.51.0']"
      ]
     },
     "metadata": {},
     "output_type": "display_data"
    },
    {
     "data": {
      "text/plain": [
       "[412, '25.6.0']"
      ]
     },
     "metadata": {},
     "output_type": "display_data"
    },
    {
     "data": {
      "text/plain": [
       "[413, '25.7.0']"
      ]
     },
     "metadata": {},
     "output_type": "display_data"
    },
    {
     "data": {
      "text/plain": [
       "[414, '26.20.0']"
      ]
     },
     "metadata": {},
     "output_type": "display_data"
    },
    {
     "data": {
      "text/plain": [
       "[415, '26.21.0']"
      ]
     },
     "metadata": {},
     "output_type": "display_data"
    },
    {
     "data": {
      "text/plain": [
       "[416, '26.22.0']"
      ]
     },
     "metadata": {},
     "output_type": "display_data"
    },
    {
     "data": {
      "text/plain": [
       "[417, '26.25.0']"
      ]
     },
     "metadata": {},
     "output_type": "display_data"
    },
    {
     "data": {
      "text/plain": [
       "[418, '26.26.0']"
      ]
     },
     "metadata": {},
     "output_type": "display_data"
    },
    {
     "data": {
      "text/plain": [
       "[419, '26.29.0']"
      ]
     },
     "metadata": {},
     "output_type": "display_data"
    },
    {
     "data": {
      "text/plain": [
       "[420, '26.31.0']"
      ]
     },
     "metadata": {},
     "output_type": "display_data"
    },
    {
     "data": {
      "text/plain": [
       "[421, '26.64.0']"
      ]
     },
     "metadata": {},
     "output_type": "display_data"
    },
    {
     "data": {
      "text/plain": [
       "[422, '26.92.0']"
      ]
     },
     "metadata": {},
     "output_type": "display_data"
    },
    {
     "data": {
      "text/plain": [
       "[423, '27.16.0']"
      ]
     },
     "metadata": {},
     "output_type": "display_data"
    },
    {
     "data": {
      "text/plain": [
       "[424, '27.20.0']"
      ]
     },
     "metadata": {},
     "output_type": "display_data"
    },
    {
     "data": {
      "text/plain": [
       "[425, '27.24.0']"
      ]
     },
     "metadata": {},
     "output_type": "display_data"
    },
    {
     "data": {
      "text/plain": [
       "[426, '27.25.0']"
      ]
     },
     "metadata": {},
     "output_type": "display_data"
    },
    {
     "data": {
      "text/plain": [
       "[427, '27.26.0']"
      ]
     },
     "metadata": {},
     "output_type": "display_data"
    },
    {
     "data": {
      "text/plain": [
       "[428, '27.42.0']"
      ]
     },
     "metadata": {},
     "output_type": "display_data"
    },
    {
     "data": {
      "text/plain": [
       "[429, '28.11.0']"
      ]
     },
     "metadata": {},
     "output_type": "display_data"
    },
    {
     "data": {
      "text/plain": [
       "[430, '28.7.0']"
      ]
     },
     "metadata": {},
     "output_type": "display_data"
    },
    {
     "data": {
      "text/plain": [
       "[431, '29.4.0']"
      ]
     },
     "metadata": {},
     "output_type": "display_data"
    },
    {
     "data": {
      "text/plain": [
       "[432, '29.7.0']"
      ]
     },
     "metadata": {},
     "output_type": "display_data"
    },
    {
     "data": {
      "text/plain": [
       "[433, '3.22.0']"
      ]
     },
     "metadata": {},
     "output_type": "display_data"
    },
    {
     "data": {
      "text/plain": [
       "[434, '3.23.0']"
      ]
     },
     "metadata": {},
     "output_type": "display_data"
    },
    {
     "data": {
      "text/plain": [
       "[435, '30.8.0']"
      ]
     },
     "metadata": {},
     "output_type": "display_data"
    },
    {
     "data": {
      "text/plain": [
       "[436, '303.2.0']"
      ]
     },
     "metadata": {},
     "output_type": "display_data"
    },
    {
     "data": {
      "text/plain": [
       "[437, '307.5.0']"
      ]
     },
     "metadata": {},
     "output_type": "display_data"
    },
    {
     "data": {
      "text/plain": [
       "[438, '307.7.0']"
      ]
     },
     "metadata": {},
     "output_type": "display_data"
    },
    {
     "data": {
      "text/plain": [
       "[439, '308.1.0']"
      ]
     },
     "metadata": {},
     "output_type": "display_data"
    },
    {
     "data": {
      "text/plain": [
       "[440, '311.21.0']"
      ]
     },
     "metadata": {},
     "output_type": "display_data"
    },
    {
     "data": {
      "text/plain": [
       "[441, '311.4.0']"
      ]
     },
     "metadata": {},
     "output_type": "display_data"
    },
    {
     "data": {
      "text/plain": [
       "[442, '311.459.0']"
      ]
     },
     "metadata": {},
     "output_type": "display_data"
    },
    {
     "data": {
      "text/plain": [
       "[443, '311.460.0']"
      ]
     },
     "metadata": {},
     "output_type": "display_data"
    },
    {
     "data": {
      "text/plain": [
       "[444, '311.6.0']"
      ]
     },
     "metadata": {},
     "output_type": "display_data"
    },
    {
     "data": {
      "text/plain": [
       "[445, '313.10.0']"
      ]
     },
     "metadata": {},
     "output_type": "display_data"
    },
    {
     "data": {
      "text/plain": [
       "[446, '313.8.0']"
      ]
     },
     "metadata": {},
     "output_type": "display_data"
    },
    {
     "data": {
      "text/plain": [
       "[447, '32.6.0']"
      ]
     },
     "metadata": {},
     "output_type": "display_data"
    },
    {
     "data": {
      "text/plain": [
       "[448, '33.4.0']"
      ]
     },
     "metadata": {},
     "output_type": "display_data"
    },
    {
     "data": {
      "text/plain": [
       "[449, '33.8.0']"
      ]
     },
     "metadata": {},
     "output_type": "display_data"
    },
    {
     "data": {
      "text/plain": [
       "[450, '35.16.0']"
      ]
     },
     "metadata": {},
     "output_type": "display_data"
    },
    {
     "data": {
      "text/plain": [
       "[451, '35.2.0']"
      ]
     },
     "metadata": {},
     "output_type": "display_data"
    },
    {
     "data": {
      "text/plain": [
       "[452, '35.9.0']"
      ]
     },
     "metadata": {},
     "output_type": "display_data"
    },
    {
     "data": {
      "text/plain": [
       "[453, '36.105.0']"
      ]
     },
     "metadata": {},
     "output_type": "display_data"
    },
    {
     "data": {
      "text/plain": [
       "[454, '36.13.0']"
      ]
     },
     "metadata": {},
     "output_type": "display_data"
    },
    {
     "data": {
      "text/plain": [
       "[455, '36.14.0']"
      ]
     },
     "metadata": {},
     "output_type": "display_data"
    },
    {
     "data": {
      "text/plain": [
       "[456, '36.20.0']"
      ]
     },
     "metadata": {},
     "output_type": "display_data"
    },
    {
     "data": {
      "text/plain": [
       "[457, '36.52.0']"
      ]
     },
     "metadata": {},
     "output_type": "display_data"
    },
    {
     "data": {
      "text/plain": [
       "[458, '36.9.0']"
      ]
     },
     "metadata": {},
     "output_type": "display_data"
    },
    {
     "data": {
      "text/plain": [
       "[459, '37.27.0']"
      ]
     },
     "metadata": {},
     "output_type": "display_data"
    },
    {
     "data": {
      "text/plain": [
       "[460, '38.1.0']"
      ]
     },
     "metadata": {},
     "output_type": "display_data"
    },
    {
     "data": {
      "text/plain": [
       "[461, '39.1.0']"
      ]
     },
     "metadata": {},
     "output_type": "display_data"
    },
    {
     "data": {
      "text/plain": [
       "[462, '39.2.0']"
      ]
     },
     "metadata": {},
     "output_type": "display_data"
    },
    {
     "data": {
      "text/plain": [
       "[463, '400.1.0']"
      ]
     },
     "metadata": {},
     "output_type": "display_data"
    },
    {
     "data": {
      "text/plain": [
       "[464, '400.4.0']"
      ]
     },
     "metadata": {},
     "output_type": "display_data"
    },
    {
     "data": {
      "text/plain": [
       "[465, '400.5.0']"
      ]
     },
     "metadata": {},
     "output_type": "display_data"
    },
    {
     "data": {
      "text/plain": [
       "[466, '400.7.0']"
      ]
     },
     "metadata": {},
     "output_type": "display_data"
    },
    {
     "data": {
      "text/plain": [
       "[467, '41.1.0']"
      ]
     },
     "metadata": {},
     "output_type": "display_data"
    },
    {
     "data": {
      "text/plain": [
       "[468, '41.4.0']"
      ]
     },
     "metadata": {},
     "output_type": "display_data"
    },
    {
     "data": {
      "text/plain": [
       "[469, '41.8.0']"
      ]
     },
     "metadata": {},
     "output_type": "display_data"
    },
    {
     "data": {
      "text/plain": [
       "[470, '42.1.0']"
      ]
     },
     "metadata": {},
     "output_type": "display_data"
    },
    {
     "data": {
      "text/plain": [
       "[471, '42.16.0']"
      ]
     },
     "metadata": {},
     "output_type": "display_data"
    },
    {
     "data": {
      "text/plain": [
       "[472, '42.18.0']"
      ]
     },
     "metadata": {},
     "output_type": "display_data"
    },
    {
     "data": {
      "text/plain": [
       "[473, '42.2.0']"
      ]
     },
     "metadata": {},
     "output_type": "display_data"
    },
    {
     "data": {
      "text/plain": [
       "[474, '45.4.0']"
      ]
     },
     "metadata": {},
     "output_type": "display_data"
    },
    {
     "data": {
      "text/plain": [
       "[475, '46.19.0']"
      ]
     },
     "metadata": {},
     "output_type": "display_data"
    },
    {
     "data": {
      "text/plain": [
       "[476, '46.9.0']"
      ]
     },
     "metadata": {},
     "output_type": "display_data"
    },
    {
     "data": {
      "text/plain": [
       "[477, '48.1.0']"
      ]
     },
     "metadata": {},
     "output_type": "display_data"
    },
    {
     "data": {
      "text/plain": [
       "[478, '48.5.0']"
      ]
     },
     "metadata": {},
     "output_type": "display_data"
    },
    {
     "data": {
      "text/plain": [
       "[479, '49.1.0']"
      ]
     },
     "metadata": {},
     "output_type": "display_data"
    },
    {
     "data": {
      "text/plain": [
       "[480, '5.10.0']"
      ]
     },
     "metadata": {},
     "output_type": "display_data"
    },
    {
     "data": {
      "text/plain": [
       "[481, '5.17.0']"
      ]
     },
     "metadata": {},
     "output_type": "display_data"
    },
    {
     "data": {
      "text/plain": [
       "[482, '5.3.0']"
      ]
     },
     "metadata": {},
     "output_type": "display_data"
    },
    {
     "data": {
      "text/plain": [
       "[483, '5.9.0']"
      ]
     },
     "metadata": {},
     "output_type": "display_data"
    },
    {
     "data": {
      "text/plain": [
       "[484, '50.1.0']"
      ]
     },
     "metadata": {},
     "output_type": "display_data"
    },
    {
     "data": {
      "text/plain": [
       "[485, '50.3.0']"
      ]
     },
     "metadata": {},
     "output_type": "display_data"
    },
    {
     "data": {
      "text/plain": [
       "[486, '55.23.0']"
      ]
     },
     "metadata": {},
     "output_type": "display_data"
    },
    {
     "data": {
      "text/plain": [
       "[487, '55.4.0']"
      ]
     },
     "metadata": {},
     "output_type": "display_data"
    },
    {
     "data": {
      "text/plain": [
       "[488, '55.5.0']"
      ]
     },
     "metadata": {},
     "output_type": "display_data"
    },
    {
     "data": {
      "text/plain": [
       "[489, '56.1.0']"
      ]
     },
     "metadata": {},
     "output_type": "display_data"
    },
    {
     "data": {
      "text/plain": [
       "[490, '56.5.0']"
      ]
     },
     "metadata": {},
     "output_type": "display_data"
    },
    {
     "data": {
      "text/plain": [
       "[491, '6.10.0']"
      ]
     },
     "metadata": {},
     "output_type": "display_data"
    },
    {
     "data": {
      "text/plain": [
       "[492, '6.12.0']"
      ]
     },
     "metadata": {},
     "output_type": "display_data"
    },
    {
     "data": {
      "text/plain": [
       "[493, '6.38.0']"
      ]
     },
     "metadata": {},
     "output_type": "display_data"
    },
    {
     "data": {
      "text/plain": [
       "[494, '6.43.0']"
      ]
     },
     "metadata": {},
     "output_type": "display_data"
    },
    {
     "data": {
      "text/plain": [
       "[495, '6.71.0']"
      ]
     },
     "metadata": {},
     "output_type": "display_data"
    },
    {
     "data": {
      "text/plain": [
       "[496, '6.78.0']"
      ]
     },
     "metadata": {},
     "output_type": "display_data"
    },
    {
     "data": {
      "text/plain": [
       "[497, '6.82.0']"
      ]
     },
     "metadata": {},
     "output_type": "display_data"
    },
    {
     "data": {
      "text/plain": [
       "[498, '6.9.0']"
      ]
     },
     "metadata": {},
     "output_type": "display_data"
    },
    {
     "data": {
      "text/plain": [
       "[499, '6.95.0']"
      ]
     },
     "metadata": {},
     "output_type": "display_data"
    },
    {
     "data": {
      "text/plain": [
       "[500, '6.96.0']"
      ]
     },
     "metadata": {},
     "output_type": "display_data"
    },
    {
     "data": {
      "text/plain": [
       "[501, '6.97.0']"
      ]
     },
     "metadata": {},
     "output_type": "display_data"
    },
    {
     "data": {
      "text/plain": [
       "[502, '61.10.0']"
      ]
     },
     "metadata": {},
     "output_type": "display_data"
    },
    {
     "data": {
      "text/plain": [
       "[503, '61.13.0']"
      ]
     },
     "metadata": {},
     "output_type": "display_data"
    },
    {
     "data": {
      "text/plain": [
       "[504, '61.14.0']"
      ]
     },
     "metadata": {},
     "output_type": "display_data"
    },
    {
     "data": {
      "text/plain": [
       "[505, '61.8.0']"
      ]
     },
     "metadata": {},
     "output_type": "display_data"
    },
    {
     "data": {
      "text/plain": [
       "[506, '62.10.0']"
      ]
     },
     "metadata": {},
     "output_type": "display_data"
    },
    {
     "data": {
      "text/plain": [
       "[507, '62.115.0']"
      ]
     },
     "metadata": {},
     "output_type": "display_data"
    },
    {
     "data": {
      "text/plain": [
       "[508, '62.14.0']"
      ]
     },
     "metadata": {},
     "output_type": "display_data"
    },
    {
     "data": {
      "text/plain": [
       "[509, '62.15.0']"
      ]
     },
     "metadata": {},
     "output_type": "display_data"
    },
    {
     "data": {
      "text/plain": [
       "[510, '62.17.0']"
      ]
     },
     "metadata": {},
     "output_type": "display_data"
    },
    {
     "data": {
      "text/plain": [
       "[511, '62.18.0']"
      ]
     },
     "metadata": {},
     "output_type": "display_data"
    },
    {
     "data": {
      "text/plain": [
       "[512, '62.19.0']"
      ]
     },
     "metadata": {},
     "output_type": "display_data"
    },
    {
     "data": {
      "text/plain": [
       "[513, '62.5.0']"
      ]
     },
     "metadata": {},
     "output_type": "display_data"
    },
    {
     "data": {
      "text/plain": [
       "[514, '63.12.0']"
      ]
     },
     "metadata": {},
     "output_type": "display_data"
    },
    {
     "data": {
      "text/plain": [
       "[515, '64.23.0']"
      ]
     },
     "metadata": {},
     "output_type": "display_data"
    },
    {
     "data": {
      "text/plain": [
       "[516, '64.5.0']"
      ]
     },
     "metadata": {},
     "output_type": "display_data"
    },
    {
     "data": {
      "text/plain": [
       "[517, '64.6.0']"
      ]
     },
     "metadata": {},
     "output_type": "display_data"
    },
    {
     "data": {
      "text/plain": [
       "[518, '67.2.0']"
      ]
     },
     "metadata": {},
     "output_type": "display_data"
    },
    {
     "data": {
      "text/plain": [
       "[519, '68.2.0']"
      ]
     },
     "metadata": {},
     "output_type": "display_data"
    },
    {
     "data": {
      "text/plain": [
       "[520, '7.29.0']"
      ]
     },
     "metadata": {},
     "output_type": "display_data"
    },
    {
     "data": {
      "text/plain": [
       "[521, '7.30.0']"
      ]
     },
     "metadata": {},
     "output_type": "display_data"
    },
    {
     "data": {
      "text/plain": [
       "[522, '7.31.0']"
      ]
     },
     "metadata": {},
     "output_type": "display_data"
    },
    {
     "data": {
      "text/plain": [
       "[523, '70.7.0']"
      ]
     },
     "metadata": {},
     "output_type": "display_data"
    },
    {
     "data": {
      "text/plain": [
       "[524, '71.1.0']"
      ]
     },
     "metadata": {},
     "output_type": "display_data"
    },
    {
     "data": {
      "text/plain": [
       "[525, '72.37.0']"
      ]
     },
     "metadata": {},
     "output_type": "display_data"
    },
    {
     "data": {
      "text/plain": [
       "[526, '72.71.0']"
      ]
     },
     "metadata": {},
     "output_type": "display_data"
    },
    {
     "data": {
      "text/plain": [
       "[527, '72.77.0']"
      ]
     },
     "metadata": {},
     "output_type": "display_data"
    },
    {
     "data": {
      "text/plain": [
       "[528, '73.2.0']"
      ]
     },
     "metadata": {},
     "output_type": "display_data"
    },
    {
     "data": {
      "text/plain": [
       "[529, '73.21.0']"
      ]
     },
     "metadata": {},
     "output_type": "display_data"
    },
    {
     "data": {
      "text/plain": [
       "[530, '73.27.0']"
      ]
     },
     "metadata": {},
     "output_type": "display_data"
    },
    {
     "data": {
      "text/plain": [
       "[531, '74.108.0']"
      ]
     },
     "metadata": {},
     "output_type": "display_data"
    },
    {
     "data": {
      "text/plain": [
       "[532, '74.109.0']"
      ]
     },
     "metadata": {},
     "output_type": "display_data"
    },
    {
     "data": {
      "text/plain": [
       "[533, '74.110.0']"
      ]
     },
     "metadata": {},
     "output_type": "display_data"
    },
    {
     "data": {
      "text/plain": [
       "[534, '74.15.0']"
      ]
     },
     "metadata": {},
     "output_type": "display_data"
    },
    {
     "data": {
      "text/plain": [
       "[535, '74.18.0']"
      ]
     },
     "metadata": {},
     "output_type": "display_data"
    },
    {
     "data": {
      "text/plain": [
       "[536, '74.26.0']"
      ]
     },
     "metadata": {},
     "output_type": "display_data"
    },
    {
     "data": {
      "text/plain": [
       "[537, '74.9.0']"
      ]
     },
     "metadata": {},
     "output_type": "display_data"
    },
    {
     "data": {
      "text/plain": [
       "[538, '75.18.0']"
      ]
     },
     "metadata": {},
     "output_type": "display_data"
    },
    {
     "data": {
      "text/plain": [
       "[539, '75.2.0']"
      ]
     },
     "metadata": {},
     "output_type": "display_data"
    },
    {
     "data": {
      "text/plain": [
       "[540, '75.23.0']"
      ]
     },
     "metadata": {},
     "output_type": "display_data"
    },
    {
     "data": {
      "text/plain": [
       "[541, '75.28.0']"
      ]
     },
     "metadata": {},
     "output_type": "display_data"
    },
    {
     "data": {
      "text/plain": [
       "[542, '75.43.0']"
      ]
     },
     "metadata": {},
     "output_type": "display_data"
    },
    {
     "data": {
      "text/plain": [
       "[543, '75.44.0']"
      ]
     },
     "metadata": {},
     "output_type": "display_data"
    },
    {
     "data": {
      "text/plain": [
       "[544, '75.71.0']"
      ]
     },
     "metadata": {},
     "output_type": "display_data"
    },
    {
     "data": {
      "text/plain": [
       "[545, '75.74.0']"
      ]
     },
     "metadata": {},
     "output_type": "display_data"
    },
    {
     "data": {
      "text/plain": [
       "[546, '75.94.0']"
      ]
     },
     "metadata": {},
     "output_type": "display_data"
    },
    {
     "data": {
      "text/plain": [
       "[547, '76.10.0']"
      ]
     },
     "metadata": {},
     "output_type": "display_data"
    },
    {
     "data": {
      "text/plain": [
       "[548, '76.32.0']"
      ]
     },
     "metadata": {},
     "output_type": "display_data"
    },
    {
     "data": {
      "text/plain": [
       "[549, '76.5.0']"
      ]
     },
     "metadata": {},
     "output_type": "display_data"
    },
    {
     "data": {
      "text/plain": [
       "[550, '76.7.0']"
      ]
     },
     "metadata": {},
     "output_type": "display_data"
    },
    {
     "data": {
      "text/plain": [
       "[551, '77.2.0']"
      ]
     },
     "metadata": {},
     "output_type": "display_data"
    },
    {
     "data": {
      "text/plain": [
       "[552, '77.3.0']"
      ]
     },
     "metadata": {},
     "output_type": "display_data"
    },
    {
     "data": {
      "text/plain": [
       "[553, '78.12.0']"
      ]
     },
     "metadata": {},
     "output_type": "display_data"
    },
    {
     "data": {
      "text/plain": [
       "[554, '78.8.0']"
      ]
     },
     "metadata": {},
     "output_type": "display_data"
    },
    {
     "data": {
      "text/plain": [
       "[555, '79.3.0']"
      ]
     },
     "metadata": {},
     "output_type": "display_data"
    },
    {
     "data": {
      "text/plain": [
       "[556, '8.2.0']"
      ]
     },
     "metadata": {},
     "output_type": "display_data"
    },
    {
     "data": {
      "text/plain": [
       "[557, '8.6.0']"
      ]
     },
     "metadata": {},
     "output_type": "display_data"
    },
    {
     "data": {
      "text/plain": [
       "[558, '8.8.0']"
      ]
     },
     "metadata": {},
     "output_type": "display_data"
    },
    {
     "data": {
      "text/plain": [
       "[559, '8.88.0']"
      ]
     },
     "metadata": {},
     "output_type": "display_data"
    },
    {
     "data": {
      "text/plain": [
       "[560, '80.4.0']"
      ]
     },
     "metadata": {},
     "output_type": "display_data"
    },
    {
     "data": {
      "text/plain": [
       "[561, '81.1.0']"
      ]
     },
     "metadata": {},
     "output_type": "display_data"
    },
    {
     "data": {
      "text/plain": [
       "[562, '82.4.0']"
      ]
     },
     "metadata": {},
     "output_type": "display_data"
    },
    {
     "data": {
      "text/plain": [
       "[563, '83.12.0']"
      ]
     },
     "metadata": {},
     "output_type": "display_data"
    },
    {
     "data": {
      "text/plain": [
       "[564, '83.2.0']"
      ]
     },
     "metadata": {},
     "output_type": "display_data"
    },
    {
     "data": {
      "text/plain": [
       "[565, '83.6.0']"
      ]
     },
     "metadata": {},
     "output_type": "display_data"
    },
    {
     "data": {
      "text/plain": [
       "[566, '83.7.0']"
      ]
     },
     "metadata": {},
     "output_type": "display_data"
    },
    {
     "data": {
      "text/plain": [
       "[567, '84.1.0']"
      ]
     },
     "metadata": {},
     "output_type": "display_data"
    },
    {
     "data": {
      "text/plain": [
       "[568, '84.11.0']"
      ]
     },
     "metadata": {},
     "output_type": "display_data"
    },
    {
     "data": {
      "text/plain": [
       "[569, '84.15.0']"
      ]
     },
     "metadata": {},
     "output_type": "display_data"
    },
    {
     "data": {
      "text/plain": [
       "[570, '84.19.0']"
      ]
     },
     "metadata": {},
     "output_type": "display_data"
    },
    {
     "data": {
      "text/plain": [
       "[571, '84.20.0']"
      ]
     },
     "metadata": {},
     "output_type": "display_data"
    },
    {
     "data": {
      "text/plain": [
       "[572, '84.21.0']"
      ]
     },
     "metadata": {},
     "output_type": "display_data"
    },
    {
     "data": {
      "text/plain": [
       "[573, '84.30.0']"
      ]
     },
     "metadata": {},
     "output_type": "display_data"
    },
    {
     "data": {
      "text/plain": [
       "[574, '84.32.0']"
      ]
     },
     "metadata": {},
     "output_type": "display_data"
    },
    {
     "data": {
      "text/plain": [
       "[575, '84.58.0']"
      ]
     },
     "metadata": {},
     "output_type": "display_data"
    },
    {
     "data": {
      "text/plain": [
       "[576, '84.59.0']"
      ]
     },
     "metadata": {},
     "output_type": "display_data"
    },
    {
     "data": {
      "text/plain": [
       "[577, '85.2.0']"
      ]
     },
     "metadata": {},
     "output_type": "display_data"
    },
    {
     "data": {
      "text/plain": [
       "[578, '85.3.0']"
      ]
     },
     "metadata": {},
     "output_type": "display_data"
    },
    {
     "data": {
      "text/plain": [
       "[579, '85.4.0']"
      ]
     },
     "metadata": {},
     "output_type": "display_data"
    },
    {
     "data": {
      "text/plain": [
       "[580, '85.5.0']"
      ]
     },
     "metadata": {},
     "output_type": "display_data"
    },
    {
     "data": {
      "text/plain": [
       "[581, '86.10.0']"
      ]
     },
     "metadata": {},
     "output_type": "display_data"
    },
    {
     "data": {
      "text/plain": [
       "[582, '86.12.0']"
      ]
     },
     "metadata": {},
     "output_type": "display_data"
    },
    {
     "data": {
      "text/plain": [
       "[583, '86.56.0']"
      ]
     },
     "metadata": {},
     "output_type": "display_data"
    },
    {
     "data": {
      "text/plain": [
       "[584, '87.1.0']"
      ]
     },
     "metadata": {},
     "output_type": "display_data"
    },
    {
     "data": {
      "text/plain": [
       "[585, '87.10.0']"
      ]
     },
     "metadata": {},
     "output_type": "display_data"
    },
    {
     "data": {
      "text/plain": [
       "[586, '87.2.0']"
      ]
     },
     "metadata": {},
     "output_type": "display_data"
    },
    {
     "data": {
      "text/plain": [
       "[587, '88.11.0']"
      ]
     },
     "metadata": {},
     "output_type": "display_data"
    },
    {
     "data": {
      "text/plain": [
       "[588, '88.15.0']"
      ]
     },
     "metadata": {},
     "output_type": "display_data"
    },
    {
     "data": {
      "text/plain": [
       "[589, '88.18.0']"
      ]
     },
     "metadata": {},
     "output_type": "display_data"
    },
    {
     "data": {
      "text/plain": [
       "[590, '88.30.0']"
      ]
     },
     "metadata": {},
     "output_type": "display_data"
    },
    {
     "data": {
      "text/plain": [
       "[591, '88.4.0']"
      ]
     },
     "metadata": {},
     "output_type": "display_data"
    },
    {
     "data": {
      "text/plain": [
       "[592, '89.1.0']"
      ]
     },
     "metadata": {},
     "output_type": "display_data"
    },
    {
     "data": {
      "text/plain": [
       "[593, '90.1.0']"
      ]
     },
     "metadata": {},
     "output_type": "display_data"
    },
    {
     "data": {
      "text/plain": [
       "[594, '91.2.0']"
      ]
     },
     "metadata": {},
     "output_type": "display_data"
    },
    {
     "data": {
      "text/plain": [
       "[595, '94.19.0']"
      ]
     },
     "metadata": {},
     "output_type": "display_data"
    },
    {
     "data": {
      "text/plain": [
       "[596, '95.4.0']"
      ]
     },
     "metadata": {},
     "output_type": "display_data"
    },
    {
     "data": {
      "text/plain": [
       "[597, '96.3.0']"
      ]
     },
     "metadata": {},
     "output_type": "display_data"
    },
    {
     "data": {
      "text/plain": [
       "[598, '97.1.0']"
      ]
     },
     "metadata": {},
     "output_type": "display_data"
    },
    {
     "data": {
      "text/plain": [
       "[599, '97.5.0']"
      ]
     },
     "metadata": {},
     "output_type": "display_data"
    },
    {
     "data": {
      "text/plain": [
       "[600, '98.4.0']"
      ]
     },
     "metadata": {},
     "output_type": "display_data"
    },
    {
     "data": {
      "text/plain": [
       "[601, '99.1.0']"
      ]
     },
     "metadata": {},
     "output_type": "display_data"
    },
    {
     "data": {
      "text/plain": [
       "[602, '99.17.0']"
      ]
     },
     "metadata": {},
     "output_type": "display_data"
    },
    {
     "data": {
      "text/plain": [
       "[603, '99.2.0']"
      ]
     },
     "metadata": {},
     "output_type": "display_data"
    }
   ],
   "source": [
    "#Finding out the gid number for the flow accumulation raster\n",
    "sql = '''with bla as\n",
    "(select sid,stationid,st_transform(geom,3045) as geom from {schema}.stations)\n",
    "select b.sid,b.stationid,a.gid,a.vassomr,st_area(a.geom)/1e6 as area\n",
    "from nedborfelt.vassdragsomr as a, bla as b \n",
    "where st_intersects(a.geom,b.geom);'''.format(schema=schema)\n",
    "\n",
    "a = query(sql)\n",
    "display(a)\n",
    "\n",
    "query('drop table if exists {schema}.basins;'.format(schema=schema),fetch=False)\n",
    "query('''create table {schema}.basins(sid integer not  null,area double precision, geom geometry(multipolygon,25833),\n",
    "primary key (sid),\n",
    "constraint fk_outlet\n",
    "foreign key(sid) \n",
    "references {schema}.outlet(sid)\n",
    ");\n",
    "'''.format(schema=schema),fetch=False)\n",
    "\n",
    "#Creating folder to store results\n",
    "with Connection(**config) as c:\n",
    "    c.run('rm -rf watershed && mkdir watershed')\n",
    "    \n",
    "\n",
    "script='''#! /bin/bash\n",
    "cd watershed\n",
    "rm -f out.* basin.*\n",
    "\n",
    "pgsql2shp -f out{sid}.shp geonorway \"select sid as id, geom from {schema}.outlet where sid={sid}\"\n",
    "mpiexec -n 3 gagewatershed -p /home/jose-luis/flatLake/basin_{gid}_flow_dir.tif -o out{sid}.shp -gw watershed_{sid}.tif\n",
    "gdal_polygonize.py -8 -f \"ESRI Shapefile\" watershed_{sid}.tif basin{sid}.shp\n",
    "shp2pgsql -d -s 25833 basin{sid}.shp {schema}.temp | psql -d geonorway\n",
    "echo \"insert into {schema}.basins(sid,geom) select dn, st_makevalid(geom) from {schema}.temp;\" | psql -d geonorway\n",
    "'''\n",
    "\n",
    "for i,j in a.iterrows():   \n",
    "# for sid in sids:\n",
    "#     sid=j['station_id']\n",
    "    display([j['sid'],j['stationid']])\n",
    "    with Connection(**config) as c:\n",
    "        with open('script.sh','w') as f:\n",
    "            cond = {'sid': j['sid'], 'gid': j['gid'], 'schema': schema}\n",
    "            f.write(script.format(**cond))\n",
    "        c.put('script.sh')\n",
    "        c.run('chmod +x script.sh')\n",
    "        c.run('./script.sh',hide='both')\n",
    "    \n",
    "\n",
    "query('update {schema}.basins set area=st_area(geom)'.format(schema=schema),fetch=False);\n",
    "query('create index {schema}_basins_idx on {schema}.basins using gist(geom);'.format(schema=schema),fetch=False)"
   ]
  },
  {
   "cell_type": "code",
   "execution_count": 12,
   "id": "varied-bulgarian",
   "metadata": {},
   "outputs": [
    {
     "data": {
      "text/plain": [
       "744725676"
      ]
     },
     "execution_count": 12,
     "metadata": {},
     "output_type": "execute_result"
    }
   ],
   "source": [
    "23131*32196\n"
   ]
  },
  {
   "cell_type": "code",
   "execution_count": null,
   "id": "humanitarian-tourism",
   "metadata": {},
   "outputs": [],
   "source": []
  }
 ],
 "metadata": {
  "kernelspec": {
   "display_name": "Python 3",
   "language": "python",
   "name": "python3"
  },
  "language_info": {
   "codemirror_mode": {
    "name": "ipython",
    "version": 3
   },
   "file_extension": ".py",
   "mimetype": "text/x-python",
   "name": "python",
   "nbconvert_exporter": "python",
   "pygments_lexer": "ipython3",
   "version": "3.8.6"
  }
 },
 "nbformat": 4,
 "nbformat_minor": 5
}
