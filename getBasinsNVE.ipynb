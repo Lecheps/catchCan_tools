{
 "cells": [
  {
   "cell_type": "markdown",
   "id": "intensive-hebrew",
   "metadata": {},
   "source": [
    "# Getting basins for all NVE discharge-measuring stations\n",
    "This notebook assumes that NVE info has been downloaded using the get_nve_data.ipynb notebook in this folder\n",
    "\n",
    "## Loading required packages and getting credentials to connect to the database"
   ]
  },
  {
   "cell_type": "code",
   "execution_count": 1,
   "id": "insured-slovakia",
   "metadata": {},
   "outputs": [
    {
     "name": "stdin",
     "output_type": "stream",
     "text": [
      "mobiserver password:  ·······\n",
      "vault password:  ···············\n"
     ]
    }
   ],
   "source": [
    "import requests\n",
    "import json\n",
    "import matplotlib.pyplot as plt\n",
    "import datetime\n",
    "import pandas as pd\n",
    "from datetime import datetime\n",
    "from datetime import timedelta\n",
    "from fabric import Connection\n",
    "import psycopg2\n",
    "import gmaps\n",
    "import pandas.io.sql as sqlio\n",
    "import getpass\n",
    "from io import StringIO\n",
    "import paramiko\n",
    "import sys\n",
    "from time import sleep\n",
    "\n",
    "sys.path.insert(0, \"/home/jovyan/watexr/PROGNOS/\")\n",
    "from prognos_tools.gce_light import gce_api as gce\n",
    "\n",
    "key = getpass.getpass('mobiserver password: ')\n",
    "cloudKey = getpass.getpass('vault password: ')\n",
    "#Querying necessary tokens\n",
    "def query(query,fetch=True):\n",
    "    with psycopg2.connect(user='jose-luis', host='mobiserver.niva.no', port=5432, database='vault',password=key) as db:\n",
    "        with db.cursor() as cursor :\n",
    "            cursor.execute(query)\n",
    "            if fetch:\n",
    "                result = sqlio.read_sql_query(query, db)\n",
    "                return result\n",
    "            \n",
    "gmapsKey = query('''select niva.getToken('gmaps','{}');'''.format(cloudKey)).iloc[0,0]\n",
    "sshKey = query('''select niva.getToken('geonorway_ssh_key','{}');'''.format(cloudKey)).iloc[0,0]\n",
    "cloudKey = json.loads(query('''select niva.getToken('gce_access','{}');'''.format(cloudKey)).iloc[0,0])\n",
    "gmaps.configure(gmapsKey)\n",
    "not_really_a_file = StringIO(sshKey)\n",
    "private_key = paramiko.RSAKey.from_private_key(not_really_a_file)\n",
    "del key,sshKey"
   ]
  },
  {
   "cell_type": "markdown",
   "id": "pleased-perth",
   "metadata": {},
   "source": [
    "## Starting the instance containing the database using the google compute engine api"
   ]
  },
  {
   "cell_type": "code",
   "execution_count": 2,
   "id": "dutch-speech",
   "metadata": {},
   "outputs": [
    {
     "data": {
      "text/plain": [
       "'RUNNING'"
      ]
     },
     "metadata": {},
     "output_type": "display_data"
    },
    {
     "data": {
      "text/plain": [
       "'IP of the instance containing the database 35.228.213.48:'"
      ]
     },
     "metadata": {},
     "output_type": "display_data"
    }
   ],
   "source": [
    "#Check status of instance\n",
    "properties = {'project'      : 'nivacatchment',\n",
    "             'zone'         : 'europe-north1-a',\n",
    "             'instanceType' : \"n1-standard-4\",\n",
    "             'instanceName' : \"dtm10\",\n",
    "             'username'     : \"jose-luis\",\n",
    "             }\n",
    "\n",
    "cloud = gce(properties, cloudKey)\n",
    "del cloudKey\n",
    "\n",
    "#Getting instance info\n",
    "cloud.CommonCalls['custom'] = '''https://compute.googleapis.com/compute/v1/projects/{project}/zones/{zone}/instances/{instanceName}'''\n",
    "info = cloud.get('custom')\n",
    "display(info['status'])\n",
    "#If instance is stopped, start it\n",
    "if info['status'] != 'RUNNING':\n",
    "    cloud.CommonCalls['custom'] = '''https://compute.googleapis.com/compute/v1/projects/{project}/zones/{zone}/instances/{instanceName}/start'''\n",
    "    info = cloud.post('custom')\n",
    "    display(info['status'])\n",
    "    cloud.CommonCalls['custom'] = '''https://compute.googleapis.com/compute/v1/projects/{project}/zones/{zone}/instances/{instanceName}'''\n",
    "    info = cloud.get('custom')\n",
    "    while info['status'] != 'RUNNING':\n",
    "           sleep(2)\n",
    "           info = cloud.get('custom')\n",
    "          \n",
    "geonorway = info['networkInterfaces'][0]['accessConfigs'][0]['natIP']    \n",
    "    \n",
    "display(\"IP of the instance containing the database {}:\".format(geonorway))\n",
    "\n",
    "#The config below can be used to connect to the instance using fabric's Connection\n",
    "config =  {'host' : geonorway, 'user': 'jose-luis', 'connect_kwargs': {'pkey': private_key } }"
   ]
  },
  {
   "cell_type": "markdown",
   "id": "pregnant-welcome",
   "metadata": {},
   "source": [
    "## Getting the coordinates of NVE's discharge-measuring stations and the basin they belong to"
   ]
  },
  {
   "cell_type": "code",
   "execution_count": 3,
   "id": "uniform-single",
   "metadata": {},
   "outputs": [
    {
     "data": {
      "text/html": [
       "<div>\n",
       "<style scoped>\n",
       "    .dataframe tbody tr th:only-of-type {\n",
       "        vertical-align: middle;\n",
       "    }\n",
       "\n",
       "    .dataframe tbody tr th {\n",
       "        vertical-align: top;\n",
       "    }\n",
       "\n",
       "    .dataframe thead th {\n",
       "        text-align: right;\n",
       "    }\n",
       "</style>\n",
       "<table border=\"1\" class=\"dataframe\">\n",
       "  <thead>\n",
       "    <tr style=\"text-align: right;\">\n",
       "      <th></th>\n",
       "      <th>stationid</th>\n",
       "      <th>gid</th>\n",
       "      <th>vassomr</th>\n",
       "      <th>area</th>\n",
       "    </tr>\n",
       "  </thead>\n",
       "  <tbody>\n",
       "    <tr>\n",
       "      <th>0</th>\n",
       "      <td>1.198.0</td>\n",
       "      <td>1</td>\n",
       "      <td>Haldenvassdraget/Iddefjorden</td>\n",
       "      <td>2507.380211</td>\n",
       "    </tr>\n",
       "    <tr>\n",
       "      <th>1</th>\n",
       "      <td>1.200.0</td>\n",
       "      <td>1</td>\n",
       "      <td>Haldenvassdraget/Iddefjorden</td>\n",
       "      <td>2507.380211</td>\n",
       "    </tr>\n",
       "    <tr>\n",
       "      <th>2</th>\n",
       "      <td>1.48.0</td>\n",
       "      <td>1</td>\n",
       "      <td>Haldenvassdraget/Iddefjorden</td>\n",
       "      <td>2507.380211</td>\n",
       "    </tr>\n",
       "    <tr>\n",
       "      <th>3</th>\n",
       "      <td>1.49.0</td>\n",
       "      <td>1</td>\n",
       "      <td>Haldenvassdraget/Iddefjorden</td>\n",
       "      <td>2507.380211</td>\n",
       "    </tr>\n",
       "    <tr>\n",
       "      <th>4</th>\n",
       "      <td>1.50.0</td>\n",
       "      <td>1</td>\n",
       "      <td>Haldenvassdraget/Iddefjorden</td>\n",
       "      <td>2507.380211</td>\n",
       "    </tr>\n",
       "    <tr>\n",
       "      <th>...</th>\n",
       "      <td>...</td>\n",
       "      <td>...</td>\n",
       "      <td>...</td>\n",
       "      <td>...</td>\n",
       "    </tr>\n",
       "    <tr>\n",
       "      <th>597</th>\n",
       "      <td>97.5.0</td>\n",
       "      <td>97</td>\n",
       "      <td>Storfjorden sør, Hjørundfjorden og Sykkylvsfjo...</td>\n",
       "      <td>868.995031</td>\n",
       "    </tr>\n",
       "    <tr>\n",
       "      <th>598</th>\n",
       "      <td>98.4.0</td>\n",
       "      <td>98</td>\n",
       "      <td>Storfjorden sør, Sunnylvsfjorden og Geirangerf...</td>\n",
       "      <td>1003.641202</td>\n",
       "    </tr>\n",
       "    <tr>\n",
       "      <th>599</th>\n",
       "      <td>99.1.0</td>\n",
       "      <td>99</td>\n",
       "      <td>Tafjordvassdraget/Tafjorden og Norddalsfjorden...</td>\n",
       "      <td>643.801323</td>\n",
       "    </tr>\n",
       "    <tr>\n",
       "      <th>600</th>\n",
       "      <td>99.17.0</td>\n",
       "      <td>99</td>\n",
       "      <td>Tafjordvassdraget/Tafjorden og Norddalsfjorden...</td>\n",
       "      <td>643.801323</td>\n",
       "    </tr>\n",
       "    <tr>\n",
       "      <th>601</th>\n",
       "      <td>99.2.0</td>\n",
       "      <td>99</td>\n",
       "      <td>Tafjordvassdraget/Tafjorden og Norddalsfjorden...</td>\n",
       "      <td>643.801323</td>\n",
       "    </tr>\n",
       "  </tbody>\n",
       "</table>\n",
       "<p>602 rows × 4 columns</p>\n",
       "</div>"
      ],
      "text/plain": [
       "    stationid  gid                                            vassomr  \\\n",
       "0     1.198.0    1                       Haldenvassdraget/Iddefjorden   \n",
       "1     1.200.0    1                       Haldenvassdraget/Iddefjorden   \n",
       "2      1.48.0    1                       Haldenvassdraget/Iddefjorden   \n",
       "3      1.49.0    1                       Haldenvassdraget/Iddefjorden   \n",
       "4      1.50.0    1                       Haldenvassdraget/Iddefjorden   \n",
       "..        ...  ...                                                ...   \n",
       "597    97.5.0   97  Storfjorden sør, Hjørundfjorden og Sykkylvsfjo...   \n",
       "598    98.4.0   98  Storfjorden sør, Sunnylvsfjorden og Geirangerf...   \n",
       "599    99.1.0   99  Tafjordvassdraget/Tafjorden og Norddalsfjorden...   \n",
       "600   99.17.0   99  Tafjordvassdraget/Tafjorden og Norddalsfjorden...   \n",
       "601    99.2.0   99  Tafjordvassdraget/Tafjorden og Norddalsfjorden...   \n",
       "\n",
       "            area  \n",
       "0    2507.380211  \n",
       "1    2507.380211  \n",
       "2    2507.380211  \n",
       "3    2507.380211  \n",
       "4    2507.380211  \n",
       "..           ...  \n",
       "597   868.995031  \n",
       "598  1003.641202  \n",
       "599   643.801323  \n",
       "600   643.801323  \n",
       "601   643.801323  \n",
       "\n",
       "[602 rows x 4 columns]"
      ]
     },
     "metadata": {},
     "output_type": "display_data"
    }
   ],
   "source": [
    "#Helper function to query the database and return a pandas dataframe if required.\n",
    "def query(query,fetch=True):\n",
    "    with psycopg2.connect(user='jose-luis', host=geonorway, port=5432, database='geonorway') as db:\n",
    "        cursor = db.cursor()\n",
    "        cursor.execute(query)\n",
    "        if fetch:\n",
    "            result = sqlio.read_sql_query(query, db)\n",
    "            return result\n",
    "        \n",
    "#Schema where the nve data resides\n",
    "schema = 'nveq'\n",
    "\n",
    "#Querying the coordinates of the stations and the basin they are in:\n",
    "sql = '''with bla as\n",
    "(select stationid,stationname,st_transform(geom,3045) as geom from {}.stations)\n",
    "select b.stationid,a.gid,a.vassomr,st_area(a.geom)/1e6 as area\n",
    "from nedborfelt.vassdragsomr as a, bla as b \n",
    "where st_intersects(a.geom,b.geom);'''.format(schema)\n",
    "\n",
    "a = query(sql)\n",
    "display(a)"
   ]
  },
  {
   "cell_type": "code",
   "execution_count": 4,
   "id": "domestic-sociology",
   "metadata": {},
   "outputs": [
    {
     "data": {
      "text/html": [
       "<div>\n",
       "<style scoped>\n",
       "    .dataframe tbody tr th:only-of-type {\n",
       "        vertical-align: middle;\n",
       "    }\n",
       "\n",
       "    .dataframe tbody tr th {\n",
       "        vertical-align: top;\n",
       "    }\n",
       "\n",
       "    .dataframe thead th {\n",
       "        text-align: right;\n",
       "    }\n",
       "</style>\n",
       "<table border=\"1\" class=\"dataframe\">\n",
       "  <thead>\n",
       "    <tr style=\"text-align: right;\">\n",
       "      <th></th>\n",
       "      <th>stationid</th>\n",
       "      <th>stationname</th>\n",
       "    </tr>\n",
       "  </thead>\n",
       "  <tbody>\n",
       "    <tr>\n",
       "      <th>0</th>\n",
       "      <td>19.244.0</td>\n",
       "      <td>Nye Jørundland</td>\n",
       "    </tr>\n",
       "  </tbody>\n",
       "</table>\n",
       "</div>"
      ],
      "text/plain": [
       "  stationid     stationname\n",
       "0  19.244.0  Nye Jørundland"
      ]
     },
     "metadata": {},
     "output_type": "display_data"
    }
   ],
   "source": [
    "# Checking if all stations fall inside a basin. The query should be empty if all stations fall inside a basin\n",
    "sql = '''with bla as\n",
    "(select stationid,stationname,st_transform(geom,3045) as geom from {}.stations)\n",
    "select b.stationid,b.stationname from bla as b \n",
    "where b.stationid not in (select b.stationid from bla as b, nedborfelt.vassdragsomr as a where st_intersects(a.geom,b.geom));'''.format(schema)\n",
    "\n",
    "display(query(sql))"
   ]
  },
  {
   "cell_type": "code",
   "execution_count": 5,
   "id": "phantom-consumption",
   "metadata": {},
   "outputs": [
    {
     "data": {
      "text/html": [
       "<div>\n",
       "<style scoped>\n",
       "    .dataframe tbody tr th:only-of-type {\n",
       "        vertical-align: middle;\n",
       "    }\n",
       "\n",
       "    .dataframe tbody tr th {\n",
       "        vertical-align: top;\n",
       "    }\n",
       "\n",
       "    .dataframe thead th {\n",
       "        text-align: right;\n",
       "    }\n",
       "</style>\n",
       "<table border=\"1\" class=\"dataframe\">\n",
       "  <thead>\n",
       "    <tr style=\"text-align: right;\">\n",
       "      <th></th>\n",
       "      <th>sid</th>\n",
       "      <th>stationname</th>\n",
       "      <th>stationid</th>\n",
       "      <th>latitude</th>\n",
       "      <th>longitude</th>\n",
       "      <th>geom</th>\n",
       "    </tr>\n",
       "  </thead>\n",
       "  <tbody>\n",
       "    <tr>\n",
       "      <th>0</th>\n",
       "      <td>241</td>\n",
       "      <td>Nye Jørundland</td>\n",
       "      <td>19.244.0</td>\n",
       "      <td>1.11498</td>\n",
       "      <td>5.61744</td>\n",
       "      <td>0101000020E61000000EF8FC3042781640F41ABB44F5D6...</td>\n",
       "    </tr>\n",
       "  </tbody>\n",
       "</table>\n",
       "</div>"
      ],
      "text/plain": [
       "   sid     stationname stationid  latitude  longitude  \\\n",
       "0  241  Nye Jørundland  19.244.0   1.11498    5.61744   \n",
       "\n",
       "                                                geom  \n",
       "0  0101000020E61000000EF8FC3042781640F41ABB44F5D6...  "
      ]
     },
     "metadata": {},
     "output_type": "display_data"
    },
    {
     "data": {
      "text/html": [
       "<div>\n",
       "<style scoped>\n",
       "    .dataframe tbody tr th:only-of-type {\n",
       "        vertical-align: middle;\n",
       "    }\n",
       "\n",
       "    .dataframe tbody tr th {\n",
       "        vertical-align: top;\n",
       "    }\n",
       "\n",
       "    .dataframe thead th {\n",
       "        text-align: right;\n",
       "    }\n",
       "</style>\n",
       "<table border=\"1\" class=\"dataframe\">\n",
       "  <thead>\n",
       "    <tr style=\"text-align: right;\">\n",
       "      <th></th>\n",
       "      <th>sid</th>\n",
       "      <th>name</th>\n",
       "      <th>parameter</th>\n",
       "      <th>longitude</th>\n",
       "      <th>latitude</th>\n",
       "      <th>utme</th>\n",
       "      <th>utmn</th>\n",
       "    </tr>\n",
       "  </thead>\n",
       "  <tbody>\n",
       "    <tr>\n",
       "      <th>0</th>\n",
       "      <td>19.244.0</td>\n",
       "      <td>Nye Jørundland</td>\n",
       "      <td>Vannstand</td>\n",
       "      <td>5.61744</td>\n",
       "      <td>1.11498</td>\n",
       "      <td>-548573</td>\n",
       "      <td>124922</td>\n",
       "    </tr>\n",
       "    <tr>\n",
       "      <th>1</th>\n",
       "      <td>19.244.0</td>\n",
       "      <td>Nye Jørundland</td>\n",
       "      <td>Vannføring</td>\n",
       "      <td>5.61744</td>\n",
       "      <td>1.11498</td>\n",
       "      <td>-548573</td>\n",
       "      <td>124922</td>\n",
       "    </tr>\n",
       "  </tbody>\n",
       "</table>\n",
       "</div>"
      ],
      "text/plain": [
       "        sid            name   parameter  longitude  latitude    utme    utmn\n",
       "0  19.244.0  Nye Jørundland   Vannstand    5.61744   1.11498 -548573  124922\n",
       "1  19.244.0  Nye Jørundland  Vannføring    5.61744   1.11498 -548573  124922"
      ]
     },
     "metadata": {},
     "output_type": "display_data"
    }
   ],
   "source": [
    "#There is a problem with Nye Jørundland, it appears that the latitude is wrong. This will need fixing\n",
    "display(query('''select * from nveq.stations where stationid='19.244.0'  '''))\n",
    "\n",
    "#This query gets the coordinates directly from the metadata that was obtained from HydAPI\n",
    "a = query('''with bla as\n",
    "(\n",
    "select json_array_elements(metadata->'data') as singleelement from nveq.metadata\n",
    ")\n",
    "select singleelement->'stationId' as sid, singleelement->'stationName' as name ,singleelement->'parameterName' as parameter,\n",
    "singleelement->'longitude' as longitude,singleelement->'latitude' as latitude,\n",
    "singleelement->'utmEast_Z33' as utme,singleelement->'utmNorth_Z33' as utmn\n",
    "from  bla as a \n",
    "where (a.singleelement->>'stationId') = '19.244.0'\n",
    "''')\n",
    "display(a)"
   ]
  },
  {
   "cell_type": "code",
   "execution_count": 6,
   "id": "composite-living",
   "metadata": {},
   "outputs": [
    {
     "data": {
      "text/plain": [
       "(1.1149882510510696, 5.617439450536286)"
      ]
     },
     "metadata": {},
     "output_type": "display_data"
    }
   ],
   "source": [
    "if not a.empty:\n",
    "    from pyproj import Transformer\n",
    "    transformer = Transformer.from_crs(\"epsg:25833\", \"epsg:4326\")\n",
    "    new_coord = transformer.transform(a.loc[0,'utme'],a.loc[0,'utmn'])\n",
    "    display(new_coord)"
   ]
  },
  {
   "cell_type": "markdown",
   "id": "innovative-tiger",
   "metadata": {},
   "source": [
    "## Creating table with outlet coordinates\n",
    "A common problem with coordinates is that they do fall on an actual \"river\". In order for the basin delineation algorithm to work, the given coordinates should fall inside a cell considered a river in the flow accumulation raster. \n",
    "In order to guarantee this we will nudge, if necessary, the given coordinates so they fall in a cell considered to be a river. The process is not fool proof and the results should be quality controlled. "
   ]
  },
  {
   "cell_type": "code",
   "execution_count": 7,
   "id": "lucky-boating",
   "metadata": {},
   "outputs": [
    {
     "data": {
      "text/html": [
       "<div>\n",
       "<style scoped>\n",
       "    .dataframe tbody tr th:only-of-type {\n",
       "        vertical-align: middle;\n",
       "    }\n",
       "\n",
       "    .dataframe tbody tr th {\n",
       "        vertical-align: top;\n",
       "    }\n",
       "\n",
       "    .dataframe thead th {\n",
       "        text-align: right;\n",
       "    }\n",
       "</style>\n",
       "<table border=\"1\" class=\"dataframe\">\n",
       "  <thead>\n",
       "    <tr style=\"text-align: right;\">\n",
       "      <th></th>\n",
       "      <th>sid</th>\n",
       "      <th>stationname</th>\n",
       "      <th>stationid</th>\n",
       "      <th>latitude</th>\n",
       "      <th>longitude</th>\n",
       "      <th>geom</th>\n",
       "    </tr>\n",
       "  </thead>\n",
       "  <tbody>\n",
       "    <tr>\n",
       "      <th>0</th>\n",
       "      <td>235</td>\n",
       "      <td>Songedalsåi</td>\n",
       "      <td>19.104.0</td>\n",
       "      <td>6.594485e+06</td>\n",
       "      <td>100966.613073</td>\n",
       "      <td>0101000020E9640000B44525CF69A6F840C8C08352ED27...</td>\n",
       "    </tr>\n",
       "    <tr>\n",
       "      <th>1</th>\n",
       "      <td>1</td>\n",
       "      <td>Berg</td>\n",
       "      <td>1.198.0</td>\n",
       "      <td>6.649056e+06</td>\n",
       "      <td>299270.663130</td>\n",
       "      <td>0101000020E9640000798B0BA71A441241F067B407385D...</td>\n",
       "    </tr>\n",
       "    <tr>\n",
       "      <th>2</th>\n",
       "      <td>2</td>\n",
       "      <td>Lierelv</td>\n",
       "      <td>1.200.0</td>\n",
       "      <td>6.647623e+06</td>\n",
       "      <td>306146.133013</td>\n",
       "      <td>0101000020E9640000A09E348888AF124171F317DFD15B...</td>\n",
       "    </tr>\n",
       "    <tr>\n",
       "      <th>3</th>\n",
       "      <td>3</td>\n",
       "      <td>Ørje</td>\n",
       "      <td>1.48.0</td>\n",
       "      <td>6.598578e+06</td>\n",
       "      <td>310319.289430</td>\n",
       "      <td>0101000020E964000030666028BDF01241800E367AEC2B...</td>\n",
       "    </tr>\n",
       "    <tr>\n",
       "      <th>4</th>\n",
       "      <td>4</td>\n",
       "      <td>Brekke</td>\n",
       "      <td>1.49.0</td>\n",
       "      <td>6.561574e+06</td>\n",
       "      <td>303059.849291</td>\n",
       "      <td>0101000020E9640000929AAC654F7F12414BD08182C907...</td>\n",
       "    </tr>\n",
       "    <tr>\n",
       "      <th>...</th>\n",
       "      <td>...</td>\n",
       "      <td>...</td>\n",
       "      <td>...</td>\n",
       "      <td>...</td>\n",
       "      <td>...</td>\n",
       "      <td>...</td>\n",
       "    </tr>\n",
       "    <tr>\n",
       "      <th>597</th>\n",
       "      <td>599</td>\n",
       "      <td>Sleddalen</td>\n",
       "      <td>97.5.0</td>\n",
       "      <td>6.911719e+06</td>\n",
       "      <td>54298.943804</td>\n",
       "      <td>0101000020E964000050F7A3335E83EA402FB342DAB95D...</td>\n",
       "    </tr>\n",
       "    <tr>\n",
       "      <th>598</th>\n",
       "      <td>600</td>\n",
       "      <td>Øye ndf.</td>\n",
       "      <td>98.4.0</td>\n",
       "      <td>6.908019e+06</td>\n",
       "      <td>79130.031111</td>\n",
       "      <td>0101000020E964000054E66D7FA051F340EA7CDACE1C5A...</td>\n",
       "    </tr>\n",
       "    <tr>\n",
       "      <th>599</th>\n",
       "      <td>601</td>\n",
       "      <td>Onilsavatn</td>\n",
       "      <td>99.1.0</td>\n",
       "      <td>6.921633e+06</td>\n",
       "      <td>106860.032109</td>\n",
       "      <td>0101000020E9640000DC478483C016FA40399B10326867...</td>\n",
       "    </tr>\n",
       "    <tr>\n",
       "      <th>600</th>\n",
       "      <td>602</td>\n",
       "      <td>Rødøla</td>\n",
       "      <td>99.17.0</td>\n",
       "      <td>6.918836e+06</td>\n",
       "      <td>110112.804136</td>\n",
       "      <td>0101000020E96400008441BDDD0CE2FA404CD863F8AC64...</td>\n",
       "    </tr>\n",
       "    <tr>\n",
       "      <th>601</th>\n",
       "      <td>603</td>\n",
       "      <td>Heimste Kaldhussetervann</td>\n",
       "      <td>99.2.0</td>\n",
       "      <td>6.916773e+06</td>\n",
       "      <td>106105.729875</td>\n",
       "      <td>0101000020E9640000CCE091AD9BE7F94051921D4CA962...</td>\n",
       "    </tr>\n",
       "  </tbody>\n",
       "</table>\n",
       "<p>602 rows × 6 columns</p>\n",
       "</div>"
      ],
      "text/plain": [
       "     sid               stationname stationid      latitude      longitude  \\\n",
       "0    235               Songedalsåi  19.104.0  6.594485e+06  100966.613073   \n",
       "1      1                      Berg   1.198.0  6.649056e+06  299270.663130   \n",
       "2      2                   Lierelv   1.200.0  6.647623e+06  306146.133013   \n",
       "3      3                      Ørje    1.48.0  6.598578e+06  310319.289430   \n",
       "4      4                    Brekke    1.49.0  6.561574e+06  303059.849291   \n",
       "..   ...                       ...       ...           ...            ...   \n",
       "597  599                 Sleddalen    97.5.0  6.911719e+06   54298.943804   \n",
       "598  600                  Øye ndf.    98.4.0  6.908019e+06   79130.031111   \n",
       "599  601                Onilsavatn    99.1.0  6.921633e+06  106860.032109   \n",
       "600  602                    Rødøla   99.17.0  6.918836e+06  110112.804136   \n",
       "601  603  Heimste Kaldhussetervann    99.2.0  6.916773e+06  106105.729875   \n",
       "\n",
       "                                                  geom  \n",
       "0    0101000020E9640000B44525CF69A6F840C8C08352ED27...  \n",
       "1    0101000020E9640000798B0BA71A441241F067B407385D...  \n",
       "2    0101000020E9640000A09E348888AF124171F317DFD15B...  \n",
       "3    0101000020E964000030666028BDF01241800E367AEC2B...  \n",
       "4    0101000020E9640000929AAC654F7F12414BD08182C907...  \n",
       "..                                                 ...  \n",
       "597  0101000020E964000050F7A3335E83EA402FB342DAB95D...  \n",
       "598  0101000020E964000054E66D7FA051F340EA7CDACE1C5A...  \n",
       "599  0101000020E9640000DC478483C016FA40399B10326867...  \n",
       "600  0101000020E96400008441BDDD0CE2FA404CD863F8AC64...  \n",
       "601  0101000020E9640000CCE091AD9BE7F94051921D4CA962...  \n",
       "\n",
       "[602 rows x 6 columns]"
      ]
     },
     "metadata": {},
     "output_type": "display_data"
    }
   ],
   "source": [
    "#We will not include the Nye Jørundland stations until we get the right coordinates for it\n",
    "#Please note that in the outlet table we will setup the srid of the outlet to 3035 since\n",
    "#that is the epsg of the rasters we use to compute the basins\n",
    "sql = '''drop table if exists {schema}.outlet;\n",
    "create table {schema}.outlet as select sid, stationname, stationid, latitude, longitude, st_transform(geom,25833) as geom from {schema}.stations as a\n",
    "where a.stationid != '19.244.0';\n",
    "update {schema}.outlet\n",
    "set latitude=st_y(geom),\n",
    "longitude=st_x(geom);\n",
    "'''.format(schema=schema)\n",
    "query(sql,fetch=False)\n",
    "display(query('''select * from {schema}.outlet;'''.format(schema=schema)))"
   ]
  },
  {
   "cell_type": "code",
   "execution_count": 8,
   "id": "mobile-tours",
   "metadata": {},
   "outputs": [
    {
     "data": {
      "text/html": [
       "<div>\n",
       "<style scoped>\n",
       "    .dataframe tbody tr th:only-of-type {\n",
       "        vertical-align: middle;\n",
       "    }\n",
       "\n",
       "    .dataframe tbody tr th {\n",
       "        vertical-align: top;\n",
       "    }\n",
       "\n",
       "    .dataframe thead th {\n",
       "        text-align: right;\n",
       "    }\n",
       "</style>\n",
       "<table border=\"1\" class=\"dataframe\">\n",
       "  <thead>\n",
       "    <tr style=\"text-align: right;\">\n",
       "      <th></th>\n",
       "      <th>gid</th>\n",
       "      <th>sids</th>\n",
       "    </tr>\n",
       "  </thead>\n",
       "  <tbody>\n",
       "    <tr>\n",
       "      <th>0</th>\n",
       "      <td>1</td>\n",
       "      <td>[5, 4, 3, 2, 1]</td>\n",
       "    </tr>\n",
       "    <tr>\n",
       "      <th>1</th>\n",
       "      <td>2</td>\n",
       "      <td>[336, 338, 339, 340, 313, 312, 311, 310, 309, ...</td>\n",
       "    </tr>\n",
       "    <tr>\n",
       "      <th>2</th>\n",
       "      <td>3</td>\n",
       "      <td>[434, 433]</td>\n",
       "    </tr>\n",
       "    <tr>\n",
       "      <th>3</th>\n",
       "      <td>5</td>\n",
       "      <td>[480, 483, 481, 482]</td>\n",
       "    </tr>\n",
       "    <tr>\n",
       "      <th>4</th>\n",
       "      <td>6</td>\n",
       "      <td>[500, 501, 499, 498, 497, 496, 495, 494, 493, ...</td>\n",
       "    </tr>\n",
       "    <tr>\n",
       "      <th>...</th>\n",
       "      <td>...</td>\n",
       "      <td>...</td>\n",
       "    </tr>\n",
       "    <tr>\n",
       "      <th>160</th>\n",
       "      <td>250</td>\n",
       "      <td>[436]</td>\n",
       "    </tr>\n",
       "    <tr>\n",
       "      <th>161</th>\n",
       "      <td>254</td>\n",
       "      <td>[438, 437]</td>\n",
       "    </tr>\n",
       "    <tr>\n",
       "      <th>162</th>\n",
       "      <td>255</td>\n",
       "      <td>[439]</td>\n",
       "    </tr>\n",
       "    <tr>\n",
       "      <th>163</th>\n",
       "      <td>258</td>\n",
       "      <td>[440, 443, 444, 441]</td>\n",
       "    </tr>\n",
       "    <tr>\n",
       "      <th>164</th>\n",
       "      <td>260</td>\n",
       "      <td>[446, 445]</td>\n",
       "    </tr>\n",
       "  </tbody>\n",
       "</table>\n",
       "<p>165 rows × 2 columns</p>\n",
       "</div>"
      ],
      "text/plain": [
       "     gid                                               sids\n",
       "0      1                                    [5, 4, 3, 2, 1]\n",
       "1      2  [336, 338, 339, 340, 313, 312, 311, 310, 309, ...\n",
       "2      3                                         [434, 433]\n",
       "3      5                               [480, 483, 481, 482]\n",
       "4      6  [500, 501, 499, 498, 497, 496, 495, 494, 493, ...\n",
       "..   ...                                                ...\n",
       "160  250                                              [436]\n",
       "161  254                                         [438, 437]\n",
       "162  255                                              [439]\n",
       "163  258                               [440, 443, 444, 441]\n",
       "164  260                                         [446, 445]\n",
       "\n",
       "[165 rows x 2 columns]"
      ]
     },
     "metadata": {},
     "output_type": "display_data"
    }
   ],
   "source": [
    "#Loading the flow accumulation raster locally. We will do the computation one basin at a time. We exclude the stations in Svalbard\n",
    "#for which we have no elevation data\n",
    "sql = '''with bla as\n",
    "(select sid,stationid,stationname,st_transform(geom,3045) as geom from {schema}.stations)\n",
    "select distinct a.gid, array_agg(sid) as sids\n",
    "from nedborfelt.vassdragsomr as a, bla as b \n",
    "where st_intersects(a.geom,b.geom)\n",
    "and st_y(b.geom) < 8e6\n",
    "group by a.gid;'''.format(schema = schema)\n",
    "\n",
    "a = query(sql)\n",
    "display(a)"
   ]
  },
  {
   "cell_type": "code",
   "execution_count": 9,
   "id": "atlantic-census",
   "metadata": {},
   "outputs": [
    {
     "data": {
      "text/plain": [
       "1"
      ]
     },
     "metadata": {},
     "output_type": "display_data"
    },
    {
     "data": {
      "text/plain": [
       "[5, 4, 3, 2, 1]"
      ]
     },
     "metadata": {},
     "output_type": "display_data"
    }
   ],
   "source": [
    "#Processing all stations within one basin\n",
    "\n",
    "#Creating temporary directory to download data and place intermediary files\n",
    "with Connection('localhost') as c:\n",
    "    c.local('rm -rf geodata && mkdir geodata')\n",
    "\n",
    "\n",
    "for i,j in a[:1].iterrows():\n",
    "    gid = j['gid']\n",
    "    sids = j['sids']\n",
    "    display(gid,sids)\n",
    "    with Connection(**config) as c:\n",
    "        c.get('/home/jose-luis/flatLake/basin_{}_flow_acc.tif'.format(gid),'./geodata/')"
   ]
  },
  {
   "cell_type": "code",
   "execution_count": 10,
   "id": "interim-monthly",
   "metadata": {},
   "outputs": [
    {
     "data": {
      "text/html": [
       "<div>\n",
       "<style scoped>\n",
       "    .dataframe tbody tr th:only-of-type {\n",
       "        vertical-align: middle;\n",
       "    }\n",
       "\n",
       "    .dataframe tbody tr th {\n",
       "        vertical-align: top;\n",
       "    }\n",
       "\n",
       "    .dataframe thead th {\n",
       "        text-align: right;\n",
       "    }\n",
       "</style>\n",
       "<table border=\"1\" class=\"dataframe\">\n",
       "  <thead>\n",
       "    <tr style=\"text-align: right;\">\n",
       "      <th></th>\n",
       "      <th>st_srid</th>\n",
       "    </tr>\n",
       "  </thead>\n",
       "  <tbody>\n",
       "    <tr>\n",
       "      <th>0</th>\n",
       "      <td>3045</td>\n",
       "    </tr>\n",
       "  </tbody>\n",
       "</table>\n",
       "</div>"
      ],
      "text/plain": [
       "   st_srid\n",
       "0     3045"
      ]
     },
     "metadata": {},
     "output_type": "display_data"
    }
   ],
   "source": [
    "display(query('''select st_srid(geom) from nedborfelt.vassdragsomr  limit 1;'''))"
   ]
  },
  {
   "cell_type": "code",
   "execution_count": 12,
   "id": "urban-training",
   "metadata": {},
   "outputs": [
    {
     "data": {
      "text/plain": [
       "(16050, 4150)"
      ]
     },
     "metadata": {},
     "output_type": "display_data"
    }
   ],
   "source": [
    "import tifffile as tif\n",
    "\n",
    "a = tif.imread('geodata/basin_1_flow_acc.tif')\n",
    "display(a.shape)\n",
    "# array = geoTiff.read()\n"
   ]
  },
  {
   "cell_type": "code",
   "execution_count": 13,
   "id": "practical-documentary",
   "metadata": {},
   "outputs": [
    {
     "data": {
      "text/plain": [
       "['T',\n",
       " '__abs__',\n",
       " '__add__',\n",
       " '__and__',\n",
       " '__array__',\n",
       " '__array_finalize__',\n",
       " '__array_function__',\n",
       " '__array_interface__',\n",
       " '__array_prepare__',\n",
       " '__array_priority__',\n",
       " '__array_struct__',\n",
       " '__array_ufunc__',\n",
       " '__array_wrap__',\n",
       " '__bool__',\n",
       " '__class__',\n",
       " '__complex__',\n",
       " '__contains__',\n",
       " '__copy__',\n",
       " '__deepcopy__',\n",
       " '__delattr__',\n",
       " '__delitem__',\n",
       " '__dir__',\n",
       " '__divmod__',\n",
       " '__doc__',\n",
       " '__eq__',\n",
       " '__float__',\n",
       " '__floordiv__',\n",
       " '__format__',\n",
       " '__ge__',\n",
       " '__getattribute__',\n",
       " '__getitem__',\n",
       " '__gt__',\n",
       " '__hash__',\n",
       " '__iadd__',\n",
       " '__iand__',\n",
       " '__ifloordiv__',\n",
       " '__ilshift__',\n",
       " '__imatmul__',\n",
       " '__imod__',\n",
       " '__imul__',\n",
       " '__index__',\n",
       " '__init__',\n",
       " '__init_subclass__',\n",
       " '__int__',\n",
       " '__invert__',\n",
       " '__ior__',\n",
       " '__ipow__',\n",
       " '__irshift__',\n",
       " '__isub__',\n",
       " '__iter__',\n",
       " '__itruediv__',\n",
       " '__ixor__',\n",
       " '__le__',\n",
       " '__len__',\n",
       " '__lshift__',\n",
       " '__lt__',\n",
       " '__matmul__',\n",
       " '__mod__',\n",
       " '__mul__',\n",
       " '__ne__',\n",
       " '__neg__',\n",
       " '__new__',\n",
       " '__or__',\n",
       " '__pos__',\n",
       " '__pow__',\n",
       " '__radd__',\n",
       " '__rand__',\n",
       " '__rdivmod__',\n",
       " '__reduce__',\n",
       " '__reduce_ex__',\n",
       " '__repr__',\n",
       " '__rfloordiv__',\n",
       " '__rlshift__',\n",
       " '__rmatmul__',\n",
       " '__rmod__',\n",
       " '__rmul__',\n",
       " '__ror__',\n",
       " '__rpow__',\n",
       " '__rrshift__',\n",
       " '__rshift__',\n",
       " '__rsub__',\n",
       " '__rtruediv__',\n",
       " '__rxor__',\n",
       " '__setattr__',\n",
       " '__setitem__',\n",
       " '__setstate__',\n",
       " '__sizeof__',\n",
       " '__str__',\n",
       " '__sub__',\n",
       " '__subclasshook__',\n",
       " '__truediv__',\n",
       " '__xor__',\n",
       " 'all',\n",
       " 'any',\n",
       " 'argmax',\n",
       " 'argmin',\n",
       " 'argpartition',\n",
       " 'argsort',\n",
       " 'astype',\n",
       " 'base',\n",
       " 'byteswap',\n",
       " 'choose',\n",
       " 'clip',\n",
       " 'compress',\n",
       " 'conj',\n",
       " 'conjugate',\n",
       " 'copy',\n",
       " 'ctypes',\n",
       " 'cumprod',\n",
       " 'cumsum',\n",
       " 'data',\n",
       " 'diagonal',\n",
       " 'dot',\n",
       " 'dtype',\n",
       " 'dump',\n",
       " 'dumps',\n",
       " 'fill',\n",
       " 'flags',\n",
       " 'flat',\n",
       " 'flatten',\n",
       " 'getfield',\n",
       " 'imag',\n",
       " 'item',\n",
       " 'itemset',\n",
       " 'itemsize',\n",
       " 'max',\n",
       " 'mean',\n",
       " 'min',\n",
       " 'nbytes',\n",
       " 'ndim',\n",
       " 'newbyteorder',\n",
       " 'nonzero',\n",
       " 'partition',\n",
       " 'prod',\n",
       " 'ptp',\n",
       " 'put',\n",
       " 'ravel',\n",
       " 'real',\n",
       " 'repeat',\n",
       " 'reshape',\n",
       " 'resize',\n",
       " 'round',\n",
       " 'searchsorted',\n",
       " 'setfield',\n",
       " 'setflags',\n",
       " 'shape',\n",
       " 'size',\n",
       " 'sort',\n",
       " 'squeeze',\n",
       " 'std',\n",
       " 'strides',\n",
       " 'sum',\n",
       " 'swapaxes',\n",
       " 'take',\n",
       " 'tobytes',\n",
       " 'tofile',\n",
       " 'tolist',\n",
       " 'tostring',\n",
       " 'trace',\n",
       " 'transpose',\n",
       " 'var',\n",
       " 'view']"
      ]
     },
     "execution_count": 13,
     "metadata": {},
     "output_type": "execute_result"
    }
   ],
   "source": [
    "dir(a)\n"
   ]
  },
  {
   "cell_type": "code",
   "execution_count": 17,
   "id": "nearby-arrangement",
   "metadata": {},
   "outputs": [
    {
     "data": {
      "text/plain": [
       "(16050, 4150)"
      ]
     },
     "execution_count": 17,
     "metadata": {},
     "output_type": "execute_result"
    }
   ],
   "source": [
    "a.imag.shape"
   ]
  },
  {
   "cell_type": "code",
   "execution_count": 18,
   "id": "macro-boards",
   "metadata": {},
   "outputs": [
    {
     "data": {
      "text/plain": [
       "<function ndarray.itemset>"
      ]
     },
     "execution_count": 18,
     "metadata": {},
     "output_type": "execute_result"
    }
   ],
   "source": [
    "a.itemset"
   ]
  },
  {
   "cell_type": "code",
   "execution_count": 19,
   "id": "damaged-grounds",
   "metadata": {},
   "outputs": [
    {
     "data": {
      "text/plain": [
       "<function ndarray.tolist>"
      ]
     },
     "execution_count": 19,
     "metadata": {},
     "output_type": "execute_result"
    }
   ],
   "source": [
    "a.tolist"
   ]
  },
  {
   "cell_type": "code",
   "execution_count": 28,
   "id": "difficult-uzbekistan",
   "metadata": {},
   "outputs": [
    {
     "data": {
      "text/plain": [
       "'ImageWidth'"
      ]
     },
     "metadata": {},
     "output_type": "display_data"
    },
    {
     "data": {
      "text/plain": [
       "'ImageLength'"
      ]
     },
     "metadata": {},
     "output_type": "display_data"
    },
    {
     "data": {
      "text/plain": [
       "'BitsPerSample'"
      ]
     },
     "metadata": {},
     "output_type": "display_data"
    },
    {
     "data": {
      "text/plain": [
       "'Compression'"
      ]
     },
     "metadata": {},
     "output_type": "display_data"
    },
    {
     "data": {
      "text/plain": [
       "'PhotometricInterpretation'"
      ]
     },
     "metadata": {},
     "output_type": "display_data"
    },
    {
     "data": {
      "text/plain": [
       "'StripOffsets'"
      ]
     },
     "metadata": {},
     "output_type": "display_data"
    },
    {
     "data": {
      "text/plain": [
       "'SamplesPerPixel'"
      ]
     },
     "metadata": {},
     "output_type": "display_data"
    },
    {
     "data": {
      "text/plain": [
       "'RowsPerStrip'"
      ]
     },
     "metadata": {},
     "output_type": "display_data"
    },
    {
     "data": {
      "text/plain": [
       "'StripByteCounts'"
      ]
     },
     "metadata": {},
     "output_type": "display_data"
    },
    {
     "data": {
      "text/plain": [
       "'PlanarConfiguration'"
      ]
     },
     "metadata": {},
     "output_type": "display_data"
    },
    {
     "data": {
      "text/plain": [
       "'Predictor'"
      ]
     },
     "metadata": {},
     "output_type": "display_data"
    },
    {
     "data": {
      "text/plain": [
       "'SampleFormat'"
      ]
     },
     "metadata": {},
     "output_type": "display_data"
    },
    {
     "data": {
      "text/plain": [
       "'ModelPixelScaleTag'"
      ]
     },
     "metadata": {},
     "output_type": "display_data"
    },
    {
     "data": {
      "text/plain": [
       "'ModelTiepointTag'"
      ]
     },
     "metadata": {},
     "output_type": "display_data"
    },
    {
     "data": {
      "text/plain": [
       "'GeoKeyDirectoryTag'"
      ]
     },
     "metadata": {},
     "output_type": "display_data"
    },
    {
     "data": {
      "text/plain": [
       "'GeoDoubleParamsTag'"
      ]
     },
     "metadata": {},
     "output_type": "display_data"
    },
    {
     "data": {
      "text/plain": [
       "'GeoAsciiParamsTag'"
      ]
     },
     "metadata": {},
     "output_type": "display_data"
    },
    {
     "data": {
      "text/plain": [
       "'GDAL_NODATA'"
      ]
     },
     "metadata": {},
     "output_type": "display_data"
    }
   ],
   "source": [
    "import tifffile as tif\n",
    "with tif.TiffFile('geodata/basin_1_flow_acc.tif') as tif:\n",
    "    for page in tif.pages:\n",
    "        for tag in page.tags:\n",
    "            tag_name, tag_value = tag.name, tag.value\n",
    "            display(tag_name)\n"
   ]
  },
  {
   "cell_type": "code",
   "execution_count": 34,
   "id": "authentic-management",
   "metadata": {},
   "outputs": [],
   "source": [
    "import glob\n",
    "with Connection(**config) as c:\n",
    "    c.run('rm -rf era5 && mkdir era5')\n",
    "    for file in glob.glob('/home/jovyan/shared/era5/*.nc') :\n",
    "        c.put(file,'./era5/')\n",
    "    \n",
    "\n",
    "\n"
   ]
  },
  {
   "cell_type": "code",
   "execution_count": null,
   "id": "finite-anthony",
   "metadata": {},
   "outputs": [],
   "source": []
  }
 ],
 "metadata": {
  "kernelspec": {
   "display_name": "Python 3",
   "language": "python",
   "name": "python3"
  },
  "language_info": {
   "codemirror_mode": {
    "name": "ipython",
    "version": 3
   },
   "file_extension": ".py",
   "mimetype": "text/x-python",
   "name": "python",
   "nbconvert_exporter": "python",
   "pygments_lexer": "ipython3",
   "version": "3.8.6"
  }
 },
 "nbformat": 4,
 "nbformat_minor": 5
}
